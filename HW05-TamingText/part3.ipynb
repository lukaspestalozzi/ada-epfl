{
 "cells": [
  {
   "cell_type": "markdown",
   "metadata": {},
   "source": [
    "## Part3\n",
    "Using the models.ldamodel module from the gensim library, run topic modeling over the corpus. Explore different numbers of topics (varying from 5 to 50), and settle for the parameter which returns topics that you consider to be meaningful at first sight."
   ]
  },
  {
   "cell_type": "code",
   "execution_count": null,
   "metadata": {
    "collapsed": false
   },
   "outputs": [],
   "source": [
    "# imports\n",
    "import pandas as pd\n",
    "import numpy as np\n",
    "from nltk.corpus import stopwords\n",
    "from gensim import corpora, models, utils\n",
    "from nltk.stem import WordNetLemmatizer\n"
   ]
  },
  {
   "cell_type": "code",
   "execution_count": null,
   "metadata": {
    "collapsed": false
   },
   "outputs": [],
   "source": [
    "data = pd.read_csv('hillary-clinton-emails/Emails.csv', index_col=0).dropna()\n",
    "texts = pd.concat((data.ExtractedBodyText ,data.ExtractedSubject), axis=1)\n"
   ]
  },
  {
   "cell_type": "code",
   "execution_count": null,
   "metadata": {
    "collapsed": true
   },
   "outputs": [],
   "source": [
    "sw = stopwords.words('english') + ['re', 'fw', 'fvv', 'fwd']"
   ]
  },
  {
   "cell_type": "code",
   "execution_count": null,
   "metadata": {
    "collapsed": false
   },
   "outputs": [],
   "source": [
    "def fil(row):\n",
    "    t = utils.simple_preprocess(row.ExtractedSubject)\n",
    "    filt = list(filter(lambda x: x not in sw, t))\n",
    "    return ' '.join(filt)\n",
    "texts['ExtractedSubject'] = texts.apply(fil, axis=1)"
   ]
  },
  {
   "cell_type": "code",
   "execution_count": null,
   "metadata": {
    "collapsed": false
   },
   "outputs": [],
   "source": [
    "texts.groupby(by='ExtractedSubject', as_index=False).apply(lambda x: (x + ' ').sum())"
   ]
  },
  {
   "cell_type": "code",
   "execution_count": null,
   "metadata": {
    "collapsed": false
   },
   "outputs": [],
   "source": [
    "texts.ExtractedBodyText.fillna('',inplace=True)\n",
    "texts.ExtractedSubject.fillna('',inplace=True)\n",
    "texts['SubjectBody'] = texts.ExtractedBodyText +  ' ' + texts.ExtractedSubject\n",
    "mails = texts.SubjectBody\n",
    "tokens = []\n",
    "for text in mails:\n",
    "    t = utils.simple_preprocess(text)\n",
    "    filt = list(filter(lambda x: x not in sw, t))\n",
    "    lemmatizer = WordNetLemmatizer()\n",
    "    lemmatized = [lemmatizer.lemmatize(x) for x in filt]\n",
    "    tokens.append(lemmatized)\n",
    "\n",
    "dictionary = corpora.Dictionary(tokens)\n",
    "corpus = [dictionary.doc2bow(token) for token in tokens]"
   ]
  },
  {
   "cell_type": "code",
   "execution_count": null,
   "metadata": {
    "collapsed": false
   },
   "outputs": [],
   "source": [
    "lda = models.LdaModel(corpus, num_topics=15, id2word = dictionary)\n",
    "lda.print_topics(lda.num_topics)"
   ]
  },
  {
   "cell_type": "code",
   "execution_count": null,
   "metadata": {
    "collapsed": false
   },
   "outputs": [],
   "source": []
  }
 ],
 "metadata": {
  "anaconda-cloud": {},
  "kernelspec": {
   "display_name": "Python [Root]",
   "language": "python",
   "name": "Python [Root]"
  },
  "language_info": {
   "codemirror_mode": {
    "name": "ipython",
    "version": 3
   },
   "file_extension": ".py",
   "mimetype": "text/x-python",
   "name": "python",
   "nbconvert_exporter": "python",
   "pygments_lexer": "ipython3",
   "version": "3.5.2"
  }
 },
 "nbformat": 4,
 "nbformat_minor": 0
}
