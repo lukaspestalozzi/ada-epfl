{
 "cells": [
  {
   "cell_type": "markdown",
   "metadata": {},
   "source": [
    "# HW3 Interactive Viz\n",
    "#### Background\n",
    "In this homework we will practice with interactive visualization, which is the key ingredient of many successful viz (especially when it comes to infographics).\n",
    "You will be working with the P3 database of the [SNSF](http://www.snf.ch/en/Pages/default.aspx) (Swiss National Science Foundation).\n",
    "As you can see from their [entry page](http://p3.snf.ch/), P3 already offers some ready-made viz, but we want to build a more advanced one for the sake\n",
    "of quick data exploration. Therefore, start by [downloading the raw data](http://p3.snf.ch/Pages/DataAndDocumentation.aspx) (just for the Grant Export), and read carefully\n",
    "the documentation to understand the schema. Install then [Folium](https://github.com/python-visualization/folium) to deal with geographical data (*HINT*: it is not\n",
    "available in your standard Anaconda environment, therefore search on the Web how to install it easily!) The README file of Folium comes with very clear examples, and links \n",
    "to their own iPython Notebooks -- make good use of this information. For your own convenience, in this same directory you can already find a TopoJSON file with the \n",
    "geo-coordinates of each Swiss canton (which can be used as an overlay on the Folium maps).\n",
    "\n",
    "\n",
    "#### Assignment\n",
    "1. Build a [Choropleth map](https://en.wikipedia.org/wiki/Choropleth_map) which shows intuitively (i.e., use colors wisely) how much grant money goes to each Swiss canton.\n",
    "To do so, you will need to use the provided TopoJSON file, combined with the Choropleth map example you can find in the Folium README file.\n",
    "\n",
    "*HINT*: the P3 database is formed by entries which assign a grant (and its approved amount) to a University name. Therefore you will need a smart strategy to go from University\n",
    "to Canton name. The [Geonames Full Text Search API in JSON](http://www.geonames.org/export/web-services.html) can help you with this -- try to use it as much as possible\n",
    "to build the canton mappings that you need. For those universities for which you cannot find a mapping via the API, you are then allowed to build it manually -- feel free to stop \n",
    "by the time you mapped the top-95% of the universities. I also recommend you to use an intermediate viz step for debugging purposes, showing all the universties as markers in your map (e.g., if you don't select the right results from the Geonames API, some of your markers might be placed on nearby countries...)\n",
    "\n",
    "2. *BONUS*: using the map you have just built, and the geographical information contained in it, could you give a *rough estimate* of the difference in research funding\n",
    "between the areas divided by the [Röstigraben](https://en.wikipedia.org/wiki/R%C3%B6stigraben)?\n",
    "\n",
    "*HINT*: for those cantons cut through by the Röstigraben, [this viz](http://p3.snf.ch/Default.aspx?id=allcharts) can be helpful!\n"
   ]
  },
  {
   "cell_type": "markdown",
   "metadata": {},
   "source": [
    "## Data exploration and cleaning\n",
    "We will: \n",
    "- load the data\n",
    "- look at it\n",
    "- remove the columns we don't need\n",
    "- handle NaN values (ie. remove them)\n",
    "- aggregate grants per institution\n",
    "\n",
    "At the end of that phase we want a DataFrame indicating the total amount of grants each institution has received based on the given data."
   ]
  },
  {
   "cell_type": "code",
   "execution_count": 1,
   "metadata": {
    "collapsed": true
   },
   "outputs": [],
   "source": [
    "# imports\n",
    "import pandas as pd\n",
    "import numpy as np\n",
    "import seaborn as sns\n",
    "import matplotlib.pyplot as plt\n",
    "from matplotlib.pyplot import show\n",
    "\n",
    "%matplotlib inline\n",
    "sns.set_context('notebook')\n",
    "pd.options.mode.chained_assignment = None  # default='warn'\n"
   ]
  },
  {
   "cell_type": "markdown",
   "metadata": {},
   "source": [
    "Add a function to control the writes to csv file."
   ]
  },
  {
   "cell_type": "code",
   "execution_count": 23,
   "metadata": {
    "collapsed": true
   },
   "outputs": [],
   "source": [
    "# set to true if you want to write the data to csv\n",
    "do_persist = True"
   ]
  },
  {
   "cell_type": "code",
   "execution_count": 3,
   "metadata": {
    "collapsed": true
   },
   "outputs": [],
   "source": [
    "def write_to_csv(df, file_name):\n",
    "    if do_persist:\n",
    "        df.to_csv(file_name)\n",
    "        print('done writing')\n",
    "        return True\n",
    "    else:\n",
    "        return False"
   ]
  },
  {
   "cell_type": "markdown",
   "metadata": {},
   "source": [
    "Load the data and check the types of the columns"
   ]
  },
  {
   "cell_type": "code",
   "execution_count": 4,
   "metadata": {
    "collapsed": false,
    "scrolled": true
   },
   "outputs": [
    {
     "data": {
      "text/plain": [
       "﻿\"Project Number\"                int64\n",
       "Project Title                   object\n",
       "Project Title English           object\n",
       "Responsible Applicant           object\n",
       "Funding Instrument              object\n",
       "Funding Instrument Hierarchy    object\n",
       "Institution                     object\n",
       "University                      object\n",
       "Discipline Number                int64\n",
       "Discipline Name                 object\n",
       "Discipline Name Hierarchy       object\n",
       "Start Date                      object\n",
       "End Date                        object\n",
       "Approved Amount                 object\n",
       "Keywords                        object\n",
       "dtype: object"
      ]
     },
     "execution_count": 4,
     "metadata": {},
     "output_type": "execute_result"
    }
   ],
   "source": [
    "data = pd.read_csv('data/GrantExport.csv', delimiter=';')\n",
    "data.dtypes"
   ]
  },
  {
   "cell_type": "markdown",
   "metadata": {},
   "source": [
    "Look at the DF"
   ]
  },
  {
   "cell_type": "code",
   "execution_count": 5,
   "metadata": {
    "collapsed": false,
    "scrolled": true
   },
   "outputs": [
    {
     "data": {
      "text/html": [
       "<div>\n",
       "<table border=\"1\" class=\"dataframe\">\n",
       "  <thead>\n",
       "    <tr style=\"text-align: right;\">\n",
       "      <th></th>\n",
       "      <th>﻿\"Project Number\"</th>\n",
       "      <th>Project Title</th>\n",
       "      <th>Project Title English</th>\n",
       "      <th>Responsible Applicant</th>\n",
       "      <th>Funding Instrument</th>\n",
       "      <th>Funding Instrument Hierarchy</th>\n",
       "      <th>Institution</th>\n",
       "      <th>University</th>\n",
       "      <th>Discipline Number</th>\n",
       "      <th>Discipline Name</th>\n",
       "      <th>Discipline Name Hierarchy</th>\n",
       "      <th>Start Date</th>\n",
       "      <th>End Date</th>\n",
       "      <th>Approved Amount</th>\n",
       "      <th>Keywords</th>\n",
       "    </tr>\n",
       "  </thead>\n",
       "  <tbody>\n",
       "    <tr>\n",
       "      <th>0</th>\n",
       "      <td>1</td>\n",
       "      <td>Schlussband (Bd. VI) der Jacob Burckhardt-Biog...</td>\n",
       "      <td>NaN</td>\n",
       "      <td>Kaegi Werner</td>\n",
       "      <td>Project funding (Div. I-III)</td>\n",
       "      <td>Project funding</td>\n",
       "      <td>NaN</td>\n",
       "      <td>Nicht zuteilbar - NA</td>\n",
       "      <td>10302</td>\n",
       "      <td>Swiss history</td>\n",
       "      <td>Human and Social Sciences;Theology &amp; religious...</td>\n",
       "      <td>01.10.1975</td>\n",
       "      <td>30.09.1976</td>\n",
       "      <td>11619.00</td>\n",
       "      <td>NaN</td>\n",
       "    </tr>\n",
       "    <tr>\n",
       "      <th>1</th>\n",
       "      <td>4</td>\n",
       "      <td>Batterie de tests à l'usage des enseignants po...</td>\n",
       "      <td>NaN</td>\n",
       "      <td>Massarenti Léonard</td>\n",
       "      <td>Project funding (Div. I-III)</td>\n",
       "      <td>Project funding</td>\n",
       "      <td>Faculté de Psychologie et des Sciences de l'Ed...</td>\n",
       "      <td>Université de Genève - GE</td>\n",
       "      <td>10104</td>\n",
       "      <td>Educational science and Pedagogy</td>\n",
       "      <td>Human and Social Sciences;Psychology, educatio...</td>\n",
       "      <td>01.10.1975</td>\n",
       "      <td>30.09.1976</td>\n",
       "      <td>41022.00</td>\n",
       "      <td>NaN</td>\n",
       "    </tr>\n",
       "    <tr>\n",
       "      <th>2</th>\n",
       "      <td>5</td>\n",
       "      <td>Kritische Erstausgabe der \"Evidentiae contra D...</td>\n",
       "      <td>NaN</td>\n",
       "      <td>Kommission für das Corpus philosophorum medii ...</td>\n",
       "      <td>Project funding (Div. I-III)</td>\n",
       "      <td>Project funding</td>\n",
       "      <td>Kommission für das Corpus philosophorum medii ...</td>\n",
       "      <td>NPO (Biblioth., Museen, Verwalt.) - NPO</td>\n",
       "      <td>10101</td>\n",
       "      <td>Philosophy</td>\n",
       "      <td>Human and Social Sciences;Linguistics and lite...</td>\n",
       "      <td>01.03.1976</td>\n",
       "      <td>28.02.1985</td>\n",
       "      <td>79732.00</td>\n",
       "      <td>NaN</td>\n",
       "    </tr>\n",
       "    <tr>\n",
       "      <th>3</th>\n",
       "      <td>6</td>\n",
       "      <td>Katalog der datierten Handschriften in der Sch...</td>\n",
       "      <td>NaN</td>\n",
       "      <td>Burckhardt Max</td>\n",
       "      <td>Project funding (Div. I-III)</td>\n",
       "      <td>Project funding</td>\n",
       "      <td>Abt. Handschriften und Alte Drucke Bibliothek ...</td>\n",
       "      <td>Universität Basel - BS</td>\n",
       "      <td>10302</td>\n",
       "      <td>Swiss history</td>\n",
       "      <td>Human and Social Sciences;Theology &amp; religious...</td>\n",
       "      <td>01.10.1975</td>\n",
       "      <td>30.09.1976</td>\n",
       "      <td>52627.00</td>\n",
       "      <td>NaN</td>\n",
       "    </tr>\n",
       "    <tr>\n",
       "      <th>4</th>\n",
       "      <td>7</td>\n",
       "      <td>Wissenschaftliche Mitarbeit am Thesaurus Lingu...</td>\n",
       "      <td>NaN</td>\n",
       "      <td>Schweiz. Thesauruskommission</td>\n",
       "      <td>Project funding (Div. I-III)</td>\n",
       "      <td>Project funding</td>\n",
       "      <td>Schweiz. Thesauruskommission</td>\n",
       "      <td>NPO (Biblioth., Museen, Verwalt.) - NPO</td>\n",
       "      <td>10303</td>\n",
       "      <td>Ancient history and Classical studies</td>\n",
       "      <td>Human and Social Sciences;Theology &amp; religious...</td>\n",
       "      <td>01.01.1976</td>\n",
       "      <td>30.04.1978</td>\n",
       "      <td>120042.00</td>\n",
       "      <td>NaN</td>\n",
       "    </tr>\n",
       "  </tbody>\n",
       "</table>\n",
       "</div>"
      ],
      "text/plain": [
       "   ﻿\"Project Number\"                                      Project Title  \\\n",
       "0                  1  Schlussband (Bd. VI) der Jacob Burckhardt-Biog...   \n",
       "1                  4  Batterie de tests à l'usage des enseignants po...   \n",
       "2                  5  Kritische Erstausgabe der \"Evidentiae contra D...   \n",
       "3                  6  Katalog der datierten Handschriften in der Sch...   \n",
       "4                  7  Wissenschaftliche Mitarbeit am Thesaurus Lingu...   \n",
       "\n",
       "  Project Title English                              Responsible Applicant  \\\n",
       "0                   NaN                                       Kaegi Werner   \n",
       "1                   NaN                                 Massarenti Léonard   \n",
       "2                   NaN  Kommission für das Corpus philosophorum medii ...   \n",
       "3                   NaN                                     Burckhardt Max   \n",
       "4                   NaN                       Schweiz. Thesauruskommission   \n",
       "\n",
       "             Funding Instrument Funding Instrument Hierarchy  \\\n",
       "0  Project funding (Div. I-III)              Project funding   \n",
       "1  Project funding (Div. I-III)              Project funding   \n",
       "2  Project funding (Div. I-III)              Project funding   \n",
       "3  Project funding (Div. I-III)              Project funding   \n",
       "4  Project funding (Div. I-III)              Project funding   \n",
       "\n",
       "                                         Institution  \\\n",
       "0                                                NaN   \n",
       "1  Faculté de Psychologie et des Sciences de l'Ed...   \n",
       "2  Kommission für das Corpus philosophorum medii ...   \n",
       "3  Abt. Handschriften und Alte Drucke Bibliothek ...   \n",
       "4                       Schweiz. Thesauruskommission   \n",
       "\n",
       "                                University  Discipline Number  \\\n",
       "0                     Nicht zuteilbar - NA              10302   \n",
       "1                Université de Genève - GE              10104   \n",
       "2  NPO (Biblioth., Museen, Verwalt.) - NPO              10101   \n",
       "3                   Universität Basel - BS              10302   \n",
       "4  NPO (Biblioth., Museen, Verwalt.) - NPO              10303   \n",
       "\n",
       "                         Discipline Name  \\\n",
       "0                          Swiss history   \n",
       "1       Educational science and Pedagogy   \n",
       "2                             Philosophy   \n",
       "3                          Swiss history   \n",
       "4  Ancient history and Classical studies   \n",
       "\n",
       "                           Discipline Name Hierarchy  Start Date    End Date  \\\n",
       "0  Human and Social Sciences;Theology & religious...  01.10.1975  30.09.1976   \n",
       "1  Human and Social Sciences;Psychology, educatio...  01.10.1975  30.09.1976   \n",
       "2  Human and Social Sciences;Linguistics and lite...  01.03.1976  28.02.1985   \n",
       "3  Human and Social Sciences;Theology & religious...  01.10.1975  30.09.1976   \n",
       "4  Human and Social Sciences;Theology & religious...  01.01.1976  30.04.1978   \n",
       "\n",
       "  Approved Amount Keywords  \n",
       "0        11619.00      NaN  \n",
       "1        41022.00      NaN  \n",
       "2        79732.00      NaN  \n",
       "3        52627.00      NaN  \n",
       "4       120042.00      NaN  "
      ]
     },
     "execution_count": 5,
     "metadata": {},
     "output_type": "execute_result"
    }
   ],
   "source": [
    "data.head()"
   ]
  },
  {
   "cell_type": "markdown",
   "metadata": {},
   "source": [
    "We only need the columns 'University' and 'Approved Amount'.\n",
    "All other columns are not relevant for this homework."
   ]
  },
  {
   "cell_type": "code",
   "execution_count": 6,
   "metadata": {
    "collapsed": false
   },
   "outputs": [
    {
     "data": {
      "text/plain": [
       "university    object\n",
       "amount        object\n",
       "dtype: object"
      ]
     },
     "execution_count": 6,
     "metadata": {},
     "output_type": "execute_result"
    }
   ],
   "source": [
    "# take only the relevant cols and give them nicer names\n",
    "grants = data[['University', 'Approved Amount']]\n",
    "grants.rename(columns={'University': 'university', 'Approved Amount' : 'amount'}, inplace=True)\n",
    "grants.dtypes"
   ]
  },
  {
   "cell_type": "markdown",
   "metadata": {},
   "source": [
    "If one of the two values is NaN, we can't use the entry, a grant without institution is as meanningless as a institution without grant. -> We drop it.\n",
    "Note that there are entries with 'Nicht zuteilbar - NA' which are essentially also NaN values.\n",
    "\n",
    "We drop almost 25% of all entries, which seems a lot, but what else can we do with uncomplete data?"
   ]
  },
  {
   "cell_type": "code",
   "execution_count": 7,
   "metadata": {
    "collapsed": false
   },
   "outputs": [
    {
     "name": "stdout",
     "output_type": "stream",
     "text": [
      "Dropped 24.349294189372976% of all entries.\n"
     ]
    }
   ],
   "source": [
    "nbr_entries = len(grants)\n",
    "grants = grants.replace(to_replace='Nicht zuteilbar - NA', value=np.nan)\n",
    "grants = grants.dropna()\n",
    "print('Dropped '+str((100/nbr_entries) * (nbr_entries - len(grants)))+'% of all entries.')"
   ]
  },
  {
   "cell_type": "markdown",
   "metadata": {},
   "source": [
    "Then make the 'amount' column numeric in order to make the utilisation easier."
   ]
  },
  {
   "cell_type": "code",
   "execution_count": 8,
   "metadata": {
    "collapsed": false
   },
   "outputs": [],
   "source": [
    "grants['amount'] = pd.to_numeric(grants.amount, errors='coerce')"
   ]
  },
  {
   "cell_type": "markdown",
   "metadata": {},
   "source": [
    "And finally group by the institutions and sum the grants.\n",
    "We show the sorted dataframe\n",
    "It is interesting that neither ETHZ nor EPFL is has received the most grants. "
   ]
  },
  {
   "cell_type": "code",
   "execution_count": 9,
   "metadata": {
    "collapsed": false,
    "scrolled": true
   },
   "outputs": [
    {
     "data": {
      "text/html": [
       "<div>\n",
       "<table border=\"1\" class=\"dataframe\">\n",
       "  <thead>\n",
       "    <tr style=\"text-align: right;\">\n",
       "      <th></th>\n",
       "      <th>university</th>\n",
       "      <th>amount</th>\n",
       "    </tr>\n",
       "  </thead>\n",
       "  <tbody>\n",
       "    <tr>\n",
       "      <th>70</th>\n",
       "      <td>Université de Genève - GE</td>\n",
       "      <td>1.838237e+09</td>\n",
       "    </tr>\n",
       "    <tr>\n",
       "      <th>68</th>\n",
       "      <td>Universität Zürich - ZH</td>\n",
       "      <td>1.826843e+09</td>\n",
       "    </tr>\n",
       "    <tr>\n",
       "      <th>6</th>\n",
       "      <td>ETH Zürich - ETHZ</td>\n",
       "      <td>1.635597e+09</td>\n",
       "    </tr>\n",
       "    <tr>\n",
       "      <th>65</th>\n",
       "      <td>Universität Bern - BE</td>\n",
       "      <td>1.519373e+09</td>\n",
       "    </tr>\n",
       "    <tr>\n",
       "      <th>64</th>\n",
       "      <td>Universität Basel - BS</td>\n",
       "      <td>1.352251e+09</td>\n",
       "    </tr>\n",
       "    <tr>\n",
       "      <th>71</th>\n",
       "      <td>Université de Lausanne - LA</td>\n",
       "      <td>1.183291e+09</td>\n",
       "    </tr>\n",
       "    <tr>\n",
       "      <th>5</th>\n",
       "      <td>EPF Lausanne - EPFL</td>\n",
       "      <td>1.175316e+09</td>\n",
       "    </tr>\n",
       "    <tr>\n",
       "      <th>69</th>\n",
       "      <td>Université de Fribourg - FR</td>\n",
       "      <td>4.575262e+08</td>\n",
       "    </tr>\n",
       "    <tr>\n",
       "      <th>72</th>\n",
       "      <td>Université de Neuchâtel - NE</td>\n",
       "      <td>3.832046e+08</td>\n",
       "    </tr>\n",
       "    <tr>\n",
       "      <th>39</th>\n",
       "      <td>NPO (Biblioth., Museen, Verwalt.) - NPO</td>\n",
       "      <td>3.341306e+08</td>\n",
       "    </tr>\n",
       "    <tr>\n",
       "      <th>40</th>\n",
       "      <td>Paul Scherrer Institut - PSI</td>\n",
       "      <td>1.152690e+08</td>\n",
       "    </tr>\n",
       "    <tr>\n",
       "      <th>17</th>\n",
       "      <td>Firmen/Privatwirtschaft - FP</td>\n",
       "      <td>1.116867e+08</td>\n",
       "    </tr>\n",
       "    <tr>\n",
       "      <th>63</th>\n",
       "      <td>Università della Svizzera italiana - USI</td>\n",
       "      <td>8.497055e+07</td>\n",
       "    </tr>\n",
       "    <tr>\n",
       "      <th>7</th>\n",
       "      <td>Eidg. Anstalt für Wasserversorgung - EAWAG</td>\n",
       "      <td>7.461922e+07</td>\n",
       "    </tr>\n",
       "    <tr>\n",
       "      <th>67</th>\n",
       "      <td>Universität St. Gallen - SG</td>\n",
       "      <td>6.919495e+07</td>\n",
       "    </tr>\n",
       "    <tr>\n",
       "      <th>10</th>\n",
       "      <td>Eidg. Material und Prüfungsanstalt - EMPA</td>\n",
       "      <td>5.857452e+07</td>\n",
       "    </tr>\n",
       "    <tr>\n",
       "      <th>8</th>\n",
       "      <td>Eidg. Forschungsanstalt für Wald,Schnee,Land -...</td>\n",
       "      <td>4.836039e+07</td>\n",
       "    </tr>\n",
       "    <tr>\n",
       "      <th>75</th>\n",
       "      <td>Zürcher Fachhochschule (ohne PH) - ZFH</td>\n",
       "      <td>4.484345e+07</td>\n",
       "    </tr>\n",
       "    <tr>\n",
       "      <th>13</th>\n",
       "      <td>Fachhochschule Nordwestschweiz (ohne PH) - FHNW</td>\n",
       "      <td>4.277191e+07</td>\n",
       "    </tr>\n",
       "    <tr>\n",
       "      <th>23</th>\n",
       "      <td>Friedrich Miescher Institute - FMI</td>\n",
       "      <td>4.022914e+07</td>\n",
       "    </tr>\n",
       "    <tr>\n",
       "      <th>66</th>\n",
       "      <td>Universität Luzern - LU</td>\n",
       "      <td>3.998168e+07</td>\n",
       "    </tr>\n",
       "    <tr>\n",
       "      <th>31</th>\n",
       "      <td>Inst. de Hautes Etudes Internat. et du Dév - I...</td>\n",
       "      <td>3.886423e+07</td>\n",
       "    </tr>\n",
       "    <tr>\n",
       "      <th>58</th>\n",
       "      <td>Schweizer Kompetenzzentrum Sozialwissensch. - ...</td>\n",
       "      <td>3.473582e+07</td>\n",
       "    </tr>\n",
       "    <tr>\n",
       "      <th>24</th>\n",
       "      <td>HES de Suisse occidentale - HES-SO</td>\n",
       "      <td>3.416297e+07</td>\n",
       "    </tr>\n",
       "    <tr>\n",
       "      <th>18</th>\n",
       "      <td>Forschungsanstalten Agroscope - AGS</td>\n",
       "      <td>3.311572e+07</td>\n",
       "    </tr>\n",
       "    <tr>\n",
       "      <th>2</th>\n",
       "      <td>Berner Fachhochschule - BFH</td>\n",
       "      <td>3.102870e+07</td>\n",
       "    </tr>\n",
       "    <tr>\n",
       "      <th>55</th>\n",
       "      <td>SUP della Svizzera italiana - SUPSI</td>\n",
       "      <td>2.404008e+07</td>\n",
       "    </tr>\n",
       "    <tr>\n",
       "      <th>29</th>\n",
       "      <td>Idiap Research Institute - IDIAP</td>\n",
       "      <td>2.218311e+07</td>\n",
       "    </tr>\n",
       "    <tr>\n",
       "      <th>1</th>\n",
       "      <td>Allergie- und Asthmaforschung - SIAF</td>\n",
       "      <td>1.916996e+07</td>\n",
       "    </tr>\n",
       "    <tr>\n",
       "      <th>61</th>\n",
       "      <td>Swiss Center for Electronics and Microtech. - ...</td>\n",
       "      <td>1.806825e+07</td>\n",
       "    </tr>\n",
       "    <tr>\n",
       "      <th>...</th>\n",
       "      <td>...</td>\n",
       "      <td>...</td>\n",
       "    </tr>\n",
       "    <tr>\n",
       "      <th>3</th>\n",
       "      <td>Biotechnologie Institut Thurgau - BITG</td>\n",
       "      <td>2.492535e+06</td>\n",
       "    </tr>\n",
       "    <tr>\n",
       "      <th>49</th>\n",
       "      <td>Pädagogische Hochschule St. Gallen - PHSG</td>\n",
       "      <td>2.098387e+06</td>\n",
       "    </tr>\n",
       "    <tr>\n",
       "      <th>9</th>\n",
       "      <td>Eidg. Hochschulinstitut für Berufsbildung - EHB</td>\n",
       "      <td>2.086572e+06</td>\n",
       "    </tr>\n",
       "    <tr>\n",
       "      <th>43</th>\n",
       "      <td>Pädagogische Hochschule Bern - PHBern</td>\n",
       "      <td>1.990390e+06</td>\n",
       "    </tr>\n",
       "    <tr>\n",
       "      <th>45</th>\n",
       "      <td>Pädagogische Hochschule Luzern - PHLU</td>\n",
       "      <td>1.979281e+06</td>\n",
       "    </tr>\n",
       "    <tr>\n",
       "      <th>33</th>\n",
       "      <td>Institut Universitaire Kurt Bösch - IUKB</td>\n",
       "      <td>1.977340e+06</td>\n",
       "    </tr>\n",
       "    <tr>\n",
       "      <th>59</th>\n",
       "      <td>Schweizer Paraplegiker Forschung - SPF</td>\n",
       "      <td>1.944211e+06</td>\n",
       "    </tr>\n",
       "    <tr>\n",
       "      <th>4</th>\n",
       "      <td>Centre de rech. sur l'environnement alpin - CR...</td>\n",
       "      <td>1.567678e+06</td>\n",
       "    </tr>\n",
       "    <tr>\n",
       "      <th>27</th>\n",
       "      <td>Haute école pédagogique fribourgeoise - HEPFR</td>\n",
       "      <td>1.547498e+06</td>\n",
       "    </tr>\n",
       "    <tr>\n",
       "      <th>50</th>\n",
       "      <td>Pädagogische Hochschule Thurgau - PHTG</td>\n",
       "      <td>1.526446e+06</td>\n",
       "    </tr>\n",
       "    <tr>\n",
       "      <th>26</th>\n",
       "      <td>Haute école pédagogique du canton de Vaud - HEPL</td>\n",
       "      <td>1.430686e+06</td>\n",
       "    </tr>\n",
       "    <tr>\n",
       "      <th>34</th>\n",
       "      <td>Institut für Kulturforschung Graubünden - IKG</td>\n",
       "      <td>1.219681e+06</td>\n",
       "    </tr>\n",
       "    <tr>\n",
       "      <th>12</th>\n",
       "      <td>Fachhochschule Kalaidos - FHKD</td>\n",
       "      <td>1.090280e+06</td>\n",
       "    </tr>\n",
       "    <tr>\n",
       "      <th>35</th>\n",
       "      <td>Instituto Ricerche Solari Locarno - IRSOL</td>\n",
       "      <td>9.512380e+05</td>\n",
       "    </tr>\n",
       "    <tr>\n",
       "      <th>48</th>\n",
       "      <td>Pädagogische Hochschule Schwyz - PHSZ</td>\n",
       "      <td>9.365510e+05</td>\n",
       "    </tr>\n",
       "    <tr>\n",
       "      <th>25</th>\n",
       "      <td>Haute école pédagogique BE, JU, NE - HEPBEJUNE</td>\n",
       "      <td>6.273800e+05</td>\n",
       "    </tr>\n",
       "    <tr>\n",
       "      <th>30</th>\n",
       "      <td>Inst. Suisse de Spéléologie et Karstologie - I...</td>\n",
       "      <td>6.248190e+05</td>\n",
       "    </tr>\n",
       "    <tr>\n",
       "      <th>44</th>\n",
       "      <td>Pädagogische Hochschule Graubünden - PHGR</td>\n",
       "      <td>6.146130e+05</td>\n",
       "    </tr>\n",
       "    <tr>\n",
       "      <th>54</th>\n",
       "      <td>Robert Walser-Stiftung Bern - RWS</td>\n",
       "      <td>5.695790e+05</td>\n",
       "    </tr>\n",
       "    <tr>\n",
       "      <th>52</th>\n",
       "      <td>Pädagogische Hochschule Zug - PHZG</td>\n",
       "      <td>4.957150e+05</td>\n",
       "    </tr>\n",
       "    <tr>\n",
       "      <th>56</th>\n",
       "      <td>Schweiz. Hochschule für Logopädie Rorschach - ...</td>\n",
       "      <td>4.296000e+05</td>\n",
       "    </tr>\n",
       "    <tr>\n",
       "      <th>51</th>\n",
       "      <td>Pädagogische Hochschule Wallis - PHVS</td>\n",
       "      <td>4.254980e+05</td>\n",
       "    </tr>\n",
       "    <tr>\n",
       "      <th>47</th>\n",
       "      <td>Pädagogische Hochschule Schaffhausen - PHSH</td>\n",
       "      <td>1.766910e+05</td>\n",
       "    </tr>\n",
       "    <tr>\n",
       "      <th>42</th>\n",
       "      <td>Pädag. Hochschule Tessin (Teilschule SUPSI) - ASP</td>\n",
       "      <td>1.593170e+05</td>\n",
       "    </tr>\n",
       "    <tr>\n",
       "      <th>37</th>\n",
       "      <td>Istituto Svizzero di Roma - ISR</td>\n",
       "      <td>1.410000e+05</td>\n",
       "    </tr>\n",
       "    <tr>\n",
       "      <th>21</th>\n",
       "      <td>Forschungskommission SAGW</td>\n",
       "      <td>1.000000e+05</td>\n",
       "    </tr>\n",
       "    <tr>\n",
       "      <th>22</th>\n",
       "      <td>Franklin University Switzerland - FUS</td>\n",
       "      <td>6.595600e+04</td>\n",
       "    </tr>\n",
       "    <tr>\n",
       "      <th>60</th>\n",
       "      <td>Staatsunabh. Theologische Hochschule Basel - STHB</td>\n",
       "      <td>1.730000e+04</td>\n",
       "    </tr>\n",
       "    <tr>\n",
       "      <th>16</th>\n",
       "      <td>Fernfachhochschule Schweiz (Mitglied SUPSI) - ...</td>\n",
       "      <td>1.200000e+04</td>\n",
       "    </tr>\n",
       "    <tr>\n",
       "      <th>15</th>\n",
       "      <td>Facoltà di Teologia di Lugano - FTL</td>\n",
       "      <td>8.000000e+03</td>\n",
       "    </tr>\n",
       "  </tbody>\n",
       "</table>\n",
       "<p>76 rows × 2 columns</p>\n",
       "</div>"
      ],
      "text/plain": [
       "                                           university        amount\n",
       "70                          Université de Genève - GE  1.838237e+09\n",
       "68                            Universität Zürich - ZH  1.826843e+09\n",
       "6                                   ETH Zürich - ETHZ  1.635597e+09\n",
       "65                              Universität Bern - BE  1.519373e+09\n",
       "64                             Universität Basel - BS  1.352251e+09\n",
       "71                        Université de Lausanne - LA  1.183291e+09\n",
       "5                                 EPF Lausanne - EPFL  1.175316e+09\n",
       "69                        Université de Fribourg - FR  4.575262e+08\n",
       "72                       Université de Neuchâtel - NE  3.832046e+08\n",
       "39            NPO (Biblioth., Museen, Verwalt.) - NPO  3.341306e+08\n",
       "40                       Paul Scherrer Institut - PSI  1.152690e+08\n",
       "17                       Firmen/Privatwirtschaft - FP  1.116867e+08\n",
       "63           Università della Svizzera italiana - USI  8.497055e+07\n",
       "7          Eidg. Anstalt für Wasserversorgung - EAWAG  7.461922e+07\n",
       "67                        Universität St. Gallen - SG  6.919495e+07\n",
       "10          Eidg. Material und Prüfungsanstalt - EMPA  5.857452e+07\n",
       "8   Eidg. Forschungsanstalt für Wald,Schnee,Land -...  4.836039e+07\n",
       "75             Zürcher Fachhochschule (ohne PH) - ZFH  4.484345e+07\n",
       "13    Fachhochschule Nordwestschweiz (ohne PH) - FHNW  4.277191e+07\n",
       "23                 Friedrich Miescher Institute - FMI  4.022914e+07\n",
       "66                            Universität Luzern - LU  3.998168e+07\n",
       "31  Inst. de Hautes Etudes Internat. et du Dév - I...  3.886423e+07\n",
       "58  Schweizer Kompetenzzentrum Sozialwissensch. - ...  3.473582e+07\n",
       "24                 HES de Suisse occidentale - HES-SO  3.416297e+07\n",
       "18                Forschungsanstalten Agroscope - AGS  3.311572e+07\n",
       "2                         Berner Fachhochschule - BFH  3.102870e+07\n",
       "55                SUP della Svizzera italiana - SUPSI  2.404008e+07\n",
       "29                   Idiap Research Institute - IDIAP  2.218311e+07\n",
       "1                Allergie- und Asthmaforschung - SIAF  1.916996e+07\n",
       "61  Swiss Center for Electronics and Microtech. - ...  1.806825e+07\n",
       "..                                                ...           ...\n",
       "3              Biotechnologie Institut Thurgau - BITG  2.492535e+06\n",
       "49          Pädagogische Hochschule St. Gallen - PHSG  2.098387e+06\n",
       "9     Eidg. Hochschulinstitut für Berufsbildung - EHB  2.086572e+06\n",
       "43              Pädagogische Hochschule Bern - PHBern  1.990390e+06\n",
       "45              Pädagogische Hochschule Luzern - PHLU  1.979281e+06\n",
       "33           Institut Universitaire Kurt Bösch - IUKB  1.977340e+06\n",
       "59             Schweizer Paraplegiker Forschung - SPF  1.944211e+06\n",
       "4   Centre de rech. sur l'environnement alpin - CR...  1.567678e+06\n",
       "27      Haute école pédagogique fribourgeoise - HEPFR  1.547498e+06\n",
       "50             Pädagogische Hochschule Thurgau - PHTG  1.526446e+06\n",
       "26   Haute école pédagogique du canton de Vaud - HEPL  1.430686e+06\n",
       "34      Institut für Kulturforschung Graubünden - IKG  1.219681e+06\n",
       "12                     Fachhochschule Kalaidos - FHKD  1.090280e+06\n",
       "35          Instituto Ricerche Solari Locarno - IRSOL  9.512380e+05\n",
       "48              Pädagogische Hochschule Schwyz - PHSZ  9.365510e+05\n",
       "25     Haute école pédagogique BE, JU, NE - HEPBEJUNE  6.273800e+05\n",
       "30  Inst. Suisse de Spéléologie et Karstologie - I...  6.248190e+05\n",
       "44          Pädagogische Hochschule Graubünden - PHGR  6.146130e+05\n",
       "54                  Robert Walser-Stiftung Bern - RWS  5.695790e+05\n",
       "52                 Pädagogische Hochschule Zug - PHZG  4.957150e+05\n",
       "56  Schweiz. Hochschule für Logopädie Rorschach - ...  4.296000e+05\n",
       "51              Pädagogische Hochschule Wallis - PHVS  4.254980e+05\n",
       "47        Pädagogische Hochschule Schaffhausen - PHSH  1.766910e+05\n",
       "42  Pädag. Hochschule Tessin (Teilschule SUPSI) - ASP  1.593170e+05\n",
       "37                    Istituto Svizzero di Roma - ISR  1.410000e+05\n",
       "21                          Forschungskommission SAGW  1.000000e+05\n",
       "22              Franklin University Switzerland - FUS  6.595600e+04\n",
       "60  Staatsunabh. Theologische Hochschule Basel - STHB  1.730000e+04\n",
       "16  Fernfachhochschule Schweiz (Mitglied SUPSI) - ...  1.200000e+04\n",
       "15                Facoltà di Teologia di Lugano - FTL  8.000000e+03\n",
       "\n",
       "[76 rows x 2 columns]"
      ]
     },
     "execution_count": 9,
     "metadata": {},
     "output_type": "execute_result"
    }
   ],
   "source": [
    "universities = grants.groupby(by='university', axis=0, as_index=False).sum()\n",
    "universities.sort_values('amount', ascending=False)"
   ]
  },
  {
   "cell_type": "markdown",
   "metadata": {},
   "source": [
    "## Map the institutions to cantons\n",
    "In this section we will map each institution to the canton it belongs to with following steps:\n",
    "1. split the institution name into a 'university_name' and a 'abbreviation' part\n",
    "2. query the google places api with the university name (stripped of some special characters) and the keyword 'switzerland'\n",
    "3. then take the coorinated returned by google and use the geonames api to find the canton of the coordinates\n",
    "4. for some reason no canton is found (google or geonames did not find any match) we look if the 'university_name' contains a canton name, if so we map it to that canton.\n",
    "\n",
    "With that method we can map 61 out of the 76 institutions.\n",
    "The rest we mapped by hand (about 8). \n",
    "\n",
    "Some institutions are present in several cantons, we just split the grants of those equally among the different cantons.\n",
    "\n",
    "Note that there are several 'institutions' that can't be mapped such as 'Weitere Spitäler' (engl: 'other hospitals'). But they only account for ~4% of all grants, which is low enough for us to ignore.\n"
   ]
  },
  {
   "cell_type": "markdown",
   "metadata": {},
   "source": [
    "Split the name:"
   ]
  },
  {
   "cell_type": "code",
   "execution_count": 10,
   "metadata": {
    "collapsed": false,
    "scrolled": true
   },
   "outputs": [
    {
     "data": {
      "text/html": [
       "<div>\n",
       "<table border=\"1\" class=\"dataframe\">\n",
       "  <thead>\n",
       "    <tr style=\"text-align: right;\">\n",
       "      <th></th>\n",
       "      <th>amount</th>\n",
       "      <th>university_name</th>\n",
       "      <th>abbrev</th>\n",
       "    </tr>\n",
       "    <tr>\n",
       "      <th>university</th>\n",
       "      <th></th>\n",
       "      <th></th>\n",
       "      <th></th>\n",
       "    </tr>\n",
       "  </thead>\n",
       "  <tbody>\n",
       "    <tr>\n",
       "      <th>AO Research Institute - AORI</th>\n",
       "      <td>3435621.0</td>\n",
       "      <td>AO Research Institute</td>\n",
       "      <td>AORI</td>\n",
       "    </tr>\n",
       "  </tbody>\n",
       "</table>\n",
       "</div>"
      ],
      "text/plain": [
       "                                 amount        university_name abbrev\n",
       "university                                                           \n",
       "AO Research Institute - AORI  3435621.0  AO Research Institute   AORI"
      ]
     },
     "execution_count": 10,
     "metadata": {},
     "output_type": "execute_result"
    }
   ],
   "source": [
    "delim = ' - '\n",
    "universities['university_name'] = [fn.split(delim)[0].strip() for fn in universities['university'].values]\n",
    "universities['abbrev'] = [fn.split(delim)[1].strip() if len(fn.split(delim)) > 1 else np.nan for fn in universities['university'].values]\n",
    "universities.set_index('university', inplace=True)\n",
    "universities.head(1)"
   ]
  },
  {
   "cell_type": "markdown",
   "metadata": {},
   "source": [
    "The functions for using the APIs are situated in the file 'map_universities.py', so we run it."
   ]
  },
  {
   "cell_type": "code",
   "execution_count": 11,
   "metadata": {
    "collapsed": true
   },
   "outputs": [],
   "source": [
    "# run the python file that defines the functions to access the api's\n",
    "%run map_universities.py"
   ]
  },
  {
   "cell_type": "markdown",
   "metadata": {},
   "source": [
    "Then match each institution:"
   ]
  },
  {
   "cell_type": "code",
   "execution_count": null,
   "metadata": {
    "collapsed": false,
    "scrolled": true
   },
   "outputs": [],
   "source": [
    "# create a new column with the canton in it.\n",
    "def canton_for_university_query(uni):\n",
    "    # create the query\n",
    "    q = str(uni.university_name) + ' ' + str(uni.abbrev) + ' Switzerland' \n",
    "    # remove some characters in the query\n",
    "    to_remove = ['(', ')', ',', '.', '-', '+', '&']\n",
    "    [q.replace(ch, ' ') for ch in to_remove]\n",
    "    # execute the query\n",
    "    return canton_for_university(q)\n",
    "\n",
    "universities['canton'] = universities.apply(canton_for_university_query, axis=1)"
   ]
  },
  {
   "cell_type": "markdown",
   "metadata": {},
   "source": [
    "How many did we match?"
   ]
  },
  {
   "cell_type": "code",
   "execution_count": 13,
   "metadata": {
    "collapsed": false,
    "scrolled": true
   },
   "outputs": [
    {
     "data": {
      "text/plain": [
       "61"
      ]
     },
     "execution_count": 13,
     "metadata": {},
     "output_type": "execute_result"
    }
   ],
   "source": [
    "len(universities[~pd.isnull(universities['canton'])])"
   ]
  },
  {
   "cell_type": "markdown",
   "metadata": {},
   "source": [
    "Show the ones we did not match:"
   ]
  },
  {
   "cell_type": "code",
   "execution_count": 14,
   "metadata": {
    "collapsed": false,
    "scrolled": false
   },
   "outputs": [
    {
     "data": {
      "text/html": [
       "<div>\n",
       "<table border=\"1\" class=\"dataframe\">\n",
       "  <thead>\n",
       "    <tr style=\"text-align: right;\">\n",
       "      <th></th>\n",
       "      <th>amount</th>\n",
       "      <th>university_name</th>\n",
       "      <th>abbrev</th>\n",
       "      <th>canton</th>\n",
       "    </tr>\n",
       "    <tr>\n",
       "      <th>university</th>\n",
       "      <th></th>\n",
       "      <th></th>\n",
       "      <th></th>\n",
       "      <th></th>\n",
       "    </tr>\n",
       "  </thead>\n",
       "  <tbody>\n",
       "    <tr>\n",
       "      <th>AO Research Institute - AORI</th>\n",
       "      <td>3.435621e+06</td>\n",
       "      <td>AO Research Institute</td>\n",
       "      <td>AORI</td>\n",
       "      <td>NaN</td>\n",
       "    </tr>\n",
       "    <tr>\n",
       "      <th>Eidg. Material und Prüfungsanstalt - EMPA</th>\n",
       "      <td>5.857452e+07</td>\n",
       "      <td>Eidg. Material und Prüfungsanstalt</td>\n",
       "      <td>EMPA</td>\n",
       "      <td>NaN</td>\n",
       "    </tr>\n",
       "    <tr>\n",
       "      <th>Firmen/Privatwirtschaft - FP</th>\n",
       "      <td>1.116867e+08</td>\n",
       "      <td>Firmen/Privatwirtschaft</td>\n",
       "      <td>FP</td>\n",
       "      <td>NaN</td>\n",
       "    </tr>\n",
       "    <tr>\n",
       "      <th>Forschungsanstalten Agroscope - AGS</th>\n",
       "      <td>3.311572e+07</td>\n",
       "      <td>Forschungsanstalten Agroscope</td>\n",
       "      <td>AGS</td>\n",
       "      <td>NaN</td>\n",
       "    </tr>\n",
       "    <tr>\n",
       "      <th>Forschungskommission SAGW</th>\n",
       "      <td>1.000000e+05</td>\n",
       "      <td>Forschungskommission SAGW</td>\n",
       "      <td>NaN</td>\n",
       "      <td>NaN</td>\n",
       "    </tr>\n",
       "    <tr>\n",
       "      <th>Istituto Svizzero di Roma - ISR</th>\n",
       "      <td>1.410000e+05</td>\n",
       "      <td>Istituto Svizzero di Roma</td>\n",
       "      <td>ISR</td>\n",
       "      <td>NaN</td>\n",
       "    </tr>\n",
       "    <tr>\n",
       "      <th>NPO (Biblioth., Museen, Verwalt.) - NPO</th>\n",
       "      <td>3.341306e+08</td>\n",
       "      <td>NPO (Biblioth., Museen, Verwalt.)</td>\n",
       "      <td>NPO</td>\n",
       "      <td>NaN</td>\n",
       "    </tr>\n",
       "    <tr>\n",
       "      <th>Physikal.-Meteorolog. Observatorium Davos - PMOD</th>\n",
       "      <td>1.209844e+07</td>\n",
       "      <td>Physikal.-Meteorolog. Observatorium Davos</td>\n",
       "      <td>PMOD</td>\n",
       "      <td>NaN</td>\n",
       "    </tr>\n",
       "    <tr>\n",
       "      <th>Pädagogische Hochschule Nordwestschweiz - PHFHNW</th>\n",
       "      <td>3.476142e+06</td>\n",
       "      <td>Pädagogische Hochschule Nordwestschweiz</td>\n",
       "      <td>PHFHNW</td>\n",
       "      <td>NaN</td>\n",
       "    </tr>\n",
       "    <tr>\n",
       "      <th>Schweizer Kompetenzzentrum Sozialwissensch. - FORS</th>\n",
       "      <td>3.473582e+07</td>\n",
       "      <td>Schweizer Kompetenzzentrum Sozialwissensch.</td>\n",
       "      <td>FORS</td>\n",
       "      <td>NaN</td>\n",
       "    </tr>\n",
       "    <tr>\n",
       "      <th>Staatsunabh. Theologische Hochschule Basel - STHB</th>\n",
       "      <td>1.730000e+04</td>\n",
       "      <td>Staatsunabh. Theologische Hochschule Basel</td>\n",
       "      <td>STHB</td>\n",
       "      <td>NaN</td>\n",
       "    </tr>\n",
       "    <tr>\n",
       "      <th>Swiss Institute of Bioinformatics - SIB</th>\n",
       "      <td>1.158322e+07</td>\n",
       "      <td>Swiss Institute of Bioinformatics</td>\n",
       "      <td>SIB</td>\n",
       "      <td>NaN</td>\n",
       "    </tr>\n",
       "    <tr>\n",
       "      <th>Weitere Institute - FINST</th>\n",
       "      <td>9.256736e+06</td>\n",
       "      <td>Weitere Institute</td>\n",
       "      <td>FINST</td>\n",
       "      <td>NaN</td>\n",
       "    </tr>\n",
       "    <tr>\n",
       "      <th>Weitere Spitäler - ASPIT</th>\n",
       "      <td>1.074981e+07</td>\n",
       "      <td>Weitere Spitäler</td>\n",
       "      <td>ASPIT</td>\n",
       "      <td>NaN</td>\n",
       "    </tr>\n",
       "    <tr>\n",
       "      <th>Zürcher Fachhochschule (ohne PH) - ZFH</th>\n",
       "      <td>4.484345e+07</td>\n",
       "      <td>Zürcher Fachhochschule (ohne PH)</td>\n",
       "      <td>ZFH</td>\n",
       "      <td>NaN</td>\n",
       "    </tr>\n",
       "  </tbody>\n",
       "</table>\n",
       "</div>"
      ],
      "text/plain": [
       "                                                          amount  \\\n",
       "university                                                         \n",
       "AO Research Institute - AORI                        3.435621e+06   \n",
       "Eidg. Material und Prüfungsanstalt - EMPA           5.857452e+07   \n",
       "Firmen/Privatwirtschaft - FP                        1.116867e+08   \n",
       "Forschungsanstalten Agroscope - AGS                 3.311572e+07   \n",
       "Forschungskommission SAGW                           1.000000e+05   \n",
       "Istituto Svizzero di Roma - ISR                     1.410000e+05   \n",
       "NPO (Biblioth., Museen, Verwalt.) - NPO             3.341306e+08   \n",
       "Physikal.-Meteorolog. Observatorium Davos - PMOD    1.209844e+07   \n",
       "Pädagogische Hochschule Nordwestschweiz - PHFHNW    3.476142e+06   \n",
       "Schweizer Kompetenzzentrum Sozialwissensch. - FORS  3.473582e+07   \n",
       "Staatsunabh. Theologische Hochschule Basel - STHB   1.730000e+04   \n",
       "Swiss Institute of Bioinformatics - SIB             1.158322e+07   \n",
       "Weitere Institute - FINST                           9.256736e+06   \n",
       "Weitere Spitäler - ASPIT                            1.074981e+07   \n",
       "Zürcher Fachhochschule (ohne PH) - ZFH              4.484345e+07   \n",
       "\n",
       "                                                                                university_name  \\\n",
       "university                                                                                        \n",
       "AO Research Institute - AORI                                              AO Research Institute   \n",
       "Eidg. Material und Prüfungsanstalt - EMPA                    Eidg. Material und Prüfungsanstalt   \n",
       "Firmen/Privatwirtschaft - FP                                            Firmen/Privatwirtschaft   \n",
       "Forschungsanstalten Agroscope - AGS                               Forschungsanstalten Agroscope   \n",
       "Forschungskommission SAGW                                             Forschungskommission SAGW   \n",
       "Istituto Svizzero di Roma - ISR                                       Istituto Svizzero di Roma   \n",
       "NPO (Biblioth., Museen, Verwalt.) - NPO                       NPO (Biblioth., Museen, Verwalt.)   \n",
       "Physikal.-Meteorolog. Observatorium Davos - PMOD      Physikal.-Meteorolog. Observatorium Davos   \n",
       "Pädagogische Hochschule Nordwestschweiz - PHFHNW        Pädagogische Hochschule Nordwestschweiz   \n",
       "Schweizer Kompetenzzentrum Sozialwissensch. - FORS  Schweizer Kompetenzzentrum Sozialwissensch.   \n",
       "Staatsunabh. Theologische Hochschule Basel - STHB    Staatsunabh. Theologische Hochschule Basel   \n",
       "Swiss Institute of Bioinformatics - SIB                       Swiss Institute of Bioinformatics   \n",
       "Weitere Institute - FINST                                                     Weitere Institute   \n",
       "Weitere Spitäler - ASPIT                                                       Weitere Spitäler   \n",
       "Zürcher Fachhochschule (ohne PH) - ZFH                         Zürcher Fachhochschule (ohne PH)   \n",
       "\n",
       "                                                    abbrev canton  \n",
       "university                                                         \n",
       "AO Research Institute - AORI                          AORI    NaN  \n",
       "Eidg. Material und Prüfungsanstalt - EMPA             EMPA    NaN  \n",
       "Firmen/Privatwirtschaft - FP                            FP    NaN  \n",
       "Forschungsanstalten Agroscope - AGS                    AGS    NaN  \n",
       "Forschungskommission SAGW                              NaN    NaN  \n",
       "Istituto Svizzero di Roma - ISR                        ISR    NaN  \n",
       "NPO (Biblioth., Museen, Verwalt.) - NPO                NPO    NaN  \n",
       "Physikal.-Meteorolog. Observatorium Davos - PMOD      PMOD    NaN  \n",
       "Pädagogische Hochschule Nordwestschweiz - PHFHNW    PHFHNW    NaN  \n",
       "Schweizer Kompetenzzentrum Sozialwissensch. - FORS    FORS    NaN  \n",
       "Staatsunabh. Theologische Hochschule Basel - STHB     STHB    NaN  \n",
       "Swiss Institute of Bioinformatics - SIB                SIB    NaN  \n",
       "Weitere Institute - FINST                            FINST    NaN  \n",
       "Weitere Spitäler - ASPIT                             ASPIT    NaN  \n",
       "Zürcher Fachhochschule (ohne PH) - ZFH                 ZFH    NaN  "
      ]
     },
     "execution_count": 14,
     "metadata": {},
     "output_type": "execute_result"
    }
   ],
   "source": [
    "universities[pd.isnull(universities['canton'])]"
   ]
  },
  {
   "cell_type": "markdown",
   "metadata": {
    "collapsed": true
   },
   "source": [
    "#### Map by hand (using google & wikipedia):\n",
    "We found following informations for the unmapped institutions\n",
    "- Schweizer Kompetenzzentrum Sozialwissensch. -> lausanne -> VD\n",
    "- Weitere Institute -> translates to 'other institutes' -> nan\n",
    "- Forschungsanstalten Agroscope -> not in one place -> nan\n",
    "- Haute école pédagogique BE, JU, NE -> situated in JU but belongs to BE, JU & NE -> JU or 1/3 for each?\n",
    "- Swiss Institute of Bioinformatics -> all over the place -> nan\n",
    "- Firmen/Privatwirtschaft -> similar to 'other institutions' -> nan\n",
    "- Forschungsinstitut für Opthalmologie -> in Sitten -> VS\n",
    "- Eidg. Forschungsanstalt für Wald,Schnee,Land -> all over the place -> nan\n",
    "- Istituto Svizzero di Roma -> in ROM (italy) -> nan\n",
    "- Pädag. Hochschule Tessin (Teilschule SUPSI) -> TI\n",
    "- Pädagogische Hochschule Nordwestschweiz -> office in Windisch -> AG\n",
    "- Physikal.-Meteorolog. Observatorium Davos -> GR\n",
    "- Instituto Ricerche Solari Locarno -> TI\n",
    "- Staatsunabh. Theologische Hochschule Basel -> BS\n",
    "- Fachhochschule Nordwestschweiz (ohne PH) -> same as 'Pädagogische Hochschule Nordwestschweiz' -> AG\n",
    "- Forschungskommission SAGW -> found nothing (does it still exist?) -> nan\n",
    "- NPO (Biblioth., Museen, Verwalt.) -> several institutions -> nan\n",
    "- Swiss Center for Electronics and Microtech. -> Neuchâtel -> NE\n",
    "- Eidg. Material und Prüfungsanstalt EMPA -> in 3 cantons (BE, ZH, SG) -> nan\n",
    "- Weitere Spitäler -> several hospitals -> nan\n",
    "- 'AO Research Institute - AORI' -> Davos -> GR"
   ]
  },
  {
   "cell_type": "markdown",
   "metadata": {},
   "source": [
    "Map them:"
   ]
  },
  {
   "cell_type": "code",
   "execution_count": 15,
   "metadata": {
    "collapsed": false,
    "scrolled": true
   },
   "outputs": [
    {
     "data": {
      "text/html": [
       "<div>\n",
       "<table border=\"1\" class=\"dataframe\">\n",
       "  <thead>\n",
       "    <tr style=\"text-align: right;\">\n",
       "      <th></th>\n",
       "      <th>amount</th>\n",
       "      <th>university_name</th>\n",
       "      <th>abbrev</th>\n",
       "      <th>canton</th>\n",
       "    </tr>\n",
       "    <tr>\n",
       "      <th>university</th>\n",
       "      <th></th>\n",
       "      <th></th>\n",
       "      <th></th>\n",
       "      <th></th>\n",
       "    </tr>\n",
       "  </thead>\n",
       "  <tbody>\n",
       "    <tr>\n",
       "      <th>Eidg. Material und Prüfungsanstalt - EMPA</th>\n",
       "      <td>5.857452e+07</td>\n",
       "      <td>Eidg. Material und Prüfungsanstalt</td>\n",
       "      <td>EMPA</td>\n",
       "      <td>NaN</td>\n",
       "    </tr>\n",
       "    <tr>\n",
       "      <th>Firmen/Privatwirtschaft - FP</th>\n",
       "      <td>1.116867e+08</td>\n",
       "      <td>Firmen/Privatwirtschaft</td>\n",
       "      <td>FP</td>\n",
       "      <td>NaN</td>\n",
       "    </tr>\n",
       "    <tr>\n",
       "      <th>Forschungsanstalten Agroscope - AGS</th>\n",
       "      <td>3.311572e+07</td>\n",
       "      <td>Forschungsanstalten Agroscope</td>\n",
       "      <td>AGS</td>\n",
       "      <td>NaN</td>\n",
       "    </tr>\n",
       "    <tr>\n",
       "      <th>Forschungskommission SAGW</th>\n",
       "      <td>1.000000e+05</td>\n",
       "      <td>Forschungskommission SAGW</td>\n",
       "      <td>NaN</td>\n",
       "      <td>NaN</td>\n",
       "    </tr>\n",
       "    <tr>\n",
       "      <th>Istituto Svizzero di Roma - ISR</th>\n",
       "      <td>1.410000e+05</td>\n",
       "      <td>Istituto Svizzero di Roma</td>\n",
       "      <td>ISR</td>\n",
       "      <td>NaN</td>\n",
       "    </tr>\n",
       "    <tr>\n",
       "      <th>NPO (Biblioth., Museen, Verwalt.) - NPO</th>\n",
       "      <td>3.341306e+08</td>\n",
       "      <td>NPO (Biblioth., Museen, Verwalt.)</td>\n",
       "      <td>NPO</td>\n",
       "      <td>NaN</td>\n",
       "    </tr>\n",
       "    <tr>\n",
       "      <th>Swiss Institute of Bioinformatics - SIB</th>\n",
       "      <td>1.158322e+07</td>\n",
       "      <td>Swiss Institute of Bioinformatics</td>\n",
       "      <td>SIB</td>\n",
       "      <td>NaN</td>\n",
       "    </tr>\n",
       "    <tr>\n",
       "      <th>Weitere Institute - FINST</th>\n",
       "      <td>9.256736e+06</td>\n",
       "      <td>Weitere Institute</td>\n",
       "      <td>FINST</td>\n",
       "      <td>NaN</td>\n",
       "    </tr>\n",
       "    <tr>\n",
       "      <th>Weitere Spitäler - ASPIT</th>\n",
       "      <td>1.074981e+07</td>\n",
       "      <td>Weitere Spitäler</td>\n",
       "      <td>ASPIT</td>\n",
       "      <td>NaN</td>\n",
       "    </tr>\n",
       "  </tbody>\n",
       "</table>\n",
       "</div>"
      ],
      "text/plain": [
       "                                                 amount  \\\n",
       "university                                                \n",
       "Eidg. Material und Prüfungsanstalt - EMPA  5.857452e+07   \n",
       "Firmen/Privatwirtschaft - FP               1.116867e+08   \n",
       "Forschungsanstalten Agroscope - AGS        3.311572e+07   \n",
       "Forschungskommission SAGW                  1.000000e+05   \n",
       "Istituto Svizzero di Roma - ISR            1.410000e+05   \n",
       "NPO (Biblioth., Museen, Verwalt.) - NPO    3.341306e+08   \n",
       "Swiss Institute of Bioinformatics - SIB    1.158322e+07   \n",
       "Weitere Institute - FINST                  9.256736e+06   \n",
       "Weitere Spitäler - ASPIT                   1.074981e+07   \n",
       "\n",
       "                                                              university_name  \\\n",
       "university                                                                      \n",
       "Eidg. Material und Prüfungsanstalt - EMPA  Eidg. Material und Prüfungsanstalt   \n",
       "Firmen/Privatwirtschaft - FP                          Firmen/Privatwirtschaft   \n",
       "Forschungsanstalten Agroscope - AGS             Forschungsanstalten Agroscope   \n",
       "Forschungskommission SAGW                           Forschungskommission SAGW   \n",
       "Istituto Svizzero di Roma - ISR                     Istituto Svizzero di Roma   \n",
       "NPO (Biblioth., Museen, Verwalt.) - NPO     NPO (Biblioth., Museen, Verwalt.)   \n",
       "Swiss Institute of Bioinformatics - SIB     Swiss Institute of Bioinformatics   \n",
       "Weitere Institute - FINST                                   Weitere Institute   \n",
       "Weitere Spitäler - ASPIT                                     Weitere Spitäler   \n",
       "\n",
       "                                          abbrev canton  \n",
       "university                                               \n",
       "Eidg. Material und Prüfungsanstalt - EMPA   EMPA    NaN  \n",
       "Firmen/Privatwirtschaft - FP                  FP    NaN  \n",
       "Forschungsanstalten Agroscope - AGS          AGS    NaN  \n",
       "Forschungskommission SAGW                    NaN    NaN  \n",
       "Istituto Svizzero di Roma - ISR              ISR    NaN  \n",
       "NPO (Biblioth., Museen, Verwalt.) - NPO      NPO    NaN  \n",
       "Swiss Institute of Bioinformatics - SIB      SIB    NaN  \n",
       "Weitere Institute - FINST                  FINST    NaN  \n",
       "Weitere Spitäler - ASPIT                   ASPIT    NaN  "
      ]
     },
     "execution_count": 15,
     "metadata": {},
     "output_type": "execute_result"
    }
   ],
   "source": [
    "# do the manual mapping\n",
    "manual_map = {\n",
    "        'Schweizer Kompetenzzentrum Sozialwissensch. - FORS' : 'VD',\n",
    "        'Pädag. Hochschule Tessin (Teilschule SUPSI) - ASP' : 'TI',\n",
    "        'Pädagogische Hochschule Nordwestschweiz - PHFHNW' : 'AG',\n",
    "        'Physikal.-Meteorolog. Observatorium Davos - PMOD' : 'GR',\n",
    "        'Instituto Ricerche Solari Locarno - IRSOL' : 'TI',\n",
    "        'Staatsunabh. Theologische Hochschule Basel - STHB' : 'BS',\n",
    "        'Zürcher Fachhochschule (ohne PH) - ZFH' : 'AG',\n",
    "        'AO Research Institute - AORI' : 'GR'\n",
    "    }\n",
    "for uni_index, ctn in manual_map.items():\n",
    "    if pd.isnull(universities.at[uni_index, 'canton']):\n",
    "        universities.set_value(uni_index, 'canton', ctn)\n",
    "universities[pd.isnull(universities['canton'])]"
   ]
  },
  {
   "cell_type": "code",
   "execution_count": 16,
   "metadata": {
    "collapsed": false,
    "scrolled": false
   },
   "outputs": [
    {
     "data": {
      "text/html": [
       "<div>\n",
       "<table border=\"1\" class=\"dataframe\">\n",
       "  <thead>\n",
       "    <tr style=\"text-align: right;\">\n",
       "      <th></th>\n",
       "      <th>amount</th>\n",
       "    </tr>\n",
       "    <tr>\n",
       "      <th>canton</th>\n",
       "      <th></th>\n",
       "    </tr>\n",
       "  </thead>\n",
       "  <tbody>\n",
       "    <tr>\n",
       "      <th>ZH</th>\n",
       "      <td>3.597297e+09</td>\n",
       "    </tr>\n",
       "    <tr>\n",
       "      <th>VD</th>\n",
       "      <td>2.401656e+09</td>\n",
       "    </tr>\n",
       "    <tr>\n",
       "      <th>GE</th>\n",
       "      <td>1.877102e+09</td>\n",
       "    </tr>\n",
       "    <tr>\n",
       "      <th>BE</th>\n",
       "      <td>1.555048e+09</td>\n",
       "    </tr>\n",
       "    <tr>\n",
       "      <th>BS</th>\n",
       "      <td>1.392498e+09</td>\n",
       "    </tr>\n",
       "    <tr>\n",
       "      <th>FR</th>\n",
       "      <td>4.590737e+08</td>\n",
       "    </tr>\n",
       "    <tr>\n",
       "      <th>NE</th>\n",
       "      <td>4.018976e+08</td>\n",
       "    </tr>\n",
       "    <tr>\n",
       "      <th>AG</th>\n",
       "      <td>1.710310e+08</td>\n",
       "    </tr>\n",
       "    <tr>\n",
       "      <th>TI</th>\n",
       "      <td>1.152623e+08</td>\n",
       "    </tr>\n",
       "    <tr>\n",
       "      <th>SG</th>\n",
       "      <td>9.119410e+07</td>\n",
       "    </tr>\n",
       "    <tr>\n",
       "      <th>LU</th>\n",
       "      <td>5.467329e+07</td>\n",
       "    </tr>\n",
       "    <tr>\n",
       "      <th>SO</th>\n",
       "      <td>4.277191e+07</td>\n",
       "    </tr>\n",
       "    <tr>\n",
       "      <th>GR</th>\n",
       "      <td>3.653832e+07</td>\n",
       "    </tr>\n",
       "    <tr>\n",
       "      <th>JU</th>\n",
       "      <td>3.479035e+07</td>\n",
       "    </tr>\n",
       "    <tr>\n",
       "      <th>VS</th>\n",
       "      <td>2.964409e+07</td>\n",
       "    </tr>\n",
       "    <tr>\n",
       "      <th>TG</th>\n",
       "      <td>4.018981e+06</td>\n",
       "    </tr>\n",
       "    <tr>\n",
       "      <th>SZ</th>\n",
       "      <td>9.365510e+05</td>\n",
       "    </tr>\n",
       "    <tr>\n",
       "      <th>ZG</th>\n",
       "      <td>4.957150e+05</td>\n",
       "    </tr>\n",
       "    <tr>\n",
       "      <th>SH</th>\n",
       "      <td>1.766910e+05</td>\n",
       "    </tr>\n",
       "  </tbody>\n",
       "</table>\n",
       "</div>"
      ],
      "text/plain": [
       "              amount\n",
       "canton              \n",
       "ZH      3.597297e+09\n",
       "VD      2.401656e+09\n",
       "GE      1.877102e+09\n",
       "BE      1.555048e+09\n",
       "BS      1.392498e+09\n",
       "FR      4.590737e+08\n",
       "NE      4.018976e+08\n",
       "AG      1.710310e+08\n",
       "TI      1.152623e+08\n",
       "SG      9.119410e+07\n",
       "LU      5.467329e+07\n",
       "SO      4.277191e+07\n",
       "GR      3.653832e+07\n",
       "JU      3.479035e+07\n",
       "VS      2.964409e+07\n",
       "TG      4.018981e+06\n",
       "SZ      9.365510e+05\n",
       "ZG      4.957150e+05\n",
       "SH      1.766910e+05"
      ]
     },
     "execution_count": 16,
     "metadata": {},
     "output_type": "execute_result"
    }
   ],
   "source": [
    "canton_grants = universities.groupby(by='canton', axis=0).sum()\n",
    "canton_grants.sort_values('amount', ascending=False)"
   ]
  },
  {
   "cell_type": "markdown",
   "metadata": {},
   "source": [
    "The institution EMPA has presence in 3 cantons: BE, ZH, SG. So we split the grants for EMPA and add it to the 3 cantons (1/3 for each)"
   ]
  },
  {
   "cell_type": "code",
   "execution_count": 17,
   "metadata": {
    "collapsed": false
   },
   "outputs": [],
   "source": [
    "grants_empa = universities.at['Eidg. Material und Prüfungsanstalt - EMPA', 'amount']\n",
    "grants_empa_third = grants_empa / 3\n",
    "empa_cantons = ['BE', 'ZH', 'SG']\n",
    "for c in empa_cantons:\n",
    "    canton_grants = canton_grants.set_value(c, 'amount', canton_grants.at[c, 'amount'] + grants_empa_third)"
   ]
  },
  {
   "cell_type": "markdown",
   "metadata": {},
   "source": [
    "##### Some numbers on how many we matched."
   ]
  },
  {
   "cell_type": "markdown",
   "metadata": {},
   "source": [
    "how many institutions did we match?"
   ]
  },
  {
   "cell_type": "code",
   "execution_count": 21,
   "metadata": {
    "collapsed": false
   },
   "outputs": [
    {
     "name": "stdout",
     "output_type": "stream",
     "text": [
      "89%\n"
     ]
    }
   ],
   "source": [
    "# the 1+len(...) accounts for the mapping of EMPA\n",
    "print(str(round((100/ len(universities) ) * (1+len(universities[~pd.isnull(universities['canton'])]))) )+ '%')"
   ]
  },
  {
   "cell_type": "markdown",
   "metadata": {},
   "source": [
    "which is how many % of all grants?"
   ]
  },
  {
   "cell_type": "code",
   "execution_count": 22,
   "metadata": {
    "collapsed": false,
    "scrolled": true
   },
   "outputs": [
    {
     "name": "stdout",
     "output_type": "stream",
     "text": [
      "96.02%\n"
     ]
    }
   ],
   "source": [
    "total_grants = universities.amount.sum()\n",
    "matched_grants = canton_grants.amount.sum()\n",
    "matched_percent = (100/total_grants) * matched_grants\n",
    "print(str(round(matched_percent, 2) )+ '%')"
   ]
  },
  {
   "cell_type": "markdown",
   "metadata": {},
   "source": [
    "Finally write the canton grants to a csv file"
   ]
  },
  {
   "cell_type": "code",
   "execution_count": 24,
   "metadata": {
    "collapsed": false
   },
   "outputs": [
    {
     "name": "stdout",
     "output_type": "stream",
     "text": [
      "done writing\n"
     ]
    },
    {
     "data": {
      "text/plain": [
       "True"
      ]
     },
     "execution_count": 24,
     "metadata": {},
     "output_type": "execute_result"
    }
   ],
   "source": [
    "write_to_csv(canton_grants, 'all_canton_grants.csv')"
   ]
  },
  {
   "cell_type": "code",
   "execution_count": null,
   "metadata": {
    "collapsed": true
   },
   "outputs": [],
   "source": []
  },
  {
   "cell_type": "code",
   "execution_count": null,
   "metadata": {
    "collapsed": true
   },
   "outputs": [],
   "source": []
  }
 ],
 "metadata": {
  "anaconda-cloud": {},
  "kernelspec": {
   "display_name": "Python [Root]",
   "language": "python",
   "name": "Python [Root]"
  },
  "language_info": {
   "codemirror_mode": {
    "name": "ipython",
    "version": 3
   },
   "file_extension": ".py",
   "mimetype": "text/x-python",
   "name": "python",
   "nbconvert_exporter": "python",
   "pygments_lexer": "ipython3",
   "version": "3.5.2"
  }
 },
 "nbformat": 4,
 "nbformat_minor": 0
}
