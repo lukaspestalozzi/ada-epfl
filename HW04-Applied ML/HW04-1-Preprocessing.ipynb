{
 "cells": [
  {
   "cell_type": "code",
   "execution_count": 34,
   "metadata": {
    "collapsed": false
   },
   "outputs": [],
   "source": [
    "# imports\n",
    "import pandas as pd\n",
    "import numpy as np\n",
    "import seaborn as sns\n",
    "import matplotlib.pyplot as plt\n",
    "from matplotlib.pyplot import show\n",
    "\n",
    "import sklearn.preprocessing as preprocessing\n",
    "\n",
    "%matplotlib inline\n",
    "sns.set_context('notebook')\n",
    "pd.options.mode.chained_assignment = None  # default='warn'\n",
    "pd.set_option('display.max_columns', 500) # to see all columns"
   ]
  },
  {
   "cell_type": "code",
   "execution_count": 35,
   "metadata": {
    "collapsed": false
   },
   "outputs": [
    {
     "name": "stdout",
     "output_type": "stream",
     "text": [
      "Number of dayads (146028, 28)\n"
     ]
    },
    {
     "data": {
      "text/html": [
       "<div>\n",
       "<table border=\"1\" class=\"dataframe\">\n",
       "  <thead>\n",
       "    <tr style=\"text-align: right;\">\n",
       "      <th></th>\n",
       "      <th>playerShort</th>\n",
       "      <th>player</th>\n",
       "      <th>club</th>\n",
       "      <th>leagueCountry</th>\n",
       "      <th>birthday</th>\n",
       "      <th>height</th>\n",
       "      <th>weight</th>\n",
       "      <th>position</th>\n",
       "      <th>games</th>\n",
       "      <th>victories</th>\n",
       "      <th>ties</th>\n",
       "      <th>defeats</th>\n",
       "      <th>goals</th>\n",
       "      <th>yellowCards</th>\n",
       "      <th>yellowReds</th>\n",
       "      <th>redCards</th>\n",
       "      <th>photoID</th>\n",
       "      <th>rater1</th>\n",
       "      <th>rater2</th>\n",
       "      <th>refNum</th>\n",
       "      <th>refCountry</th>\n",
       "      <th>Alpha_3</th>\n",
       "      <th>meanIAT</th>\n",
       "      <th>nIAT</th>\n",
       "      <th>seIAT</th>\n",
       "      <th>meanExp</th>\n",
       "      <th>nExp</th>\n",
       "      <th>seExp</th>\n",
       "    </tr>\n",
       "  </thead>\n",
       "  <tbody>\n",
       "    <tr>\n",
       "      <th>0</th>\n",
       "      <td>lucas-wilchez</td>\n",
       "      <td>Lucas Wilchez</td>\n",
       "      <td>Real Zaragoza</td>\n",
       "      <td>Spain</td>\n",
       "      <td>31.08.1983</td>\n",
       "      <td>177.0</td>\n",
       "      <td>72.0</td>\n",
       "      <td>Attacking Midfielder</td>\n",
       "      <td>1</td>\n",
       "      <td>0</td>\n",
       "      <td>0</td>\n",
       "      <td>1</td>\n",
       "      <td>0</td>\n",
       "      <td>0</td>\n",
       "      <td>0</td>\n",
       "      <td>0</td>\n",
       "      <td>95212.jpg</td>\n",
       "      <td>0.25</td>\n",
       "      <td>0.50</td>\n",
       "      <td>1</td>\n",
       "      <td>1</td>\n",
       "      <td>GRC</td>\n",
       "      <td>0.326391</td>\n",
       "      <td>712.0</td>\n",
       "      <td>0.000564</td>\n",
       "      <td>0.396000</td>\n",
       "      <td>750.0</td>\n",
       "      <td>0.002696</td>\n",
       "    </tr>\n",
       "    <tr>\n",
       "      <th>1</th>\n",
       "      <td>john-utaka</td>\n",
       "      <td>John Utaka</td>\n",
       "      <td>Montpellier HSC</td>\n",
       "      <td>France</td>\n",
       "      <td>08.01.1982</td>\n",
       "      <td>179.0</td>\n",
       "      <td>82.0</td>\n",
       "      <td>Right Winger</td>\n",
       "      <td>1</td>\n",
       "      <td>0</td>\n",
       "      <td>0</td>\n",
       "      <td>1</td>\n",
       "      <td>0</td>\n",
       "      <td>1</td>\n",
       "      <td>0</td>\n",
       "      <td>0</td>\n",
       "      <td>1663.jpg</td>\n",
       "      <td>0.75</td>\n",
       "      <td>0.75</td>\n",
       "      <td>2</td>\n",
       "      <td>2</td>\n",
       "      <td>ZMB</td>\n",
       "      <td>0.203375</td>\n",
       "      <td>40.0</td>\n",
       "      <td>0.010875</td>\n",
       "      <td>-0.204082</td>\n",
       "      <td>49.0</td>\n",
       "      <td>0.061504</td>\n",
       "    </tr>\n",
       "    <tr>\n",
       "      <th>2</th>\n",
       "      <td>abdon-prats</td>\n",
       "      <td>Abdón Prats</td>\n",
       "      <td>RCD Mallorca</td>\n",
       "      <td>Spain</td>\n",
       "      <td>17.12.1992</td>\n",
       "      <td>181.0</td>\n",
       "      <td>79.0</td>\n",
       "      <td>NaN</td>\n",
       "      <td>1</td>\n",
       "      <td>0</td>\n",
       "      <td>1</td>\n",
       "      <td>0</td>\n",
       "      <td>0</td>\n",
       "      <td>1</td>\n",
       "      <td>0</td>\n",
       "      <td>0</td>\n",
       "      <td>NaN</td>\n",
       "      <td>NaN</td>\n",
       "      <td>NaN</td>\n",
       "      <td>3</td>\n",
       "      <td>3</td>\n",
       "      <td>ESP</td>\n",
       "      <td>0.369894</td>\n",
       "      <td>1785.0</td>\n",
       "      <td>0.000229</td>\n",
       "      <td>0.588297</td>\n",
       "      <td>1897.0</td>\n",
       "      <td>0.001002</td>\n",
       "    </tr>\n",
       "    <tr>\n",
       "      <th>3</th>\n",
       "      <td>pablo-mari</td>\n",
       "      <td>Pablo Marí</td>\n",
       "      <td>RCD Mallorca</td>\n",
       "      <td>Spain</td>\n",
       "      <td>31.08.1993</td>\n",
       "      <td>191.0</td>\n",
       "      <td>87.0</td>\n",
       "      <td>Center Back</td>\n",
       "      <td>1</td>\n",
       "      <td>1</td>\n",
       "      <td>0</td>\n",
       "      <td>0</td>\n",
       "      <td>0</td>\n",
       "      <td>0</td>\n",
       "      <td>0</td>\n",
       "      <td>0</td>\n",
       "      <td>NaN</td>\n",
       "      <td>NaN</td>\n",
       "      <td>NaN</td>\n",
       "      <td>3</td>\n",
       "      <td>3</td>\n",
       "      <td>ESP</td>\n",
       "      <td>0.369894</td>\n",
       "      <td>1785.0</td>\n",
       "      <td>0.000229</td>\n",
       "      <td>0.588297</td>\n",
       "      <td>1897.0</td>\n",
       "      <td>0.001002</td>\n",
       "    </tr>\n",
       "    <tr>\n",
       "      <th>4</th>\n",
       "      <td>ruben-pena</td>\n",
       "      <td>Rubén Peña</td>\n",
       "      <td>Real Valladolid</td>\n",
       "      <td>Spain</td>\n",
       "      <td>18.07.1991</td>\n",
       "      <td>172.0</td>\n",
       "      <td>70.0</td>\n",
       "      <td>Right Midfielder</td>\n",
       "      <td>1</td>\n",
       "      <td>1</td>\n",
       "      <td>0</td>\n",
       "      <td>0</td>\n",
       "      <td>0</td>\n",
       "      <td>0</td>\n",
       "      <td>0</td>\n",
       "      <td>0</td>\n",
       "      <td>NaN</td>\n",
       "      <td>NaN</td>\n",
       "      <td>NaN</td>\n",
       "      <td>3</td>\n",
       "      <td>3</td>\n",
       "      <td>ESP</td>\n",
       "      <td>0.369894</td>\n",
       "      <td>1785.0</td>\n",
       "      <td>0.000229</td>\n",
       "      <td>0.588297</td>\n",
       "      <td>1897.0</td>\n",
       "      <td>0.001002</td>\n",
       "    </tr>\n",
       "  </tbody>\n",
       "</table>\n",
       "</div>"
      ],
      "text/plain": [
       "     playerShort         player             club leagueCountry    birthday  \\\n",
       "0  lucas-wilchez  Lucas Wilchez    Real Zaragoza         Spain  31.08.1983   \n",
       "1     john-utaka     John Utaka  Montpellier HSC        France  08.01.1982   \n",
       "2    abdon-prats    Abdón Prats     RCD Mallorca         Spain  17.12.1992   \n",
       "3     pablo-mari     Pablo Marí     RCD Mallorca         Spain  31.08.1993   \n",
       "4     ruben-pena     Rubén Peña  Real Valladolid         Spain  18.07.1991   \n",
       "\n",
       "   height  weight              position  games  victories  ties  defeats  \\\n",
       "0   177.0    72.0  Attacking Midfielder      1          0     0        1   \n",
       "1   179.0    82.0          Right Winger      1          0     0        1   \n",
       "2   181.0    79.0                   NaN      1          0     1        0   \n",
       "3   191.0    87.0           Center Back      1          1     0        0   \n",
       "4   172.0    70.0      Right Midfielder      1          1     0        0   \n",
       "\n",
       "   goals  yellowCards  yellowReds  redCards    photoID  rater1  rater2  \\\n",
       "0      0            0           0         0  95212.jpg    0.25    0.50   \n",
       "1      0            1           0         0   1663.jpg    0.75    0.75   \n",
       "2      0            1           0         0        NaN     NaN     NaN   \n",
       "3      0            0           0         0        NaN     NaN     NaN   \n",
       "4      0            0           0         0        NaN     NaN     NaN   \n",
       "\n",
       "   refNum  refCountry Alpha_3   meanIAT    nIAT     seIAT   meanExp    nExp  \\\n",
       "0       1           1     GRC  0.326391   712.0  0.000564  0.396000   750.0   \n",
       "1       2           2     ZMB  0.203375    40.0  0.010875 -0.204082    49.0   \n",
       "2       3           3     ESP  0.369894  1785.0  0.000229  0.588297  1897.0   \n",
       "3       3           3     ESP  0.369894  1785.0  0.000229  0.588297  1897.0   \n",
       "4       3           3     ESP  0.369894  1785.0  0.000229  0.588297  1897.0   \n",
       "\n",
       "      seExp  \n",
       "0  0.002696  \n",
       "1  0.061504  \n",
       "2  0.001002  \n",
       "3  0.001002  \n",
       "4  0.001002  "
      ]
     },
     "execution_count": 35,
     "metadata": {},
     "output_type": "execute_result"
    }
   ],
   "source": [
    "data = pd.read_csv('CrowdstormingDataJuly1st.csv')\n",
    "data_total = data.copy()\n",
    "print('Number of dayads', data.shape)\n",
    "data.head()"
   ]
  },
  {
   "cell_type": "markdown",
   "metadata": {},
   "source": [
    "# 1. Observation and clean of the data"
   ]
  },
  {
   "cell_type": "code",
   "execution_count": 36,
   "metadata": {
    "collapsed": false
   },
   "outputs": [
    {
     "name": "stdout",
     "output_type": "stream",
     "text": [
      "Number of diad:  146028\n",
      "Number of players:  2053\n",
      "Number of referees:  3147\n"
     ]
    }
   ],
   "source": [
    "print('Number of diad: ', len(data))\n",
    "print('Number of players: ', len(data.playerShort.unique()))\n",
    "print('Number of referees: ', len(data.refNum.unique()))"
   ]
  },
  {
   "cell_type": "markdown",
   "metadata": {},
   "source": [
    "## 1.1. Missing values"
   ]
  },
  {
   "cell_type": "code",
   "execution_count": 37,
   "metadata": {
    "collapsed": false
   },
   "outputs": [
    {
     "name": "stdout",
     "output_type": "stream",
     "text": [
      "Number of row with complete data: 115457 (79.065%)\n",
      "Number of row with missing data: 30571 (20.935%)\n"
     ]
    }
   ],
   "source": [
    "complete = len(data.dropna())\n",
    "all_ = len(data_total)\n",
    "print('Number of row with complete data: {} ({:.3f}%)'.format(complete, (complete/all_ ) * 100 ))\n",
    "print('Number of row with missing data: {} ({:.3f}%)'.format(all_-complete, (all_ -complete)/all_  * 100 ))\n"
   ]
  },
  {
   "cell_type": "markdown",
   "metadata": {},
   "source": [
    "### Where are the missing values ?"
   ]
  },
  {
   "cell_type": "code",
   "execution_count": 38,
   "metadata": {
    "collapsed": true
   },
   "outputs": [],
   "source": [
    "def find_col_nan(d):\n",
    "    col = []\n",
    "    for c in d.columns:\n",
    "        if d[c].isnull().any():\n",
    "            col = np.append(col, c)\n",
    "    return col        "
   ]
  },
  {
   "cell_type": "code",
   "execution_count": 39,
   "metadata": {
    "collapsed": false
   },
   "outputs": [
    {
     "data": {
      "text/plain": [
       "array(['height', 'weight', 'position', 'photoID', 'rater1', 'rater2',\n",
       "       'Alpha_3', 'meanIAT', 'nIAT', 'seIAT', 'meanExp', 'nExp', 'seExp'], \n",
       "      dtype='<U32')"
      ]
     },
     "execution_count": 39,
     "metadata": {},
     "output_type": "execute_result"
    }
   ],
   "source": [
    "missing_col = find_col_nan(data)\n",
    "missing_col"
   ]
  },
  {
   "cell_type": "markdown",
   "metadata": {},
   "source": [
    "To clean the data, we will go step by step:\n",
    "    - First of all we have to clean all dayads that don't have any rating, because those dayads are uneseful for our problem.\n",
    "    - Then we will look again which columns contains missing values and how to deal with them"
   ]
  },
  {
   "cell_type": "code",
   "execution_count": 40,
   "metadata": {
    "collapsed": false
   },
   "outputs": [
    {
     "name": "stdout",
     "output_type": "stream",
     "text": [
      "Number of row with the 2 ratings 124621 (85.340%)\n",
      "Number of row with only one ratings 0 (0.000%)\n"
     ]
    }
   ],
   "source": [
    "data = data[ ~data.rater1.isnull() & ~data.rater2.isnull()]\n",
    "print('Number of row with the 2 ratings {} ({:.3f}%)'.format(len(data), len(data)/len(data_total) * 100))\n",
    "onlyOne = data[ ~data.rater1.isnull() ^ ~data.rater2.isnull()]\n",
    "print('Number of row with only one ratings {} ({:.3f}%)'.format(len(onlyOne), len(onlyOne)/len(data_total) * 100))\n"
   ]
  },
  {
   "cell_type": "markdown",
   "metadata": {},
   "source": [
    "Check now how many incomplete dayads our data contains now"
   ]
  },
  {
   "cell_type": "code",
   "execution_count": 41,
   "metadata": {
    "collapsed": false
   },
   "outputs": [
    {
     "name": "stdout",
     "output_type": "stream",
     "text": [
      "After removing data without rating:\n",
      "-----------------------------------\n",
      "Number of row with complete data: 115457 (92.647%)\n",
      "Number of row with missing data: 9164 (7.353%)\n"
     ]
    }
   ],
   "source": [
    "complete = len(data.dropna())\n",
    "all_ = len(data)\n",
    "print(\"After removing data without rating:\")\n",
    "print(\"-----------------------------------\")\n",
    "print('Number of row with complete data: {} ({:.3f}%)'.format(complete, (complete/all_ ) * 100 ))\n",
    "print('Number of row with missing data: {} ({:.3f}%)'.format(all_-complete, (all_ -complete)/all_  * 100 ))"
   ]
  },
  {
   "cell_type": "markdown",
   "metadata": {},
   "source": [
    "Let's check again the columns with missing values"
   ]
  },
  {
   "cell_type": "code",
   "execution_count": 42,
   "metadata": {
    "collapsed": false
   },
   "outputs": [
    {
     "data": {
      "text/plain": [
       "array(['height', 'weight', 'position', 'Alpha_3', 'meanIAT', 'nIAT',\n",
       "       'seIAT', 'meanExp', 'nExp', 'seExp'], \n",
       "      dtype='<U32')"
      ]
     },
     "execution_count": 42,
     "metadata": {},
     "output_type": "execute_result"
    }
   ],
   "source": [
    "missing_col = find_col_nan(data)\n",
    "missing_col"
   ]
  },
  {
   "cell_type": "markdown",
   "metadata": {},
   "source": [
    "We only 7.4% of incomplete dayads. Let's try to replace the nan in heights and weights with the median"
   ]
  },
  {
   "cell_type": "code",
   "execution_count": 43,
   "metadata": {
    "collapsed": true
   },
   "outputs": [],
   "source": [
    "# replace no height and weight with the mean value\n",
    "median_height = np.median(data['height'].dropna())\n",
    "median_weight = np.median(data['weight'].dropna())\n",
    "data['height'] = data['height'].fillna(value=median_height)\n",
    "data['weight'] = data['weight'].fillna(value=median_weight)"
   ]
  },
  {
   "cell_type": "code",
   "execution_count": 44,
   "metadata": {
    "collapsed": false
   },
   "outputs": [
    {
     "name": "stdout",
     "output_type": "stream",
     "text": [
      "After removing data without rating:\n",
      "-----------------------------------\n",
      "Number of row with complete data: 116014 (93.093%)\n",
      "Number of row with missing data: 8607 (6.907%)\n"
     ]
    }
   ],
   "source": [
    "complete = len(data.dropna())\n",
    "all_ = len(data)\n",
    "print(\"After removing data without rating:\")\n",
    "print(\"-----------------------------------\")\n",
    "print('Number of row with complete data: {} ({:.3f}%)'.format(complete, (complete/all_ ) * 100 ))\n",
    "print('Number of row with missing data: {} ({:.3f}%)'.format(all_-complete, (all_ -complete)/all_  * 100 ))"
   ]
  },
  {
   "cell_type": "code",
   "execution_count": 45,
   "metadata": {
    "collapsed": false
   },
   "outputs": [
    {
     "data": {
      "text/plain": [
       "array(['position', 'Alpha_3', 'meanIAT', 'nIAT', 'seIAT', 'meanExp',\n",
       "       'nExp', 'seExp'], \n",
       "      dtype='<U32')"
      ]
     },
     "execution_count": 45,
     "metadata": {},
     "output_type": "execute_result"
    }
   ],
   "source": [
    "missing_col = find_col_nan(data)\n",
    "missing_col"
   ]
  },
  {
   "cell_type": "markdown",
   "metadata": {},
   "source": [
    "The incomplete row only represent 7%.\n",
    "We will check if 2 dayads with referee of the same country, one with complete data and an other one with missing IAT and Exp info exist. In that case it is easy to complete those information"
   ]
  },
  {
   "cell_type": "code",
   "execution_count": 46,
   "metadata": {
    "collapsed": false
   },
   "outputs": [
    {
     "name": "stdout",
     "output_type": "stream",
     "text": [
      "Does it exist 2 dayads of same country, one with info on test and one with missing values in test ?:  False\n"
     ]
    }
   ],
   "source": [
    "missing_col_test = ['meanIAT', 'nIAT', 'seIAT', 'meanExp',\n",
    "       'nExp', 'seExp']\n",
    "exist = False\n",
    "def checkMissingTest(df):\n",
    "    for col in missing_col_test:\n",
    "        nbr_dayads = len(df)\n",
    "        nbr_noNaN = len(df.dropna(subset=[col]))\n",
    "        if nbr_dayads > nbr_noNaN &  nbr_noNaN > 0:\n",
    "            exist = True\n",
    "            print('There exist valid data for ', df.Alpha_3)\n",
    "grouped = pd.groupby(data, by='refCountry').apply(checkMissingTest)      \n",
    "print('Does it exist 2 dayads of same country, one with info on test and one with missing values in test ?: ', exist)"
   ]
  },
  {
   "cell_type": "markdown",
   "metadata": {},
   "source": [
    "Look at how many player don't have a position"
   ]
  },
  {
   "cell_type": "code",
   "execution_count": 47,
   "metadata": {
    "collapsed": false
   },
   "outputs": [
    {
     "name": "stdout",
     "output_type": "stream",
     "text": [
      "After removing data without rating:\n",
      "-----------------------------------\n",
      "Number of row with complete data: 116160 (93.211%)\n",
      "Number of row with missing data: 8461 (6.789%)\n"
     ]
    }
   ],
   "source": [
    "complete = len(data.dropna(subset=['position']))\n",
    "all_ = len(data)\n",
    "print(\"After removing data without rating:\")\n",
    "print(\"-----------------------------------\")\n",
    "print('Number of row with complete data: {} ({:.3f}%)'.format(complete, (complete/all_ ) * 100 ))\n",
    "print('Number of row with missing data: {} ({:.3f}%)'.format(all_-complete, (all_ -complete)/all_  * 100 ))"
   ]
  },
  {
   "cell_type": "markdown",
   "metadata": {},
   "source": [
    "For those player we will try to assign them a new position called 'Joker'"
   ]
  },
  {
   "cell_type": "code",
   "execution_count": 48,
   "metadata": {
    "collapsed": true
   },
   "outputs": [],
   "source": [
    "data.position = data.position.fillna('Joker')"
   ]
  },
  {
   "cell_type": "code",
   "execution_count": 49,
   "metadata": {
    "collapsed": false
   },
   "outputs": [
    {
     "data": {
      "text/plain": [
       "array(['Alpha_3', 'meanIAT', 'nIAT', 'seIAT', 'meanExp', 'nExp', 'seExp'], \n",
       "      dtype='<U32')"
      ]
     },
     "execution_count": 49,
     "metadata": {},
     "output_type": "execute_result"
    }
   ],
   "source": [
    "missing_col = find_col_nan(data)\n",
    "missing_col"
   ]
  },
  {
   "cell_type": "code",
   "execution_count": 50,
   "metadata": {
    "collapsed": false
   },
   "outputs": [
    {
     "name": "stdout",
     "output_type": "stream",
     "text": [
      "After removing data without rating:\n",
      "-----------------------------------\n",
      "Number of row with complete data: 124468 (99.877%)\n",
      "Number of row with missing data: 153 (0.123%)\n"
     ]
    }
   ],
   "source": [
    "complete = len(data.dropna())\n",
    "all_ = len(data)\n",
    "print(\"After removing data without rating:\")\n",
    "print(\"-----------------------------------\")\n",
    "print('Number of row with complete data: {} ({:.3f}%)'.format(complete, (complete/all_ ) * 100 ))\n",
    "print('Number of row with missing data: {} ({:.3f}%)'.format(all_-complete, (all_ -complete)/all_  * 100 ))"
   ]
  },
  {
   "cell_type": "markdown",
   "metadata": {},
   "source": [
    "The remaining NaN represent only 0.1% and concern the columns about country and the test in those country which are hard to guess. So we deceide to drop the remaining dayad with NaN"
   ]
  },
  {
   "cell_type": "code",
   "execution_count": 51,
   "metadata": {
    "collapsed": false
   },
   "outputs": [
    {
     "data": {
      "text/plain": [
       "[]"
      ]
     },
     "execution_count": 51,
     "metadata": {},
     "output_type": "execute_result"
    }
   ],
   "source": [
    "data = data.dropna()\n",
    "find_col_nan(data)\n"
   ]
  },
  {
   "cell_type": "markdown",
   "metadata": {},
   "source": [
    "## 1.2. Handling different ratings (rater1 vs rater2)\n",
    "- We check if there is player with only one rating\n",
    "- We also check if one rater always give the same rate to the same player\n",
    "- Now we need to take one single rating for each row. We'll need to investigate a bit more the different rating\n",
    "\n",
    "\n",
    "\n",
    "- what rating to take:\n",
    "    - take the rating of the rater where less dissagreement happend. (rater2->0, rater1->1, rater2->2, rater2->3, rater1->4) so if rater2 rated 0 take it... (in order 4, 0, 1, 2, 3)\n",
    "    - compare taking only rater1 vs rater2\n",
    "    - make a colum 'color_rating' and remove the other two\n",
    "    "
   ]
  },
  {
   "cell_type": "markdown",
   "metadata": {},
   "source": [
    "Is there players with only one rating?"
   ]
  },
  {
   "cell_type": "code",
   "execution_count": 52,
   "metadata": {
    "collapsed": false
   },
   "outputs": [
    {
     "data": {
      "text/plain": [
       "False"
      ]
     },
     "execution_count": 52,
     "metadata": {},
     "output_type": "execute_result"
    }
   ],
   "source": [
    "(data.rater1.isnull() | data.rater2.isnull()).any()"
   ]
  },
  {
   "cell_type": "markdown",
   "metadata": {},
   "source": [
    "Are the raters consistent?"
   ]
  },
  {
   "cell_type": "code",
   "execution_count": 53,
   "metadata": {
    "collapsed": true
   },
   "outputs": [],
   "source": [
    "def areRaterConsistent(d):\n",
    "    for playerID in d.playerShort.unique():\n",
    "  \n",
    "        player = d[d.playerShort == playerID]\n",
    "        rater1 = player.rater1.unique()\n",
    "        rater2 = player.rater2.unique()\n",
    "        if len(rater1) >1 or len(rater2) > 1:\n",
    "            return False\n",
    "    return True  "
   ]
  },
  {
   "cell_type": "code",
   "execution_count": 54,
   "metadata": {
    "collapsed": false
   },
   "outputs": [
    {
     "name": "stdout",
     "output_type": "stream",
     "text": [
      "Are the rater consistent:  True\n"
     ]
    }
   ],
   "source": [
    "print(\"Are the rater consistent: \",areRaterConsistent(data))"
   ]
  },
  {
   "cell_type": "markdown",
   "metadata": {},
   "source": [
    "### Investigation on the raters"
   ]
  },
  {
   "cell_type": "markdown",
   "metadata": {},
   "source": [
    "Values of the rating"
   ]
  },
  {
   "cell_type": "code",
   "execution_count": 55,
   "metadata": {
    "collapsed": false
   },
   "outputs": [
    {
     "data": {
      "text/plain": [
       "array([ 0.25,  0.75,  0.  ,  1.  ,  0.5 ])"
      ]
     },
     "execution_count": 55,
     "metadata": {},
     "output_type": "execute_result"
    }
   ],
   "source": [
    "data.rater1.unique()"
   ]
  },
  {
   "cell_type": "markdown",
   "metadata": {},
   "source": [
    "Are the raters always agree"
   ]
  },
  {
   "cell_type": "code",
   "execution_count": 56,
   "metadata": {
    "collapsed": false
   },
   "outputs": [
    {
     "name": "stdout",
     "output_type": "stream",
     "text": [
      "percentage of players with different ratings:  23.18989619821962 %\n"
     ]
    }
   ],
   "source": [
    "print(\"percentage of players with different ratings: \", len(data[data['rater1'] != data['rater2']])*100 / len(data), \"%\")"
   ]
  },
  {
   "cell_type": "markdown",
   "metadata": {},
   "source": [
    "Let's show some plost to visualize when the rater differe"
   ]
  },
  {
   "cell_type": "code",
   "execution_count": 57,
   "metadata": {
    "collapsed": false
   },
   "outputs": [
    {
     "data": {
      "text/plain": [
       "124468"
      ]
     },
     "execution_count": 57,
     "metadata": {},
     "output_type": "execute_result"
    }
   ],
   "source": [
    "len(data)"
   ]
  },
  {
   "cell_type": "code",
   "execution_count": 58,
   "metadata": {
    "collapsed": false
   },
   "outputs": [
    {
     "data": {
      "text/plain": [
       "<matplotlib.text.Text at 0x117571908>"
      ]
     },
     "execution_count": 58,
     "metadata": {},
     "output_type": "execute_result"
    },
    {
     "data": {
      "image/png": "[encoded data removed]",
      "text/plain": [
       "<matplotlib.figure.Figure at 0x11a989588>"
      ]
     },
     "metadata": {},
     "output_type": "display_data"
    }
   ],
   "source": [
    "fig, ax = plt.subplots(1, 4, figsize=(16, 4))\n",
    "ax[0].hist([data['rater1'], data['rater2']], bins=5)\n",
    "ax[0].set_title(\"1) Raters compared \\n(blue: rater1, green: rater2)\")\n",
    "\n",
    "ax[1].hist(data['rater1'] - data['rater2'], bins=20, range=(-2,2))\n",
    "ax[1].set_title(\"2) Difference (Rater1 - Rater2)\")\n",
    "\n",
    "dissagree_data = data[data['rater1'] != data['rater2']]\n",
    "ax[2].hist(dissagree_data['rater1'], bins=5)\n",
    "ax[2].set_title(\"3) Dissagreed values Rater1\")\n",
    "\n",
    "ax[3].hist(dissagree_data['rater2'], bins=5, color='seagreen')\n",
    "ax[3].set_title(\"4) Dissagreed values Rater2\")"
   ]
  },
  {
   "cell_type": "markdown",
   "metadata": {},
   "source": [
    "We can see that rater1 and 2 disagree the most when they have to rate \"white\" people.\n",
    "\n",
    "We can also see with graph2 that when there disagree it's ony of one category.\n"
   ]
  },
  {
   "cell_type": "markdown",
   "metadata": {},
   "source": [
    "Now we will create a new columns: color_skin that will be our label to guess. To convert the values of rater 1 and 2 in one rate, we need to follow some rules that come from the graph:\n",
    "    1. if rater1 and rater2 are agree, take that value\n",
    "    2. We can see on graph 4 that when rater2 give 0, usually, rater1 agrees => so when rater2 give 0, we take that value as the color skin\n",
    "    3. In graph 3, when rater1 give 1, rater2 usually agrees => when rater1 give 1, take that value as the color_skin\n",
    "    4. In graph 3, we can see that when rater1 rate1 give 0.25, usually rater2 agrees => take rater1\n",
    "    5. choose at random between both values\n",
    "    \n",
    "    "
   ]
  },
  {
   "cell_type": "code",
   "execution_count": 59,
   "metadata": {
    "collapsed": true
   },
   "outputs": [],
   "source": [
    "data['color_rating'] = -1"
   ]
  },
  {
   "cell_type": "code",
   "execution_count": 60,
   "metadata": {
    "collapsed": false
   },
   "outputs": [],
   "source": [
    "def color_skin_rules(row):\n",
    "    #Rule 1\n",
    "    if row.rater1 == row.rater2:\n",
    "        return row.rater1\n",
    "    #Rule2    \n",
    "    elif row.rater2 == 0:\n",
    "        return 0\n",
    "    #Rule 3\n",
    "    elif row.rater1 == 1:\n",
    "        return 1\n",
    "    #Rule 4\n",
    "    elif row.rater1 == 0.25:\n",
    "        return 0.25\n",
    "    else: \n",
    "        return np.random.choice([row.rater1, row.rater2])\n",
    "data.color_rating = data.apply(color_skin_rules, axis=1)\n"
   ]
  },
  {
   "cell_type": "code",
   "execution_count": null,
   "metadata": {
    "collapsed": true
   },
   "outputs": [],
   "source": []
  },
  {
   "cell_type": "markdown",
   "metadata": {},
   "source": [
    "# Transform the data"
   ]
  },
  {
   "cell_type": "code",
   "execution_count": 62,
   "metadata": {
    "collapsed": true
   },
   "outputs": [],
   "source": [
    "from sklearn.ensemble import RandomForestClassifier\n",
    "from sklearn import preprocessing as pp\n",
    "from sklearn.model_selection import KFold , cross_val_score\n",
    "from sklearn.metrics import make_scorer, roc_curve, roc_auc_score"
   ]
  },
  {
   "cell_type": "code",
   "execution_count": 63,
   "metadata": {
    "collapsed": true
   },
   "outputs": [],
   "source": [
    "# encoders\n",
    "le = pp.LabelEncoder() # for playernames etc.\n",
    "ohe = pp.OneHotEncoder() # for categories with 'few' categories"
   ]
  },
  {
   "cell_type": "code",
   "execution_count": 64,
   "metadata": {
    "collapsed": false
   },
   "outputs": [
    {
     "data": {
      "text/html": [
       "<div>\n",
       "<table border=\"1\" class=\"dataframe\">\n",
       "  <thead>\n",
       "    <tr style=\"text-align: right;\">\n",
       "      <th></th>\n",
       "      <th>playerShort</th>\n",
       "      <th>player</th>\n",
       "      <th>club</th>\n",
       "      <th>leagueCountry</th>\n",
       "      <th>birthday</th>\n",
       "      <th>height</th>\n",
       "      <th>weight</th>\n",
       "      <th>position</th>\n",
       "      <th>games</th>\n",
       "      <th>victories</th>\n",
       "      <th>ties</th>\n",
       "      <th>defeats</th>\n",
       "      <th>goals</th>\n",
       "      <th>yellowCards</th>\n",
       "      <th>yellowReds</th>\n",
       "      <th>redCards</th>\n",
       "      <th>photoID</th>\n",
       "      <th>rater1</th>\n",
       "      <th>rater2</th>\n",
       "      <th>refNum</th>\n",
       "      <th>refCountry</th>\n",
       "      <th>Alpha_3</th>\n",
       "      <th>meanIAT</th>\n",
       "      <th>nIAT</th>\n",
       "      <th>seIAT</th>\n",
       "      <th>meanExp</th>\n",
       "      <th>nExp</th>\n",
       "      <th>seExp</th>\n",
       "      <th>color_rating</th>\n",
       "    </tr>\n",
       "  </thead>\n",
       "  <tbody>\n",
       "    <tr>\n",
       "      <th>0</th>\n",
       "      <td>901</td>\n",
       "      <td>1046</td>\n",
       "      <td>70</td>\n",
       "      <td>3</td>\n",
       "      <td>1382</td>\n",
       "      <td>177.0</td>\n",
       "      <td>72.0</td>\n",
       "      <td>0</td>\n",
       "      <td>1</td>\n",
       "      <td>0</td>\n",
       "      <td>0</td>\n",
       "      <td>1</td>\n",
       "      <td>0</td>\n",
       "      <td>0</td>\n",
       "      <td>0</td>\n",
       "      <td>0</td>\n",
       "      <td>1532</td>\n",
       "      <td>0.25</td>\n",
       "      <td>0.5</td>\n",
       "      <td>1</td>\n",
       "      <td>1</td>\n",
       "      <td>59</td>\n",
       "      <td>0.326391</td>\n",
       "      <td>712.0</td>\n",
       "      <td>0.000564</td>\n",
       "      <td>0.396</td>\n",
       "      <td>750.0</td>\n",
       "      <td>0.002696</td>\n",
       "      <td>1</td>\n",
       "    </tr>\n",
       "  </tbody>\n",
       "</table>\n",
       "</div>"
      ],
      "text/plain": [
       "   playerShort  player  club  leagueCountry  birthday  height  weight  \\\n",
       "0          901    1046    70              3      1382   177.0    72.0   \n",
       "\n",
       "   position  games  victories  ties  defeats  goals  yellowCards  yellowReds  \\\n",
       "0         0      1          0     0        1      0            0           0   \n",
       "\n",
       "   redCards  photoID  rater1  rater2  refNum  refCountry  Alpha_3   meanIAT  \\\n",
       "0         0     1532    0.25     0.5       1           1       59  0.326391   \n",
       "\n",
       "    nIAT     seIAT  meanExp   nExp     seExp  color_rating  \n",
       "0  712.0  0.000564    0.396  750.0  0.002696             1  "
      ]
     },
     "execution_count": 64,
     "metadata": {},
     "output_type": "execute_result"
    }
   ],
   "source": [
    "rf_input_data = data.copy()\n",
    "\n",
    "rf_input_data['player'] = le.fit_transform(data['player'])\n",
    "rf_input_data['club'] = le.fit_transform(data['club'])\n",
    "rf_input_data['leagueCountry'] = le.fit_transform(data['leagueCountry'])\n",
    "rf_input_data['birthday'] = le.fit_transform(data['birthday'])\n",
    "rf_input_data['position'] = le.fit_transform(data['position'])\n",
    "rf_input_data['color_rating'] = le.fit_transform(data['color_rating'])\n",
    "rf_input_data['Alpha_3'] = le.fit_transform(data['Alpha_3'])\n",
    "rf_input_data['photoID'] = le.fit_transform(data['photoID'])\n",
    "rf_input_data['playerShort'] = le.fit_transform(data['playerShort'])\n",
    "rf_input_data.head(1)"
   ]
  },
  {
   "cell_type": "code",
   "execution_count": 66,
   "metadata": {
    "collapsed": false
   },
   "outputs": [
    {
     "data": {
      "text/plain": [
       "playerShort        int64\n",
       "player             int64\n",
       "club               int64\n",
       "leagueCountry      int64\n",
       "birthday           int64\n",
       "height           float64\n",
       "weight           float64\n",
       "position           int64\n",
       "games              int64\n",
       "victories          int64\n",
       "ties               int64\n",
       "defeats            int64\n",
       "goals              int64\n",
       "yellowCards        int64\n",
       "yellowReds         int64\n",
       "redCards           int64\n",
       "photoID            int64\n",
       "rater1           float64\n",
       "rater2           float64\n",
       "refNum             int64\n",
       "refCountry         int64\n",
       "Alpha_3            int64\n",
       "meanIAT          float64\n",
       "nIAT             float64\n",
       "seIAT            float64\n",
       "meanExp          float64\n",
       "nExp             float64\n",
       "seExp            float64\n",
       "color_rating       int64\n",
       "dtype: object"
      ]
     },
     "execution_count": 66,
     "metadata": {},
     "output_type": "execute_result"
    }
   ],
   "source": [
    "rf_input_data.dtypes"
   ]
  },
  {
   "cell_type": "code",
   "execution_count": 67,
   "metadata": {
    "collapsed": true
   },
   "outputs": [],
   "source": [
    "rf_input_data.to_csv('CrowdstormingDataJuly1st_preprocessed.csv')"
   ]
  },
  {
   "cell_type": "code",
   "execution_count": null,
   "metadata": {
    "collapsed": true
   },
   "outputs": [],
   "source": []
  }
 ],
 "metadata": {
  "anaconda-cloud": {},
  "kernelspec": {
   "display_name": "Python [default]",
   "language": "python",
   "name": "python3"
  },
  "language_info": {
   "codemirror_mode": {
    "name": "ipython",
    "version": 3
   },
   "file_extension": ".py",
   "mimetype": "text/x-python",
   "name": "python",
   "nbconvert_exporter": "python",
   "pygments_lexer": "ipython3",
   "version": "3.5.2"
  }
 },
 "nbformat": 4,
 "nbformat_minor": 1
}
