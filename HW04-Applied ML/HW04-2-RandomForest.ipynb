{
 "cells": [
  {
   "cell_type": "markdown",
   "metadata": {},
   "source": [
    "# Part 1\n",
    "#### Assignment\n",
    "Train a `sklearn.ensemble.RandomForestClassifier` that given a soccer player description outputs his skin color. \n",
    "- Show how different parameters passed to the Classifier affect the overfitting issue. \n",
    "- Perform cross-validation to mitigate the overfitting of your model. \n",
    "\n",
    "Once you assessed your model,\n",
    "- inspect the `feature_importances_` attribute and discuss the obtained results. \n",
    "- With different assumptions on the data (e.g., dropping certain features evenbefore feeding them to the classifier), can you obtain a substantially different `feature_importances_` attribute?\n",
    "\n",
    "## Plan\n",
    "First we will just lok at the Random Forest classifier without any parameters (just use the default) -> gives very good scores \n",
    "\n",
    "Look a bit at the feature_importances\n",
    "\n",
    "Then we see that it is better to aggregate the data by player (We can't show overfitting with 'flawed' data and very good scores, so we first aggregate)\n",
    "\n",
    "Aggregate\n",
    "\n",
    "Look again at the classifier with default parameters\n",
    "\n",
    "Show the effect of some parameters to overfitting\n",
    "\n",
    "Find acceptable values of parameters\n",
    "\n",
    "Inspect the feature_importances\n",
    "\n",
    "drop some and see impact on feature_importances\n"
   ]
  },
  {
   "cell_type": "code",
   "execution_count": 1,
   "metadata": {
    "collapsed": false
   },
   "outputs": [],
   "source": [
    "# imports\n",
    "import pandas as pd\n",
    "import numpy as np\n",
    "import seaborn as sns\n",
    "import matplotlib.pyplot as plt\n",
    "from matplotlib.pyplot import show\n",
    "\n",
    "# sklearn\n",
    "from sklearn.ensemble import RandomForestClassifier\n",
    "from sklearn import preprocessing as pp\n",
    "from sklearn.model_selection import KFold , cross_val_score, train_test_split, validation_curve\n",
    "from sklearn.metrics import make_scorer, roc_curve, roc_auc_score\n",
    "\n",
    "import sklearn.preprocessing as preprocessing\n",
    "\n",
    "%matplotlib inline\n",
    "sns.set_context('notebook')\n",
    "pd.options.mode.chained_assignment = None  # default='warn'\n",
    "pd.set_option('display.max_columns', 500) # to see all columns"
   ]
  },
  {
   "cell_type": "markdown",
   "metadata": {},
   "source": [
    "Load the preprocessed data and look at it."
   ]
  },
  {
   "cell_type": "code",
   "execution_count": 2,
   "metadata": {
    "collapsed": false
   },
   "outputs": [
    {
     "name": "stdout",
     "output_type": "stream",
     "text": [
      "Number of dayads (124468, 29)\n"
     ]
    },
    {
     "data": {
      "text/html": [
       "<div>\n",
       "<table border=\"1\" class=\"dataframe\">\n",
       "  <thead>\n",
       "    <tr style=\"text-align: right;\">\n",
       "      <th></th>\n",
       "      <th>playerShort</th>\n",
       "      <th>player</th>\n",
       "      <th>club</th>\n",
       "      <th>leagueCountry</th>\n",
       "      <th>birthday</th>\n",
       "      <th>height</th>\n",
       "      <th>weight</th>\n",
       "      <th>position</th>\n",
       "      <th>games</th>\n",
       "      <th>victories</th>\n",
       "      <th>ties</th>\n",
       "      <th>defeats</th>\n",
       "      <th>goals</th>\n",
       "      <th>yellowCards</th>\n",
       "      <th>yellowReds</th>\n",
       "      <th>redCards</th>\n",
       "      <th>photoID</th>\n",
       "      <th>rater1</th>\n",
       "      <th>rater2</th>\n",
       "      <th>refNum</th>\n",
       "      <th>refCountry</th>\n",
       "      <th>Alpha_3</th>\n",
       "      <th>meanIAT</th>\n",
       "      <th>nIAT</th>\n",
       "      <th>seIAT</th>\n",
       "      <th>meanExp</th>\n",
       "      <th>nExp</th>\n",
       "      <th>seExp</th>\n",
       "      <th>color_rating</th>\n",
       "    </tr>\n",
       "  </thead>\n",
       "  <tbody>\n",
       "    <tr>\n",
       "      <th>0</th>\n",
       "      <td>901</td>\n",
       "      <td>1046</td>\n",
       "      <td>70</td>\n",
       "      <td>3</td>\n",
       "      <td>1382</td>\n",
       "      <td>177.0</td>\n",
       "      <td>72.0</td>\n",
       "      <td>0</td>\n",
       "      <td>1</td>\n",
       "      <td>0</td>\n",
       "      <td>0</td>\n",
       "      <td>1</td>\n",
       "      <td>0</td>\n",
       "      <td>0</td>\n",
       "      <td>0</td>\n",
       "      <td>0</td>\n",
       "      <td>1532</td>\n",
       "      <td>0.25</td>\n",
       "      <td>0.50</td>\n",
       "      <td>1</td>\n",
       "      <td>1</td>\n",
       "      <td>59</td>\n",
       "      <td>0.326391</td>\n",
       "      <td>712.0</td>\n",
       "      <td>0.000564</td>\n",
       "      <td>0.396000</td>\n",
       "      <td>750.0</td>\n",
       "      <td>0.002696</td>\n",
       "      <td>2</td>\n",
       "    </tr>\n",
       "    <tr>\n",
       "      <th>1</th>\n",
       "      <td>739</td>\n",
       "      <td>919</td>\n",
       "      <td>51</td>\n",
       "      <td>1</td>\n",
       "      <td>320</td>\n",
       "      <td>179.0</td>\n",
       "      <td>82.0</td>\n",
       "      <td>12</td>\n",
       "      <td>1</td>\n",
       "      <td>0</td>\n",
       "      <td>0</td>\n",
       "      <td>1</td>\n",
       "      <td>0</td>\n",
       "      <td>1</td>\n",
       "      <td>0</td>\n",
       "      <td>0</td>\n",
       "      <td>497</td>\n",
       "      <td>0.75</td>\n",
       "      <td>0.75</td>\n",
       "      <td>2</td>\n",
       "      <td>2</td>\n",
       "      <td>153</td>\n",
       "      <td>0.203375</td>\n",
       "      <td>40.0</td>\n",
       "      <td>0.010875</td>\n",
       "      <td>-0.204082</td>\n",
       "      <td>49.0</td>\n",
       "      <td>0.061504</td>\n",
       "      <td>4</td>\n",
       "    </tr>\n",
       "    <tr>\n",
       "      <th>5</th>\n",
       "      <td>0</td>\n",
       "      <td>392</td>\n",
       "      <td>34</td>\n",
       "      <td>0</td>\n",
       "      <td>360</td>\n",
       "      <td>182.0</td>\n",
       "      <td>71.0</td>\n",
       "      <td>1</td>\n",
       "      <td>1</td>\n",
       "      <td>0</td>\n",
       "      <td>0</td>\n",
       "      <td>1</td>\n",
       "      <td>0</td>\n",
       "      <td>0</td>\n",
       "      <td>0</td>\n",
       "      <td>0</td>\n",
       "      <td>1081</td>\n",
       "      <td>0.25</td>\n",
       "      <td>0.00</td>\n",
       "      <td>4</td>\n",
       "      <td>4</td>\n",
       "      <td>87</td>\n",
       "      <td>0.325185</td>\n",
       "      <td>127.0</td>\n",
       "      <td>0.003297</td>\n",
       "      <td>0.538462</td>\n",
       "      <td>130.0</td>\n",
       "      <td>0.013752</td>\n",
       "      <td>1</td>\n",
       "    </tr>\n",
       "    <tr>\n",
       "      <th>6</th>\n",
       "      <td>45</td>\n",
       "      <td>425</td>\n",
       "      <td>48</td>\n",
       "      <td>0</td>\n",
       "      <td>446</td>\n",
       "      <td>187.0</td>\n",
       "      <td>80.0</td>\n",
       "      <td>7</td>\n",
       "      <td>1</td>\n",
       "      <td>1</td>\n",
       "      <td>0</td>\n",
       "      <td>0</td>\n",
       "      <td>0</td>\n",
       "      <td>0</td>\n",
       "      <td>0</td>\n",
       "      <td>0</td>\n",
       "      <td>1175</td>\n",
       "      <td>0.00</td>\n",
       "      <td>0.25</td>\n",
       "      <td>4</td>\n",
       "      <td>4</td>\n",
       "      <td>87</td>\n",
       "      <td>0.325185</td>\n",
       "      <td>127.0</td>\n",
       "      <td>0.003297</td>\n",
       "      <td>0.538462</td>\n",
       "      <td>130.0</td>\n",
       "      <td>0.013752</td>\n",
       "      <td>1</td>\n",
       "    </tr>\n",
       "    <tr>\n",
       "      <th>7</th>\n",
       "      <td>64</td>\n",
       "      <td>440</td>\n",
       "      <td>54</td>\n",
       "      <td>0</td>\n",
       "      <td>158</td>\n",
       "      <td>180.0</td>\n",
       "      <td>68.0</td>\n",
       "      <td>4</td>\n",
       "      <td>1</td>\n",
       "      <td>0</td>\n",
       "      <td>0</td>\n",
       "      <td>1</td>\n",
       "      <td>0</td>\n",
       "      <td>0</td>\n",
       "      <td>0</td>\n",
       "      <td>0</td>\n",
       "      <td>803</td>\n",
       "      <td>1.00</td>\n",
       "      <td>1.00</td>\n",
       "      <td>4</td>\n",
       "      <td>4</td>\n",
       "      <td>87</td>\n",
       "      <td>0.325185</td>\n",
       "      <td>127.0</td>\n",
       "      <td>0.003297</td>\n",
       "      <td>0.538462</td>\n",
       "      <td>130.0</td>\n",
       "      <td>0.013752</td>\n",
       "      <td>5</td>\n",
       "    </tr>\n",
       "  </tbody>\n",
       "</table>\n",
       "</div>"
      ],
      "text/plain": [
       "   playerShort  player  club  leagueCountry  birthday  height  weight  \\\n",
       "0          901    1046    70              3      1382   177.0    72.0   \n",
       "1          739     919    51              1       320   179.0    82.0   \n",
       "5            0     392    34              0       360   182.0    71.0   \n",
       "6           45     425    48              0       446   187.0    80.0   \n",
       "7           64     440    54              0       158   180.0    68.0   \n",
       "\n",
       "   position  games  victories  ties  defeats  goals  yellowCards  yellowReds  \\\n",
       "0         0      1          0     0        1      0            0           0   \n",
       "1        12      1          0     0        1      0            1           0   \n",
       "5         1      1          0     0        1      0            0           0   \n",
       "6         7      1          1     0        0      0            0           0   \n",
       "7         4      1          0     0        1      0            0           0   \n",
       "\n",
       "   redCards  photoID  rater1  rater2  refNum  refCountry  Alpha_3   meanIAT  \\\n",
       "0         0     1532    0.25    0.50       1           1       59  0.326391   \n",
       "1         0      497    0.75    0.75       2           2      153  0.203375   \n",
       "5         0     1081    0.25    0.00       4           4       87  0.325185   \n",
       "6         0     1175    0.00    0.25       4           4       87  0.325185   \n",
       "7         0      803    1.00    1.00       4           4       87  0.325185   \n",
       "\n",
       "    nIAT     seIAT   meanExp   nExp     seExp  color_rating  \n",
       "0  712.0  0.000564  0.396000  750.0  0.002696             2  \n",
       "1   40.0  0.010875 -0.204082   49.0  0.061504             4  \n",
       "5  127.0  0.003297  0.538462  130.0  0.013752             1  \n",
       "6  127.0  0.003297  0.538462  130.0  0.013752             1  \n",
       "7  127.0  0.003297  0.538462  130.0  0.013752             5  "
      ]
     },
     "execution_count": 2,
     "metadata": {},
     "output_type": "execute_result"
    }
   ],
   "source": [
    "data = pd.read_csv('CrowdstormingDataJuly1st_preprocessed_encoded.csv', index_col=0)\n",
    "data_total = data.copy()\n",
    "print('Number of dayads', data.shape)\n",
    "data.head()"
   ]
  },
  {
   "cell_type": "code",
   "execution_count": 3,
   "metadata": {
    "collapsed": false
   },
   "outputs": [
    {
     "name": "stdout",
     "output_type": "stream",
     "text": [
      "Number of diads:  124468\n",
      "Number of players:  1585\n",
      "Number of referees:  2967\n"
     ]
    }
   ],
   "source": [
    "print('Number of diads: ', len(data))\n",
    "print('Number of players: ', len(data.playerShort.unique()))\n",
    "print('Number of referees: ', len(data.refNum.unique()))"
   ]
  },
  {
   "cell_type": "markdown",
   "metadata": {},
   "source": [
    "## Train RF"
   ]
  },
  {
   "cell_type": "markdown",
   "metadata": {},
   "source": [
    "First we just train and test the preprocessed data with the default values of the Random Forest to see what happens.\n",
    "For this first model, we will use all the features (except rater1,rater2, color_rating) and then we will observe which are the most important.\n"
   ]
  },
  {
   "cell_type": "code",
   "execution_count": 4,
   "metadata": {
    "collapsed": false
   },
   "outputs": [],
   "source": [
    "player_colors = data['color_rating']\n",
    "rf_input_data = data.drop(['rater1', 'rater2', 'color_rating'], axis=1)"
   ]
  },
  {
   "cell_type": "code",
   "execution_count": 5,
   "metadata": {
    "collapsed": false
   },
   "outputs": [
    {
     "name": "stdout",
     "output_type": "stream",
     "text": [
      "[CV]  ................................................................\n",
      "[CV]  ................................................................\n",
      "[CV]  ................................................................\n",
      "[CV] ....................................... , score=0.901759 -   0.0s\n",
      "[CV]  ................................................................\n",
      "[CV] ....................................... , score=0.908090 -   0.0s\n",
      "[CV]  ................................................................\n",
      "[CV] ....................................... , score=0.908740 -   0.1s\n",
      "[CV]  ................................................................\n",
      "[CV] ....................................... , score=0.908090 -   0.1s\n",
      "[CV]  ................................................................\n",
      "[CV] ....................................... , score=0.902306 -   0.0s\n",
      "[CV]  ................................................................\n",
      "[CV] ....................................... , score=0.908090 -   0.1s\n",
      "[CV]  ................................................................\n",
      "[CV] ....................................... , score=0.902386 -   0.0s\n",
      "[CV]  ................................................................\n",
      "[CV] ....................................... , score=0.911216 -   0.0s\n",
      "[CV] ....................................... , score=0.905022 -   0.0s\n",
      "[CV] ....................................... , score=0.858819 -   0.0s\n"
     ]
    },
    {
     "name": "stderr",
     "output_type": "stream",
     "text": [
      "[Parallel(n_jobs=3)]: Done  10 out of  10 | elapsed:   11.4s finished\n"
     ]
    },
    {
     "data": {
      "text/plain": [
       "array([ 0.90175918,  0.90874036,  0.9080903 ,  0.9080903 ,  0.90230578,\n",
       "        0.9080903 ,  0.90238612,  0.91121646,  0.9050221 ,  0.8588188 ])"
      ]
     },
     "execution_count": 5,
     "metadata": {},
     "output_type": "execute_result"
    }
   ],
   "source": [
    "rf = RandomForestClassifier()\n",
    "result = cross_val_score(rf, rf_input_data, player_colors, cv=10, n_jobs=3, pre_dispatch='n_jobs+1', verbose=3)\n",
    "result"
   ]
  },
  {
   "cell_type": "markdown",
   "metadata": {},
   "source": [
    "Quite good results..."
   ]
  },
  {
   "cell_type": "markdown",
   "metadata": {},
   "source": [
    "## Observe the important features"
   ]
  },
  {
   "cell_type": "code",
   "execution_count": 6,
   "metadata": {
    "collapsed": false
   },
   "outputs": [],
   "source": [
    "def show_important_features_random_forest(X, y, rf=None):\n",
    "    if rf is None:\n",
    "        rf = RandomForestClassifier()\n",
    "\n",
    "    rf.fit(X, y)\n",
    "\n",
    "    importances = rf.feature_importances_\n",
    "    std = np.std([tree.feature_importances_ for tree in rf.estimators_], axis=0)\n",
    "    indices = np.argsort(importances)[::-1]\n",
    "\n",
    "    cols = X.columns\n",
    "    # Print the feature ranking\n",
    "    print(\"Feature ranking:\")\n",
    "    for f in range(X.shape[1]):\n",
    "        print(\"%d. feature n° %d %s (%f)\" % (f + 1, indices[f], cols[indices[f]], importances[indices[f]]))\n",
    "\n",
    "    # Plot the feature importances of the forest\n",
    "    plt.figure()\n",
    "    plt.title(\"Feature importances\")\n",
    "    plt.bar(range(X.shape[1]), importances[indices],\n",
    "           color=\"r\", yerr=std[indices], align=\"center\")\n",
    "    plt.xticks(range(X.shape[1]), indices)\n",
    "    plt.xlim([-1, X.shape[1]])\n",
    "    plt.show()  \n"
   ]
  },
  {
   "cell_type": "code",
   "execution_count": 7,
   "metadata": {
    "collapsed": false
   },
   "outputs": [
    {
     "name": "stdout",
     "output_type": "stream",
     "text": [
      "Feature ranking:\n",
      "1. feature n° 16 photoID (0.116911)\n",
      "2. feature n° 1 player (0.115163)\n",
      "3. feature n° 4 birthday (0.106977)\n",
      "4. feature n° 0 playerShort (0.104491)\n",
      "5. feature n° 2 club (0.101289)\n",
      "6. feature n° 5 height (0.094127)\n",
      "7. feature n° 6 weight (0.092560)\n",
      "8. feature n° 7 position (0.080473)\n",
      "9. feature n° 17 refNum (0.042917)\n",
      "10. feature n° 3 leagueCountry (0.028149)\n",
      "11. feature n° 8 games (0.013917)\n",
      "12. feature n° 9 victories (0.012396)\n",
      "13. feature n° 11 defeats (0.011056)\n",
      "14. feature n° 10 ties (0.009991)\n",
      "15. feature n° 21 nIAT (0.007992)\n",
      "16. feature n° 23 meanExp (0.007498)\n",
      "17. feature n° 13 yellowCards (0.007497)\n",
      "18. feature n° 12 goals (0.007386)\n",
      "19. feature n° 22 seIAT (0.007212)\n",
      "20. feature n° 18 refCountry (0.006745)\n",
      "21. feature n° 19 Alpha_3 (0.006653)\n",
      "22. feature n° 20 meanIAT (0.006382)\n",
      "23. feature n° 25 seExp (0.005889)\n",
      "24. feature n° 24 nExp (0.005204)\n",
      "25. feature n° 15 redCards (0.000582)\n",
      "26. feature n° 14 yellowReds (0.000545)\n"
     ]
    },
    {
     "data": {
      "image/png": "[encoded data removed]",
      "text/plain": [
       "<matplotlib.figure.Figure at 0x7f82d7294f60>"
      ]
     },
     "metadata": {},
     "output_type": "display_data"
    }
   ],
   "source": [
    "show_important_features_random_forest(rf_input_data, player_colors)"
   ]
  },
  {
   "cell_type": "markdown",
   "metadata": {},
   "source": [
    "We can see that the most important features are:\n",
    "    - photoID\n",
    "    - player\n",
    "    - the birthday\n",
    "    - playerShort\n",
    "    \n",
    "The obtained result is weird. Those 4 features seem to be independant of the color skin and they shloud also be unique to one player. PhotoID is the id of the photo and thus unique for one player. Same about 'player' and 'playerShort' (both represent the players name). Birthday is not necessarily unique, but should not be that important for the skin color."
   ]
  },
  {
   "cell_type": "markdown",
   "metadata": {},
   "source": [
    "We have to remember that our data contains dayads between player and referee, so a player can appear several times in our data. It could be the reason why the name is imprtant. Let's look at the data:"
   ]
  },
  {
   "cell_type": "code",
   "execution_count": 8,
   "metadata": {
    "collapsed": false,
    "scrolled": false
   },
   "outputs": [
    {
     "data": {
      "text/plain": [
       "415     202\n",
       "732     197\n",
       "681     196\n",
       "541     195\n",
       "1552    188\n",
       "587     183\n",
       "1226    181\n",
       "1578    181\n",
       "1388    180\n",
       "603     177\n",
       "Name: playerShort, dtype: int64"
      ]
     },
     "execution_count": 8,
     "metadata": {},
     "output_type": "execute_result"
    }
   ],
   "source": [
    "data.playerShort.value_counts()[:10]"
   ]
  },
  {
   "cell_type": "markdown",
   "metadata": {},
   "source": [
    "Indeed, some players appear around 200 times, so it is easy to determine the skin-color of _djibril cisse_ if he appears both in the training set and in the test set. But in the reality the probability to have 2 _djibril cisse_ with the same birthday and same color skin is almost null.\n",
    "The reason why this attributes are so important is that some of the rows of one player appear in the train and test set, so the classifier can take those to determine the skin-color."
   ]
  },
  {
   "cell_type": "markdown",
   "metadata": {},
   "source": [
    "Now we drop those attributes and see what happens."
   ]
  },
  {
   "cell_type": "code",
   "execution_count": 9,
   "metadata": {
    "collapsed": false
   },
   "outputs": [],
   "source": [
    "rf_input_data_drop = rf_input_data.drop(['birthday', 'player','playerShort', 'photoID'], axis=1)"
   ]
  },
  {
   "cell_type": "code",
   "execution_count": 10,
   "metadata": {
    "collapsed": false
   },
   "outputs": [
    {
     "name": "stdout",
     "output_type": "stream",
     "text": [
      "[CV]  ................................................................\n",
      "[CV]  ................................................................\n",
      "[CV]  ................................................................\n",
      "[CV] ....................................... , score=0.764881 -   0.0s\n",
      "[CV]  ................................................................\n",
      "[CV] ....................................... , score=0.834913 -   0.1s\n",
      "[CV]  ................................................................\n",
      "[CV] ....................................... , score=0.835864 -   0.1s\n",
      "[CV]  ................................................................\n",
      "[CV] ....................................... , score=0.844219 -   0.0s\n",
      "[CV]  ................................................................\n",
      "[CV] ....................................... , score=0.853137 -   0.1s\n",
      "[CV]  ................................................................\n",
      "[CV] ....................................... , score=0.844380 -   0.1s\n",
      "[CV]  ................................................................\n",
      "[CV] ....................................... , score=0.840524 -   0.1s\n",
      "[CV]  ................................................................\n",
      "[CV] ....................................... , score=0.856661 -   0.0s\n",
      "[CV] ....................................... , score=0.841623 -   0.0s\n",
      "[CV] ....................................... , score=0.720691 -   0.0s\n"
     ]
    },
    {
     "name": "stderr",
     "output_type": "stream",
     "text": [
      "[Parallel(n_jobs=3)]: Done  10 out of  10 | elapsed:    9.2s finished\n"
     ]
    },
    {
     "data": {
      "text/plain": [
       "array([ 0.76488071,  0.83491324,  0.83586406,  0.84421949,  0.84438017,\n",
       "        0.8531373 ,  0.84052382,  0.85666077,  0.84162314,  0.72069104])"
      ]
     },
     "execution_count": 10,
     "metadata": {},
     "output_type": "execute_result"
    }
   ],
   "source": [
    "rf = RandomForestClassifier()\n",
    "result = cross_val_score(rf, rf_input_data_drop, player_colors, cv=10, n_jobs=3, pre_dispatch='n_jobs+1', verbose=3)\n",
    "\n",
    "result"
   ]
  },
  {
   "cell_type": "markdown",
   "metadata": {},
   "source": [
    "As expected the accuracy of the classifier dropped."
   ]
  },
  {
   "cell_type": "code",
   "execution_count": 11,
   "metadata": {
    "collapsed": false,
    "scrolled": false
   },
   "outputs": [
    {
     "name": "stdout",
     "output_type": "stream",
     "text": [
      "Feature ranking:\n",
      "1. feature n° 3 weight (0.177984)\n",
      "2. feature n° 2 height (0.175373)\n",
      "3. feature n° 0 club (0.174736)\n",
      "4. feature n° 4 position (0.126003)\n",
      "5. feature n° 13 refNum (0.080076)\n",
      "6. feature n° 1 leagueCountry (0.035280)\n",
      "7. feature n° 5 games (0.031651)\n",
      "8. feature n° 6 victories (0.029119)\n",
      "9. feature n° 8 defeats (0.023987)\n",
      "10. feature n° 7 ties (0.021418)\n",
      "11. feature n° 10 yellowCards (0.018120)\n",
      "12. feature n° 9 goals (0.017725)\n",
      "13. feature n° 19 meanExp (0.012820)\n",
      "14. feature n° 16 meanIAT (0.011499)\n",
      "15. feature n° 18 seIAT (0.011019)\n",
      "16. feature n° 14 refCountry (0.010489)\n",
      "17. feature n° 21 seExp (0.010411)\n",
      "18. feature n° 15 Alpha_3 (0.010338)\n",
      "19. feature n° 20 nExp (0.009625)\n",
      "20. feature n° 17 nIAT (0.009029)\n",
      "21. feature n° 12 redCards (0.001690)\n",
      "22. feature n° 11 yellowReds (0.001607)\n"
     ]
    },
    {
     "data": {
      "image/png": "[encoded data removed]",
      "text/plain": [
       "<matplotlib.figure.Figure at 0x7f82d52899e8>"
      ]
     },
     "metadata": {},
     "output_type": "display_data"
    }
   ],
   "source": [
    "show_important_features_random_forest(rf_input_data_drop, player_colors)"
   ]
  },
  {
   "cell_type": "markdown",
   "metadata": {},
   "source": [
    "That makes more sence, it is possible that dark persons are statistically taller than white persons, but the club and position should not be that important. So we decided to aggregate on the players name.\n",
    "\n",
    "We do the aggregation in the _HW04-1-Preprocessing_ notebook."
   ]
  },
  {
   "cell_type": "code",
   "execution_count": 12,
   "metadata": {
    "collapsed": false
   },
   "outputs": [
    {
     "data": {
      "text/html": [
       "<div>\n",
       "<table border=\"1\" class=\"dataframe\">\n",
       "  <thead>\n",
       "    <tr style=\"text-align: right;\">\n",
       "      <th></th>\n",
       "      <th>playerShort</th>\n",
       "      <th>player</th>\n",
       "      <th>club</th>\n",
       "      <th>leagueCountry</th>\n",
       "      <th>birthday</th>\n",
       "      <th>height</th>\n",
       "      <th>weight</th>\n",
       "      <th>position</th>\n",
       "      <th>games</th>\n",
       "      <th>victories</th>\n",
       "      <th>ties</th>\n",
       "      <th>defeats</th>\n",
       "      <th>goals</th>\n",
       "      <th>yellowCards</th>\n",
       "      <th>yellowReds</th>\n",
       "      <th>redCards</th>\n",
       "      <th>rater1</th>\n",
       "      <th>rater2</th>\n",
       "      <th>refCount</th>\n",
       "      <th>refCountryCount</th>\n",
       "      <th>meanIAT</th>\n",
       "      <th>seIAT</th>\n",
       "      <th>meanExp</th>\n",
       "      <th>seExp</th>\n",
       "      <th>color_rating</th>\n",
       "      <th>meanIAT_nIAT</th>\n",
       "      <th>meanExp_nExp</th>\n",
       "      <th>meanIAT_GameNbr</th>\n",
       "      <th>meanExp_GameNbr</th>\n",
       "    </tr>\n",
       "  </thead>\n",
       "  <tbody>\n",
       "    <tr>\n",
       "      <th>0</th>\n",
       "      <td>0</td>\n",
       "      <td>392</td>\n",
       "      <td>34</td>\n",
       "      <td>0</td>\n",
       "      <td>360</td>\n",
       "      <td>182.0</td>\n",
       "      <td>71.0</td>\n",
       "      <td>1</td>\n",
       "      <td>654</td>\n",
       "      <td>247</td>\n",
       "      <td>179</td>\n",
       "      <td>228</td>\n",
       "      <td>9</td>\n",
       "      <td>19</td>\n",
       "      <td>0</td>\n",
       "      <td>0</td>\n",
       "      <td>0.25</td>\n",
       "      <td>0.00</td>\n",
       "      <td>166</td>\n",
       "      <td>37</td>\n",
       "      <td>0.346459</td>\n",
       "      <td>0.003297</td>\n",
       "      <td>0.494575</td>\n",
       "      <td>0.013752</td>\n",
       "      <td>1</td>\n",
       "      <td>0.328409</td>\n",
       "      <td>0.367721</td>\n",
       "      <td>0.333195</td>\n",
       "      <td>0.400637</td>\n",
       "    </tr>\n",
       "    <tr>\n",
       "      <th>1</th>\n",
       "      <td>1</td>\n",
       "      <td>393</td>\n",
       "      <td>91</td>\n",
       "      <td>2</td>\n",
       "      <td>176</td>\n",
       "      <td>183.0</td>\n",
       "      <td>73.0</td>\n",
       "      <td>0</td>\n",
       "      <td>336</td>\n",
       "      <td>141</td>\n",
       "      <td>73</td>\n",
       "      <td>122</td>\n",
       "      <td>62</td>\n",
       "      <td>42</td>\n",
       "      <td>0</td>\n",
       "      <td>1</td>\n",
       "      <td>0.00</td>\n",
       "      <td>0.25</td>\n",
       "      <td>99</td>\n",
       "      <td>25</td>\n",
       "      <td>0.348818</td>\n",
       "      <td>0.003297</td>\n",
       "      <td>0.449220</td>\n",
       "      <td>0.013752</td>\n",
       "      <td>2</td>\n",
       "      <td>0.329945</td>\n",
       "      <td>0.441615</td>\n",
       "      <td>0.341438</td>\n",
       "      <td>0.380811</td>\n",
       "    </tr>\n",
       "    <tr>\n",
       "      <th>2</th>\n",
       "      <td>2</td>\n",
       "      <td>394</td>\n",
       "      <td>83</td>\n",
       "      <td>0</td>\n",
       "      <td>719</td>\n",
       "      <td>165.0</td>\n",
       "      <td>63.0</td>\n",
       "      <td>11</td>\n",
       "      <td>412</td>\n",
       "      <td>200</td>\n",
       "      <td>97</td>\n",
       "      <td>115</td>\n",
       "      <td>31</td>\n",
       "      <td>11</td>\n",
       "      <td>0</td>\n",
       "      <td>0</td>\n",
       "      <td>0.25</td>\n",
       "      <td>0.25</td>\n",
       "      <td>101</td>\n",
       "      <td>28</td>\n",
       "      <td>0.345893</td>\n",
       "      <td>0.003297</td>\n",
       "      <td>0.491482</td>\n",
       "      <td>0.013752</td>\n",
       "      <td>2</td>\n",
       "      <td>0.328230</td>\n",
       "      <td>0.365628</td>\n",
       "      <td>0.332389</td>\n",
       "      <td>0.399459</td>\n",
       "    </tr>\n",
       "    <tr>\n",
       "      <th>3</th>\n",
       "      <td>3</td>\n",
       "      <td>395</td>\n",
       "      <td>6</td>\n",
       "      <td>0</td>\n",
       "      <td>1199</td>\n",
       "      <td>178.0</td>\n",
       "      <td>76.0</td>\n",
       "      <td>3</td>\n",
       "      <td>260</td>\n",
       "      <td>150</td>\n",
       "      <td>42</td>\n",
       "      <td>68</td>\n",
       "      <td>39</td>\n",
       "      <td>31</td>\n",
       "      <td>0</td>\n",
       "      <td>1</td>\n",
       "      <td>0.00</td>\n",
       "      <td>0.00</td>\n",
       "      <td>104</td>\n",
       "      <td>37</td>\n",
       "      <td>0.346821</td>\n",
       "      <td>0.003297</td>\n",
       "      <td>0.514693</td>\n",
       "      <td>0.013752</td>\n",
       "      <td>1</td>\n",
       "      <td>0.327775</td>\n",
       "      <td>0.412859</td>\n",
       "      <td>0.336638</td>\n",
       "      <td>0.433294</td>\n",
       "    </tr>\n",
       "    <tr>\n",
       "      <th>4</th>\n",
       "      <td>4</td>\n",
       "      <td>396</td>\n",
       "      <td>51</td>\n",
       "      <td>1</td>\n",
       "      <td>758</td>\n",
       "      <td>180.0</td>\n",
       "      <td>73.0</td>\n",
       "      <td>1</td>\n",
       "      <td>124</td>\n",
       "      <td>41</td>\n",
       "      <td>40</td>\n",
       "      <td>43</td>\n",
       "      <td>1</td>\n",
       "      <td>8</td>\n",
       "      <td>4</td>\n",
       "      <td>2</td>\n",
       "      <td>0.25</td>\n",
       "      <td>0.25</td>\n",
       "      <td>37</td>\n",
       "      <td>11</td>\n",
       "      <td>0.331600</td>\n",
       "      <td>0.000151</td>\n",
       "      <td>0.335587</td>\n",
       "      <td>0.000586</td>\n",
       "      <td>2</td>\n",
       "      <td>0.338847</td>\n",
       "      <td>0.379497</td>\n",
       "      <td>0.331882</td>\n",
       "      <td>0.328895</td>\n",
       "    </tr>\n",
       "  </tbody>\n",
       "</table>\n",
       "</div>"
      ],
      "text/plain": [
       "   playerShort  player  club  leagueCountry  birthday  height  weight  \\\n",
       "0            0     392    34              0       360   182.0    71.0   \n",
       "1            1     393    91              2       176   183.0    73.0   \n",
       "2            2     394    83              0       719   165.0    63.0   \n",
       "3            3     395     6              0      1199   178.0    76.0   \n",
       "4            4     396    51              1       758   180.0    73.0   \n",
       "\n",
       "   position  games  victories  ties  defeats  goals  yellowCards  yellowReds  \\\n",
       "0         1    654        247   179      228      9           19           0   \n",
       "1         0    336        141    73      122     62           42           0   \n",
       "2        11    412        200    97      115     31           11           0   \n",
       "3         3    260        150    42       68     39           31           0   \n",
       "4         1    124         41    40       43      1            8           4   \n",
       "\n",
       "   redCards  rater1  rater2  refCount  refCountryCount   meanIAT     seIAT  \\\n",
       "0         0    0.25    0.00       166               37  0.346459  0.003297   \n",
       "1         1    0.00    0.25        99               25  0.348818  0.003297   \n",
       "2         0    0.25    0.25       101               28  0.345893  0.003297   \n",
       "3         1    0.00    0.00       104               37  0.346821  0.003297   \n",
       "4         2    0.25    0.25        37               11  0.331600  0.000151   \n",
       "\n",
       "    meanExp     seExp  color_rating  meanIAT_nIAT  meanExp_nExp  \\\n",
       "0  0.494575  0.013752             1      0.328409      0.367721   \n",
       "1  0.449220  0.013752             2      0.329945      0.441615   \n",
       "2  0.491482  0.013752             2      0.328230      0.365628   \n",
       "3  0.514693  0.013752             1      0.327775      0.412859   \n",
       "4  0.335587  0.000586             2      0.338847      0.379497   \n",
       "\n",
       "   meanIAT_GameNbr  meanExp_GameNbr  \n",
       "0         0.333195         0.400637  \n",
       "1         0.341438         0.380811  \n",
       "2         0.332389         0.399459  \n",
       "3         0.336638         0.433294  \n",
       "4         0.331882         0.328895  "
      ]
     },
     "execution_count": 12,
     "metadata": {},
     "output_type": "execute_result"
    }
   ],
   "source": [
    "data_aggregated = pd.read_csv('CrowdstormingDataJuly1st_aggregated_encoded.csv')\n",
    "data_aggregated.head()"
   ]
  },
  {
   "cell_type": "markdown",
   "metadata": {},
   "source": [
    "## Aggregated data\n",
    "the same inspection as above"
   ]
  },
  {
   "cell_type": "code",
   "execution_count": 13,
   "metadata": {
    "collapsed": false,
    "scrolled": true
   },
   "outputs": [
    {
     "name": "stdout",
     "output_type": "stream",
     "text": [
      "[CV]  ................................................................\n",
      "[CV]  ................................................................\n",
      "[CV]  ................................................................\n",
      "[CV] ....................................... , score=0.400000 -   0.0s\n",
      "[CV]  ................................................................\n",
      "[CV] ....................................... , score=0.418750 -   0.0s\n",
      "[CV]  ................................................................\n",
      "[CV] ....................................... , score=0.431250 -   0.0s\n",
      "[CV]  ................................................................\n",
      "[CV] ....................................... , score=0.383648 -   0.0s\n",
      "[CV] ....................................... , score=0.398734 -   0.0s\n",
      "[CV]  ................................................................\n",
      "[CV] ....................................... , score=0.443038 -   0.0s\n",
      "[CV]  ................................................................\n",
      "[CV] ....................................... , score=0.405063 -   0.0s\n",
      "[CV]  ................................................................\n",
      "[CV] ....................................... , score=0.423077 -   0.0s\n",
      "[CV] ....................................... , score=0.411392 -   0.0s\n",
      "[CV]  ................................................................\n",
      "[CV] ....................................... , score=0.392405 -   0.0s\n"
     ]
    },
    {
     "name": "stderr",
     "output_type": "stream",
     "text": [
      "[Parallel(n_jobs=3)]: Done  10 out of  10 | elapsed:    0.4s finished\n"
     ]
    },
    {
     "data": {
      "text/plain": [
       "array([ 0.41875   ,  0.43125   ,  0.4       ,  0.3836478 ,  0.39873418,\n",
       "        0.40506329,  0.41139241,  0.39240506,  0.44303797,  0.42307692])"
      ]
     },
     "execution_count": 13,
     "metadata": {},
     "output_type": "execute_result"
    }
   ],
   "source": [
    "rf = RandomForestClassifier()\n",
    "aggr_rf_input_data = data_aggregated.drop(['rater1', 'rater2', 'color_rating'], axis=1)\n",
    "aggr_player_colors = data_aggregated['color_rating']\n",
    "\n",
    "result = cross_val_score(rf, aggr_rf_input_data, aggr_player_colors, cv=10, n_jobs=3, pre_dispatch='n_jobs+1', verbose=3)\n",
    "result"
   ]
  },
  {
   "cell_type": "code",
   "execution_count": 14,
   "metadata": {
    "collapsed": false
   },
   "outputs": [],
   "source": [
    "#normalize input_data test -> has no influence\n",
    "#aggr_rf_input_data_scaled = aggr_rf_input_data.apply(lambda c: c/c.max(), axis=0)\n",
    "#cross_val_score(rf, aggr_rf_input_data_scaled, aggr_player_colors, cv=10, n_jobs=3, pre_dispatch='n_jobs+1', verbose=3)"
   ]
  },
  {
   "cell_type": "code",
   "execution_count": 15,
   "metadata": {
    "collapsed": false
   },
   "outputs": [
    {
     "name": "stdout",
     "output_type": "stream",
     "text": [
      "Feature ranking:\n",
      "1. feature n° 4 birthday (0.051553)\n",
      "2. feature n° 25 meanExp_GameNbr (0.050413)\n",
      "3. feature n° 1 player (0.050188)\n",
      "4. feature n° 9 victories (0.050113)\n",
      "5. feature n° 18 meanIAT (0.049159)\n",
      "6. feature n° 10 ties (0.047657)\n",
      "7. feature n° 11 defeats (0.047184)\n",
      "8. feature n° 23 meanExp_nExp (0.046491)\n",
      "9. feature n° 2 club (0.045670)\n",
      "10. feature n° 22 meanIAT_nIAT (0.043586)\n",
      "11. feature n° 0 playerShort (0.042526)\n",
      "12. feature n° 12 goals (0.041402)\n",
      "13. feature n° 24 meanIAT_GameNbr (0.041053)\n",
      "14. feature n° 6 weight (0.040639)\n",
      "15. feature n° 5 height (0.040350)\n",
      "16. feature n° 13 yellowCards (0.039893)\n",
      "17. feature n° 16 refCount (0.039514)\n",
      "18. feature n° 20 meanExp (0.038890)\n",
      "19. feature n° 17 refCountryCount (0.036449)\n",
      "20. feature n° 7 position (0.032304)\n",
      "21. feature n° 8 games (0.030145)\n",
      "22. feature n° 19 seIAT (0.024815)\n",
      "23. feature n° 21 seExp (0.021962)\n",
      "24. feature n° 3 leagueCountry (0.017824)\n",
      "25. feature n° 14 yellowReds (0.016401)\n",
      "26. feature n° 15 redCards (0.013821)\n"
     ]
    },
    {
     "data": {
      "image/png": "[encoded data removed]",
      "text/plain": [
       "<matplotlib.figure.Figure at 0x7f82d6a9e5c0>"
      ]
     },
     "metadata": {},
     "output_type": "display_data"
    }
   ],
   "source": [
    "show_important_features_random_forest(aggr_rf_input_data, aggr_player_colors)"
   ]
  },
  {
   "cell_type": "markdown",
   "metadata": {},
   "source": [
    "That makes a lot more sense. The features are much more equal and interestingly meanIAT plays the most important role. But before going more into detail, we adress the overfitting issue mentioned in the assignment."
   ]
  },
  {
   "cell_type": "markdown",
   "metadata": {},
   "source": [
    "## Show overfitting issue\n",
    "The classifier overfitts when the Training error is much lower than the testing error.\n",
    "\n",
    "The (in our eyes important) parameters of the RF concerning overfitting are:\n",
    "- n_estimators: how many trees -> the more threes the less overfitting since they balance each other out\n",
    "- max_depth: the max depth of the tree -> the deeper the more overfitting is possible\n",
    "- min_samples_leaf: The minimum number of samples required to be at a leaf node -> the smaller, the higher the possible overfitting\n",
    "\n",
    "So to overfit we choose few trees (say, 3), unbounded max depth (None) and min samples 1.\n",
    "To counter the overfitting we take higher values for a second tree."
   ]
  },
  {
   "cell_type": "code",
   "execution_count": null,
   "metadata": {
    "collapsed": false
   },
   "outputs": [],
   "source": []
  },
  {
   "cell_type": "code",
   "execution_count": null,
   "metadata": {
    "collapsed": false,
    "scrolled": true
   },
   "outputs": [],
   "source": []
  },
  {
   "cell_type": "markdown",
   "metadata": {},
   "source": [
    "To show the impact of each parameter we try different out and plot the train vs test error.\n",
    "Luckily there is a function for this :D"
   ]
  },
  {
   "cell_type": "code",
   "execution_count": 16,
   "metadata": {
    "collapsed": false
   },
   "outputs": [
    {
     "name": "stderr",
     "output_type": "stream",
     "text": [
      "[Parallel(n_jobs=10)]: Done  87 out of  87 | elapsed:    2.1s finished\n"
     ]
    }
   ],
   "source": [
    "# n_estimators\n",
    "train_scores_estims, valid_scores_estims = validation_curve(\n",
    "    RandomForestClassifier(), aggr_rf_input_data, aggr_player_colors, \n",
    "    \"n_estimators\", range(1, 30), n_jobs=10,verbose=1)"
   ]
  },
  {
   "cell_type": "code",
   "execution_count": 17,
   "metadata": {
    "collapsed": false
   },
   "outputs": [
    {
     "name": "stderr",
     "output_type": "stream",
     "text": [
      "[Parallel(n_jobs=10)]: Done  87 out of  87 | elapsed:    1.4s finished\n"
     ]
    }
   ],
   "source": [
    "# max_depth\n",
    "train_scores_depth, valid_scores_depth = validation_curve(\n",
    "    RandomForestClassifier(), aggr_rf_input_data, aggr_player_colors, \n",
    "    \"max_depth\", range(1, 30), n_jobs=10,verbose=1)"
   ]
  },
  {
   "cell_type": "code",
   "execution_count": 18,
   "metadata": {
    "collapsed": false
   },
   "outputs": [
    {
     "name": "stderr",
     "output_type": "stream",
     "text": [
      "[Parallel(n_jobs=3)]: Done 297 out of 297 | elapsed:    4.2s finished\n"
     ]
    }
   ],
   "source": [
    "# min_samples_leaf\n",
    "train_scores_leaf, valid_scores_leaf = validation_curve(\n",
    "    RandomForestClassifier(), aggr_rf_input_data, aggr_player_colors, \n",
    "    \"min_samples_leaf\", range(1, 100), n_jobs=3,verbose=1)"
   ]
  },
  {
   "cell_type": "code",
   "execution_count": 19,
   "metadata": {
    "collapsed": false
   },
   "outputs": [
    {
     "data": {
      "image/png": "[encoded data removed]",
      "text/plain": [
       "<matplotlib.figure.Figure at 0x7f82d69e7978>"
      ]
     },
     "metadata": {},
     "output_type": "display_data"
    }
   ],
   "source": [
    "plt.plot(train_scores_estims, color='b', label=\"train error\")\n",
    "plt.plot(valid_scores_estims, color='r', label=\"test error\")\n",
    "plt.title(\"n_estimators\")\n",
    "plt.show()"
   ]
  },
  {
   "cell_type": "code",
   "execution_count": 20,
   "metadata": {
    "collapsed": false
   },
   "outputs": [
    {
     "data": {
      "image/png": "[encoded data removed]",
      "text/plain": [
       "<matplotlib.figure.Figure at 0x7f82d6a1ec88>"
      ]
     },
     "metadata": {},
     "output_type": "display_data"
    }
   ],
   "source": [
    "plt.plot(train_scores_depth, color='b', label=\"train error\")\n",
    "plt.plot(valid_scores_depth, color='r', label=\"test error\")\n",
    "plt.title(\"max_depth\")\n",
    "plt.show()"
   ]
  },
  {
   "cell_type": "code",
   "execution_count": 21,
   "metadata": {
    "collapsed": false
   },
   "outputs": [
    {
     "data": {
      "image/png": "[encoded data removed]",
      "text/plain": [
       "<matplotlib.figure.Figure at 0x7f82d6a6d208>"
      ]
     },
     "metadata": {},
     "output_type": "display_data"
    }
   ],
   "source": [
    "plt.plot(train_scores_leaf, color='b', label=\"train error\")\n",
    "plt.plot(valid_scores_leaf, color='r', label=\"test error\")\n",
    "plt.title(\"min_samples_leaf\")\n",
    "plt.show()"
   ]
  },
  {
   "cell_type": "markdown",
   "metadata": {},
   "source": [
    "It can be seen that the higher the max_depth, the higher is the overfitting. The same is true for the min_samples only in reverse. n_estimators ... words ... TODO"
   ]
  },
  {
   "cell_type": "code",
   "execution_count": null,
   "metadata": {
    "collapsed": true
   },
   "outputs": [],
   "source": []
  }
 ],
 "metadata": {
  "anaconda-cloud": {},
  "kernelspec": {
   "display_name": "Python [Root]",
   "language": "python",
   "name": "Python [Root]"
  },
  "language_info": {
   "codemirror_mode": {
    "name": "ipython",
    "version": 3
   },
   "file_extension": ".py",
   "mimetype": "text/x-python",
   "name": "python",
   "nbconvert_exporter": "python",
   "pygments_lexer": "ipython3",
   "version": "3.5.2"
  }
 },
 "nbformat": 4,
 "nbformat_minor": 1
}
