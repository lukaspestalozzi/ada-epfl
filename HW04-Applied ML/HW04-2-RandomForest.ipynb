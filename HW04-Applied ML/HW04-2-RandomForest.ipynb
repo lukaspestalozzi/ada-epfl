{
 "cells": [
  {
   "cell_type": "markdown",
   "metadata": {},
   "source": [
    "# Part 1\n",
    "#### Assignment\n",
    "Train a `sklearn.ensemble.RandomForestClassifier` that given a soccer player description outputs his skin color. \n",
    "- Show how different parameters passed to the Classifier affect the overfitting issue. \n",
    "- Perform cross-validation to mitigate the overfitting of your model. \n",
    "\n",
    "Once you assessed your model,\n",
    "- inspect the `feature_importances_` attribute and discuss the obtained results. \n",
    "- With different assumptions on the data (e.g., dropping certain features even before feeding them to the classifier), can you obtain a substantially different `feature_importances_` attribute?\n",
    "\n",
    "## Plan\n",
    "First we will just lok at the Random Forest classifier without any parameters (just use the default) -> gives very good scores \n",
    "\n",
    "Look a bit at the feature_importances\n",
    "\n",
    "Then we see that it is better to aggregate the data by player (We can't show overfitting with 'flawed' data and very good scores, so we first aggregate)\n",
    "\n",
    "Aggregate\n",
    "\n",
    "Look again at the classifier with default parameters\n",
    "\n",
    "Show the effect of some parameters to overfitting\n",
    "\n",
    "Find acceptable values of parameters\n",
    "\n",
    "Inspect the feature_importances\n",
    "\n",
    "drop some and see impact on feature_importances\n",
    "\n",
    "Note that we use the values 1, 2, 3, 4, 5 or WW, W, N, B, BB interchangably for the _skin color categories_ of the players\n"
   ]
  },
  {
   "cell_type": "code",
   "execution_count": 1,
   "metadata": {
    "collapsed": false
   },
   "outputs": [],
   "source": [
    "# imports\n",
    "import pandas as pd\n",
    "import numpy as np\n",
    "import seaborn as sns\n",
    "import matplotlib.pyplot as plt\n",
    "from matplotlib.pyplot import show\n",
    "import itertools\n",
    "# sklearn\n",
    "from sklearn.ensemble import RandomForestClassifier, RandomForestRegressor\n",
    "from sklearn import preprocessing as pp\n",
    "from sklearn.model_selection import KFold , cross_val_score, train_test_split, validation_curve\n",
    "from sklearn.metrics import make_scorer, roc_curve, roc_auc_score, accuracy_score, confusion_matrix\n",
    "from sklearn.model_selection import learning_curve\n",
    "import sklearn.preprocessing as preprocessing\n",
    "\n",
    "%matplotlib inline\n",
    "sns.set_context('notebook')\n",
    "pd.options.mode.chained_assignment = None  # default='warn'\n",
    "pd.set_option('display.max_columns', 500) # to see all columns"
   ]
  },
  {
   "cell_type": "markdown",
   "metadata": {},
   "source": [
    "Load the preprocessed data and look at it. We preprocess the data in the _HW01-1-Preprocessing_ notebook.\n",
    "The data is already encoded to be used for the RandomForestClassifier."
   ]
  },
  {
   "cell_type": "code",
   "execution_count": 2,
   "metadata": {
    "collapsed": false
   },
   "outputs": [
    {
     "name": "stdout",
     "output_type": "stream",
     "text": [
      "Number of dayads (124468, 27)\n"
     ]
    },
    {
     "data": {
      "text/html": [
       "<div>\n",
       "<table border=\"1\" class=\"dataframe\">\n",
       "  <thead>\n",
       "    <tr style=\"text-align: right;\">\n",
       "      <th></th>\n",
       "      <th>playerShort</th>\n",
       "      <th>player</th>\n",
       "      <th>club</th>\n",
       "      <th>leagueCountry</th>\n",
       "      <th>birthday</th>\n",
       "      <th>height</th>\n",
       "      <th>weight</th>\n",
       "      <th>position</th>\n",
       "      <th>games</th>\n",
       "      <th>victories</th>\n",
       "      <th>ties</th>\n",
       "      <th>defeats</th>\n",
       "      <th>goals</th>\n",
       "      <th>yellowCards</th>\n",
       "      <th>yellowReds</th>\n",
       "      <th>redCards</th>\n",
       "      <th>photoID</th>\n",
       "      <th>refNum</th>\n",
       "      <th>refCountry</th>\n",
       "      <th>Alpha_3</th>\n",
       "      <th>meanIAT</th>\n",
       "      <th>nIAT</th>\n",
       "      <th>seIAT</th>\n",
       "      <th>meanExp</th>\n",
       "      <th>nExp</th>\n",
       "      <th>seExp</th>\n",
       "      <th>color_rating</th>\n",
       "    </tr>\n",
       "  </thead>\n",
       "  <tbody>\n",
       "    <tr>\n",
       "      <th>0</th>\n",
       "      <td>901</td>\n",
       "      <td>1046</td>\n",
       "      <td>70</td>\n",
       "      <td>3</td>\n",
       "      <td>1382</td>\n",
       "      <td>177.0</td>\n",
       "      <td>72.0</td>\n",
       "      <td>0</td>\n",
       "      <td>1</td>\n",
       "      <td>0</td>\n",
       "      <td>0</td>\n",
       "      <td>1</td>\n",
       "      <td>0</td>\n",
       "      <td>0</td>\n",
       "      <td>0</td>\n",
       "      <td>0</td>\n",
       "      <td>1532</td>\n",
       "      <td>1</td>\n",
       "      <td>1</td>\n",
       "      <td>59</td>\n",
       "      <td>0.326391</td>\n",
       "      <td>712.0</td>\n",
       "      <td>0.000564</td>\n",
       "      <td>0.396000</td>\n",
       "      <td>750.0</td>\n",
       "      <td>0.002696</td>\n",
       "      <td>2</td>\n",
       "    </tr>\n",
       "    <tr>\n",
       "      <th>1</th>\n",
       "      <td>739</td>\n",
       "      <td>919</td>\n",
       "      <td>51</td>\n",
       "      <td>1</td>\n",
       "      <td>320</td>\n",
       "      <td>179.0</td>\n",
       "      <td>82.0</td>\n",
       "      <td>12</td>\n",
       "      <td>1</td>\n",
       "      <td>0</td>\n",
       "      <td>0</td>\n",
       "      <td>1</td>\n",
       "      <td>0</td>\n",
       "      <td>1</td>\n",
       "      <td>0</td>\n",
       "      <td>0</td>\n",
       "      <td>497</td>\n",
       "      <td>2</td>\n",
       "      <td>2</td>\n",
       "      <td>153</td>\n",
       "      <td>0.203375</td>\n",
       "      <td>40.0</td>\n",
       "      <td>0.010875</td>\n",
       "      <td>-0.204082</td>\n",
       "      <td>49.0</td>\n",
       "      <td>0.061504</td>\n",
       "      <td>4</td>\n",
       "    </tr>\n",
       "    <tr>\n",
       "      <th>5</th>\n",
       "      <td>0</td>\n",
       "      <td>392</td>\n",
       "      <td>34</td>\n",
       "      <td>0</td>\n",
       "      <td>360</td>\n",
       "      <td>182.0</td>\n",
       "      <td>71.0</td>\n",
       "      <td>1</td>\n",
       "      <td>1</td>\n",
       "      <td>0</td>\n",
       "      <td>0</td>\n",
       "      <td>1</td>\n",
       "      <td>0</td>\n",
       "      <td>0</td>\n",
       "      <td>0</td>\n",
       "      <td>0</td>\n",
       "      <td>1081</td>\n",
       "      <td>4</td>\n",
       "      <td>4</td>\n",
       "      <td>87</td>\n",
       "      <td>0.325185</td>\n",
       "      <td>127.0</td>\n",
       "      <td>0.003297</td>\n",
       "      <td>0.538462</td>\n",
       "      <td>130.0</td>\n",
       "      <td>0.013752</td>\n",
       "      <td>1</td>\n",
       "    </tr>\n",
       "    <tr>\n",
       "      <th>6</th>\n",
       "      <td>45</td>\n",
       "      <td>425</td>\n",
       "      <td>48</td>\n",
       "      <td>0</td>\n",
       "      <td>446</td>\n",
       "      <td>187.0</td>\n",
       "      <td>80.0</td>\n",
       "      <td>7</td>\n",
       "      <td>1</td>\n",
       "      <td>1</td>\n",
       "      <td>0</td>\n",
       "      <td>0</td>\n",
       "      <td>0</td>\n",
       "      <td>0</td>\n",
       "      <td>0</td>\n",
       "      <td>0</td>\n",
       "      <td>1175</td>\n",
       "      <td>4</td>\n",
       "      <td>4</td>\n",
       "      <td>87</td>\n",
       "      <td>0.325185</td>\n",
       "      <td>127.0</td>\n",
       "      <td>0.003297</td>\n",
       "      <td>0.538462</td>\n",
       "      <td>130.0</td>\n",
       "      <td>0.013752</td>\n",
       "      <td>1</td>\n",
       "    </tr>\n",
       "    <tr>\n",
       "      <th>7</th>\n",
       "      <td>64</td>\n",
       "      <td>440</td>\n",
       "      <td>54</td>\n",
       "      <td>0</td>\n",
       "      <td>158</td>\n",
       "      <td>180.0</td>\n",
       "      <td>68.0</td>\n",
       "      <td>4</td>\n",
       "      <td>1</td>\n",
       "      <td>0</td>\n",
       "      <td>0</td>\n",
       "      <td>1</td>\n",
       "      <td>0</td>\n",
       "      <td>0</td>\n",
       "      <td>0</td>\n",
       "      <td>0</td>\n",
       "      <td>803</td>\n",
       "      <td>4</td>\n",
       "      <td>4</td>\n",
       "      <td>87</td>\n",
       "      <td>0.325185</td>\n",
       "      <td>127.0</td>\n",
       "      <td>0.003297</td>\n",
       "      <td>0.538462</td>\n",
       "      <td>130.0</td>\n",
       "      <td>0.013752</td>\n",
       "      <td>5</td>\n",
       "    </tr>\n",
       "  </tbody>\n",
       "</table>\n",
       "</div>"
      ],
      "text/plain": [
       "   playerShort  player  club  leagueCountry  birthday  height  weight  \\\n",
       "0          901    1046    70              3      1382   177.0    72.0   \n",
       "1          739     919    51              1       320   179.0    82.0   \n",
       "5            0     392    34              0       360   182.0    71.0   \n",
       "6           45     425    48              0       446   187.0    80.0   \n",
       "7           64     440    54              0       158   180.0    68.0   \n",
       "\n",
       "   position  games  victories  ties  defeats  goals  yellowCards  yellowReds  \\\n",
       "0         0      1          0     0        1      0            0           0   \n",
       "1        12      1          0     0        1      0            1           0   \n",
       "5         1      1          0     0        1      0            0           0   \n",
       "6         7      1          1     0        0      0            0           0   \n",
       "7         4      1          0     0        1      0            0           0   \n",
       "\n",
       "   redCards  photoID  refNum  refCountry  Alpha_3   meanIAT   nIAT     seIAT  \\\n",
       "0         0     1532       1           1       59  0.326391  712.0  0.000564   \n",
       "1         0      497       2           2      153  0.203375   40.0  0.010875   \n",
       "5         0     1081       4           4       87  0.325185  127.0  0.003297   \n",
       "6         0     1175       4           4       87  0.325185  127.0  0.003297   \n",
       "7         0      803       4           4       87  0.325185  127.0  0.003297   \n",
       "\n",
       "    meanExp   nExp     seExp  color_rating  \n",
       "0  0.396000  750.0  0.002696             2  \n",
       "1 -0.204082   49.0  0.061504             4  \n",
       "5  0.538462  130.0  0.013752             1  \n",
       "6  0.538462  130.0  0.013752             1  \n",
       "7  0.538462  130.0  0.013752             5  "
      ]
     },
     "execution_count": 2,
     "metadata": {},
     "output_type": "execute_result"
    }
   ],
   "source": [
    "data = pd.read_csv('CrowdstormingDataJuly1st_preprocessed_encoded.csv', index_col=0)\n",
    "data_total = data.copy()\n",
    "print('Number of dayads', data.shape)\n",
    "data.head()"
   ]
  },
  {
   "cell_type": "code",
   "execution_count": 3,
   "metadata": {
    "collapsed": false
   },
   "outputs": [
    {
     "name": "stdout",
     "output_type": "stream",
     "text": [
      "Number of diads:  124468\n",
      "Number of players:  1585\n",
      "Number of referees:  2967\n"
     ]
    }
   ],
   "source": [
    "print('Number of diads: ', len(data))\n",
    "print('Number of players: ', len(data.playerShort.unique()))\n",
    "print('Number of referees: ', len(data.refNum.unique()))"
   ]
  },
  {
   "cell_type": "markdown",
   "metadata": {},
   "source": [
    "## First Random Forest"
   ]
  },
  {
   "cell_type": "markdown",
   "metadata": {},
   "source": [
    "First we just train and test the preprocessed data with the default values of the Random Forest to see what happens.\n",
    "For this first model, we will use all the features (color_rating) and then we will observe which are the most important.\n"
   ]
  },
  {
   "cell_type": "code",
   "execution_count": 4,
   "metadata": {
    "collapsed": false
   },
   "outputs": [
    {
     "data": {
      "text/plain": [
       "0    2\n",
       "1    4\n",
       "5    1\n",
       "6    1\n",
       "7    5\n",
       "Name: color_rating, dtype: int64"
      ]
     },
     "execution_count": 4,
     "metadata": {},
     "output_type": "execute_result"
    }
   ],
   "source": [
    "player_colors = data['color_rating']\n",
    "rf_input_data = data.drop(['color_rating'], axis=1)\n",
    "player_colors.head() # values 1 to 5"
   ]
  },
  {
   "cell_type": "code",
   "execution_count": 5,
   "metadata": {
    "collapsed": false
   },
   "outputs": [
    {
     "name": "stderr",
     "output_type": "stream",
     "text": [
      "[Parallel(n_jobs=3)]: Done  10 out of  10 | elapsed:   11.1s finished\n"
     ]
    },
    {
     "data": {
      "text/plain": [
       "array([ 0.89878705,  0.90568766,  0.90183162,  0.90496465,  0.89885925,\n",
       "        0.90632281,  0.90678988,  0.91064685,  0.90317397,  0.88798714])"
      ]
     },
     "execution_count": 5,
     "metadata": {},
     "output_type": "execute_result"
    }
   ],
   "source": [
    "rf = RandomForestClassifier()\n",
    "cross_val_score(rf, rf_input_data, player_colors, cv=10, n_jobs=3, pre_dispatch='n_jobs+1', verbose=1)"
   ]
  },
  {
   "cell_type": "markdown",
   "metadata": {},
   "source": [
    "Quite good results..."
   ]
  },
  {
   "cell_type": "markdown",
   "metadata": {},
   "source": [
    "### Observe the important features"
   ]
  },
  {
   "cell_type": "code",
   "execution_count": 6,
   "metadata": {
    "collapsed": false
   },
   "outputs": [],
   "source": [
    "def show_important_features_random_forest(X, y, rf=None):\n",
    "    if rf is None:\n",
    "        rf = RandomForestClassifier()\n",
    "\n",
    "    # train the forest\n",
    "    rf.fit(X, y)\n",
    "\n",
    "    # find the feature importances\n",
    "    importances = rf.feature_importances_\n",
    "    std = np.std([tree.feature_importances_ for tree in rf.estimators_], axis=0)\n",
    "    indices = np.argsort(importances)[::-1]\n",
    "    \n",
    "    # plot the feature importances\n",
    "    cols = X.columns\n",
    "    print(\"Feature ranking:\")\n",
    "    for f in range(X.shape[1]):\n",
    "        print(\"%d. feature n° %d %s (%f)\" % (f + 1, indices[f], cols[indices[f]], importances[indices[f]]))\n",
    "\n",
    "    # Plot the feature importances of the forest\n",
    "    plt.figure()\n",
    "    plt.title(\"Feature importances\")\n",
    "    plt.bar(range(X.shape[1]), importances[indices],\n",
    "           color=\"r\", yerr=std[indices], align=\"center\")\n",
    "    plt.xticks(range(X.shape[1]), indices)\n",
    "    plt.xlim([-1, X.shape[1]])\n",
    "    plt.show()  \n"
   ]
  },
  {
   "cell_type": "code",
   "execution_count": 7,
   "metadata": {
    "collapsed": false
   },
   "outputs": [
    {
     "name": "stdout",
     "output_type": "stream",
     "text": [
      "Feature ranking:\n",
      "1. feature n° 1 player (0.117776)\n",
      "2. feature n° 16 photoID (0.114294)\n",
      "3. feature n° 4 birthday (0.112562)\n",
      "4. feature n° 0 playerShort (0.100325)\n",
      "5. feature n° 2 club (0.097478)\n",
      "6. feature n° 6 weight (0.090697)\n",
      "7. feature n° 5 height (0.090636)\n",
      "8. feature n° 7 position (0.077081)\n",
      "9. feature n° 17 refNum (0.043150)\n",
      "10. feature n° 3 leagueCountry (0.031028)\n",
      "11. feature n° 8 games (0.015178)\n",
      "12. feature n° 9 victories (0.013920)\n",
      "13. feature n° 11 defeats (0.011677)\n",
      "14. feature n° 10 ties (0.010541)\n",
      "15. feature n° 18 refCountry (0.009041)\n",
      "16. feature n° 25 seExp (0.007990)\n",
      "17. feature n° 13 yellowCards (0.007921)\n",
      "18. feature n° 20 meanIAT (0.007845)\n",
      "19. feature n° 23 meanExp (0.007731)\n",
      "20. feature n° 12 goals (0.007601)\n",
      "21. feature n° 22 seIAT (0.006276)\n",
      "22. feature n° 21 nIAT (0.006130)\n",
      "23. feature n° 19 Alpha_3 (0.006119)\n",
      "24. feature n° 24 nExp (0.005785)\n",
      "25. feature n° 15 redCards (0.000620)\n",
      "26. feature n° 14 yellowReds (0.000596)\n"
     ]
    },
    {
     "data": {
      "image/png": "[encoded data removed]",
      "text/plain": [
       "<matplotlib.figure.Figure at 0x7f9b7c2717f0>"
      ]
     },
     "metadata": {},
     "output_type": "display_data"
    }
   ],
   "source": [
    "show_important_features_random_forest(rf_input_data, player_colors)"
   ]
  },
  {
   "cell_type": "markdown",
   "metadata": {},
   "source": [
    "We can see that the most important features are:\n",
    "    - photoID\n",
    "    - player\n",
    "    - the birthday\n",
    "    - playerShort\n",
    "    \n",
    "The obtained result is weird. From personal experience, those 4 features should to be independant of the skin color and they also should be unique to one player. PhotoID is the id of the photo and thus unique for one player and independent of the skin_color. Same about 'player' and 'playerShort' (both represent the players name). Birthday is not necessarily unique, but should not be that important for the skin color since people all over the world are born all the time."
   ]
  },
  {
   "cell_type": "markdown",
   "metadata": {},
   "source": [
    "We have to remember that our data contains dyads between player and referee, so a player can appear several times in our data. It could be the reason why the unique features for the players are imprtant. Let's look at the data:"
   ]
  },
  {
   "cell_type": "code",
   "execution_count": 8,
   "metadata": {
    "collapsed": false,
    "scrolled": false
   },
   "outputs": [
    {
     "data": {
      "text/plain": [
       "415     202\n",
       "732     197\n",
       "681     196\n",
       "541     195\n",
       "1552    188\n",
       "587     183\n",
       "1226    181\n",
       "1578    181\n",
       "1388    180\n",
       "603     177\n",
       "Name: playerShort, dtype: int64"
      ]
     },
     "execution_count": 8,
     "metadata": {},
     "output_type": "execute_result"
    }
   ],
   "source": [
    "data.playerShort.value_counts()[:10]"
   ]
  },
  {
   "cell_type": "markdown",
   "metadata": {},
   "source": [
    "Indeed, some players appear around 200 times, so it is easy to determine the skin-color of _djibril cisse_ if he appears both in the training set and in the test set. But in the reality the probability to have 2 _djibril cisse_ with the same birthday and same color skin is almost null.\n",
    "The reason why this attributes are so important is that some of the rows of one player appear in the train and test set, so the classifier can take those to determine the skin-color."
   ]
  },
  {
   "cell_type": "markdown",
   "metadata": {},
   "source": [
    "So we drop those attributes and see what happens."
   ]
  },
  {
   "cell_type": "code",
   "execution_count": 9,
   "metadata": {
    "collapsed": false
   },
   "outputs": [],
   "source": [
    "rf_input_data_drop = rf_input_data.drop(['birthday', 'player','playerShort', 'photoID'], axis=1)"
   ]
  },
  {
   "cell_type": "code",
   "execution_count": 10,
   "metadata": {
    "collapsed": false
   },
   "outputs": [
    {
     "name": "stderr",
     "output_type": "stream",
     "text": [
      "[Parallel(n_jobs=3)]: Done  10 out of  10 | elapsed:    9.2s finished\n"
     ]
    },
    {
     "data": {
      "text/plain": [
       "array([ 0.69515624,  0.83009319,  0.84832905,  0.85660347,  0.83611825,\n",
       "        0.8454246 ,  0.83784652,  0.86355966,  0.84178385,  0.73314584])"
      ]
     },
     "execution_count": 10,
     "metadata": {},
     "output_type": "execute_result"
    }
   ],
   "source": [
    "rf = RandomForestClassifier()\n",
    "result = cross_val_score(rf, rf_input_data_drop, player_colors, cv=10, n_jobs=3, pre_dispatch='n_jobs+1', verbose=1)\n",
    "\n",
    "result"
   ]
  },
  {
   "cell_type": "markdown",
   "metadata": {},
   "source": [
    "The accuracy of the classifier dropped, which is no surprise."
   ]
  },
  {
   "cell_type": "code",
   "execution_count": 11,
   "metadata": {
    "collapsed": false,
    "scrolled": false
   },
   "outputs": [
    {
     "name": "stdout",
     "output_type": "stream",
     "text": [
      "Feature ranking:\n",
      "1. feature n° 3 weight (0.181070)\n",
      "2. feature n° 2 height (0.177786)\n",
      "3. feature n° 0 club (0.173860)\n",
      "4. feature n° 4 position (0.126222)\n",
      "5. feature n° 13 refNum (0.079536)\n",
      "6. feature n° 1 leagueCountry (0.033625)\n",
      "7. feature n° 5 games (0.029696)\n",
      "8. feature n° 6 victories (0.028180)\n",
      "9. feature n° 8 defeats (0.024317)\n",
      "10. feature n° 7 ties (0.020763)\n",
      "11. feature n° 10 yellowCards (0.018678)\n",
      "12. feature n° 9 goals (0.018314)\n",
      "13. feature n° 16 meanIAT (0.012596)\n",
      "14. feature n° 19 meanExp (0.012420)\n",
      "15. feature n° 14 refCountry (0.011699)\n",
      "16. feature n° 15 Alpha_3 (0.010389)\n",
      "17. feature n° 17 nIAT (0.009907)\n",
      "18. feature n° 20 nExp (0.009745)\n",
      "19. feature n° 21 seExp (0.009124)\n",
      "20. feature n° 18 seIAT (0.008788)\n",
      "21. feature n° 12 redCards (0.001682)\n",
      "22. feature n° 11 yellowReds (0.001603)\n"
     ]
    },
    {
     "data": {
      "image/png": "[encoded data removed]",
      "text/plain": [
       "<matplotlib.figure.Figure at 0x7f9b7c12b9e8>"
      ]
     },
     "metadata": {},
     "output_type": "display_data"
    }
   ],
   "source": [
    "show_important_features_random_forest(rf_input_data_drop, player_colors)"
   ]
  },
  {
   "cell_type": "markdown",
   "metadata": {},
   "source": [
    "That makes more sences, it is possible that dark persons are statistically taller than white persons, but the club and position should not be that important. So we decided to aggregate on the players name to have only one row with the personal information of one player\n",
    "\n",
    "We do the aggregation in the _HW04-1-Preprocessing_ notebook."
   ]
  },
  {
   "cell_type": "markdown",
   "metadata": {},
   "source": [
    "## Aggregated data"
   ]
  },
  {
   "cell_type": "markdown",
   "metadata": {},
   "source": [
    "Load the aggregated data."
   ]
  },
  {
   "cell_type": "code",
   "execution_count": 12,
   "metadata": {
    "collapsed": false
   },
   "outputs": [
    {
     "data": {
      "text/html": [
       "<div>\n",
       "<table border=\"1\" class=\"dataframe\">\n",
       "  <thead>\n",
       "    <tr style=\"text-align: right;\">\n",
       "      <th></th>\n",
       "      <th>playerShort</th>\n",
       "      <th>player</th>\n",
       "      <th>club</th>\n",
       "      <th>leagueCountry</th>\n",
       "      <th>birthday</th>\n",
       "      <th>height</th>\n",
       "      <th>weight</th>\n",
       "      <th>position</th>\n",
       "      <th>games</th>\n",
       "      <th>victories</th>\n",
       "      <th>ties</th>\n",
       "      <th>defeats</th>\n",
       "      <th>goals</th>\n",
       "      <th>yellowCards</th>\n",
       "      <th>yellowReds</th>\n",
       "      <th>redCards</th>\n",
       "      <th>refCount</th>\n",
       "      <th>refCountryCount</th>\n",
       "      <th>meanIAT</th>\n",
       "      <th>seIAT</th>\n",
       "      <th>meanExp</th>\n",
       "      <th>seExp</th>\n",
       "      <th>color_rating</th>\n",
       "      <th>meanIAT_nIAT</th>\n",
       "      <th>meanExp_nExp</th>\n",
       "      <th>meanIAT_GameNbr</th>\n",
       "      <th>meanExp_GameNbr</th>\n",
       "      <th>meanIAT_cards</th>\n",
       "      <th>meanExp_cards</th>\n",
       "    </tr>\n",
       "  </thead>\n",
       "  <tbody>\n",
       "    <tr>\n",
       "      <th>0</th>\n",
       "      <td>0</td>\n",
       "      <td>392</td>\n",
       "      <td>34</td>\n",
       "      <td>0</td>\n",
       "      <td>360</td>\n",
       "      <td>182.0</td>\n",
       "      <td>71.0</td>\n",
       "      <td>1</td>\n",
       "      <td>654</td>\n",
       "      <td>247</td>\n",
       "      <td>179</td>\n",
       "      <td>228</td>\n",
       "      <td>9</td>\n",
       "      <td>19</td>\n",
       "      <td>0</td>\n",
       "      <td>0</td>\n",
       "      <td>166</td>\n",
       "      <td>37</td>\n",
       "      <td>0.346459</td>\n",
       "      <td>0.001505</td>\n",
       "      <td>0.494575</td>\n",
       "      <td>0.009691</td>\n",
       "      <td>1</td>\n",
       "      <td>0.328409</td>\n",
       "      <td>0.367721</td>\n",
       "      <td>0.333195</td>\n",
       "      <td>0.400637</td>\n",
       "      <td>0.0</td>\n",
       "      <td>0.0</td>\n",
       "    </tr>\n",
       "    <tr>\n",
       "      <th>1</th>\n",
       "      <td>1</td>\n",
       "      <td>393</td>\n",
       "      <td>91</td>\n",
       "      <td>2</td>\n",
       "      <td>176</td>\n",
       "      <td>183.0</td>\n",
       "      <td>73.0</td>\n",
       "      <td>0</td>\n",
       "      <td>336</td>\n",
       "      <td>141</td>\n",
       "      <td>73</td>\n",
       "      <td>122</td>\n",
       "      <td>62</td>\n",
       "      <td>42</td>\n",
       "      <td>0</td>\n",
       "      <td>1</td>\n",
       "      <td>99</td>\n",
       "      <td>25</td>\n",
       "      <td>0.348818</td>\n",
       "      <td>0.000834</td>\n",
       "      <td>0.449220</td>\n",
       "      <td>0.003823</td>\n",
       "      <td>2</td>\n",
       "      <td>0.329945</td>\n",
       "      <td>0.441615</td>\n",
       "      <td>0.341438</td>\n",
       "      <td>0.380811</td>\n",
       "      <td>0.0</td>\n",
       "      <td>0.0</td>\n",
       "    </tr>\n",
       "    <tr>\n",
       "      <th>2</th>\n",
       "      <td>2</td>\n",
       "      <td>394</td>\n",
       "      <td>83</td>\n",
       "      <td>0</td>\n",
       "      <td>719</td>\n",
       "      <td>165.0</td>\n",
       "      <td>63.0</td>\n",
       "      <td>11</td>\n",
       "      <td>412</td>\n",
       "      <td>200</td>\n",
       "      <td>97</td>\n",
       "      <td>115</td>\n",
       "      <td>31</td>\n",
       "      <td>11</td>\n",
       "      <td>0</td>\n",
       "      <td>0</td>\n",
       "      <td>101</td>\n",
       "      <td>28</td>\n",
       "      <td>0.345893</td>\n",
       "      <td>0.001113</td>\n",
       "      <td>0.491482</td>\n",
       "      <td>0.006350</td>\n",
       "      <td>2</td>\n",
       "      <td>0.328230</td>\n",
       "      <td>0.365628</td>\n",
       "      <td>0.332389</td>\n",
       "      <td>0.399459</td>\n",
       "      <td>0.0</td>\n",
       "      <td>0.0</td>\n",
       "    </tr>\n",
       "    <tr>\n",
       "      <th>3</th>\n",
       "      <td>3</td>\n",
       "      <td>395</td>\n",
       "      <td>6</td>\n",
       "      <td>0</td>\n",
       "      <td>1199</td>\n",
       "      <td>178.0</td>\n",
       "      <td>76.0</td>\n",
       "      <td>3</td>\n",
       "      <td>260</td>\n",
       "      <td>150</td>\n",
       "      <td>42</td>\n",
       "      <td>68</td>\n",
       "      <td>39</td>\n",
       "      <td>31</td>\n",
       "      <td>0</td>\n",
       "      <td>1</td>\n",
       "      <td>104</td>\n",
       "      <td>37</td>\n",
       "      <td>0.346821</td>\n",
       "      <td>0.003786</td>\n",
       "      <td>0.514693</td>\n",
       "      <td>0.015240</td>\n",
       "      <td>1</td>\n",
       "      <td>0.327775</td>\n",
       "      <td>0.412859</td>\n",
       "      <td>0.336638</td>\n",
       "      <td>0.433294</td>\n",
       "      <td>0.0</td>\n",
       "      <td>0.0</td>\n",
       "    </tr>\n",
       "    <tr>\n",
       "      <th>4</th>\n",
       "      <td>4</td>\n",
       "      <td>396</td>\n",
       "      <td>51</td>\n",
       "      <td>1</td>\n",
       "      <td>758</td>\n",
       "      <td>180.0</td>\n",
       "      <td>73.0</td>\n",
       "      <td>1</td>\n",
       "      <td>124</td>\n",
       "      <td>41</td>\n",
       "      <td>40</td>\n",
       "      <td>43</td>\n",
       "      <td>1</td>\n",
       "      <td>8</td>\n",
       "      <td>4</td>\n",
       "      <td>2</td>\n",
       "      <td>37</td>\n",
       "      <td>11</td>\n",
       "      <td>0.331600</td>\n",
       "      <td>0.000474</td>\n",
       "      <td>0.335587</td>\n",
       "      <td>0.001745</td>\n",
       "      <td>2</td>\n",
       "      <td>0.338847</td>\n",
       "      <td>0.379497</td>\n",
       "      <td>0.331882</td>\n",
       "      <td>0.328895</td>\n",
       "      <td>0.0</td>\n",
       "      <td>0.0</td>\n",
       "    </tr>\n",
       "  </tbody>\n",
       "</table>\n",
       "</div>"
      ],
      "text/plain": [
       "   playerShort  player  club  leagueCountry  birthday  height  weight  \\\n",
       "0            0     392    34              0       360   182.0    71.0   \n",
       "1            1     393    91              2       176   183.0    73.0   \n",
       "2            2     394    83              0       719   165.0    63.0   \n",
       "3            3     395     6              0      1199   178.0    76.0   \n",
       "4            4     396    51              1       758   180.0    73.0   \n",
       "\n",
       "   position  games  victories  ties  defeats  goals  yellowCards  yellowReds  \\\n",
       "0         1    654        247   179      228      9           19           0   \n",
       "1         0    336        141    73      122     62           42           0   \n",
       "2        11    412        200    97      115     31           11           0   \n",
       "3         3    260        150    42       68     39           31           0   \n",
       "4         1    124         41    40       43      1            8           4   \n",
       "\n",
       "   redCards  refCount  refCountryCount   meanIAT     seIAT   meanExp  \\\n",
       "0         0       166               37  0.346459  0.001505  0.494575   \n",
       "1         1        99               25  0.348818  0.000834  0.449220   \n",
       "2         0       101               28  0.345893  0.001113  0.491482   \n",
       "3         1       104               37  0.346821  0.003786  0.514693   \n",
       "4         2        37               11  0.331600  0.000474  0.335587   \n",
       "\n",
       "      seExp  color_rating  meanIAT_nIAT  meanExp_nExp  meanIAT_GameNbr  \\\n",
       "0  0.009691             1      0.328409      0.367721         0.333195   \n",
       "1  0.003823             2      0.329945      0.441615         0.341438   \n",
       "2  0.006350             2      0.328230      0.365628         0.332389   \n",
       "3  0.015240             1      0.327775      0.412859         0.336638   \n",
       "4  0.001745             2      0.338847      0.379497         0.331882   \n",
       "\n",
       "   meanExp_GameNbr  meanIAT_cards  meanExp_cards  \n",
       "0         0.400637            0.0            0.0  \n",
       "1         0.380811            0.0            0.0  \n",
       "2         0.399459            0.0            0.0  \n",
       "3         0.433294            0.0            0.0  \n",
       "4         0.328895            0.0            0.0  "
      ]
     },
     "execution_count": 12,
     "metadata": {},
     "output_type": "execute_result"
    }
   ],
   "source": [
    "data_aggregated = pd.read_csv('CrowdstormingDataJuly1st_aggregated_encoded.csv')\n",
    "data_aggregated.head()"
   ]
  },
  {
   "cell_type": "markdown",
   "metadata": {},
   "source": [
    "Train the defualt classifier on the new data and look at the important features"
   ]
  },
  {
   "cell_type": "code",
   "execution_count": 13,
   "metadata": {
    "collapsed": false,
    "scrolled": true
   },
   "outputs": [
    {
     "name": "stdout",
     "output_type": "stream",
     "text": [
      "mean result:  0.420077022258\n"
     ]
    },
    {
     "name": "stderr",
     "output_type": "stream",
     "text": [
      "[Parallel(n_jobs=3)]: Done  10 out of  10 | elapsed:    0.4s finished\n"
     ]
    },
    {
     "data": {
      "text/plain": [
       "array([ 0.36645963,  0.50931677,  0.42236025,  0.40625   ,  0.43396226,\n",
       "        0.41139241,  0.43949045,  0.36538462,  0.41025641,  0.43589744])"
      ]
     },
     "execution_count": 13,
     "metadata": {},
     "output_type": "execute_result"
    }
   ],
   "source": [
    "rf = RandomForestClassifier()\n",
    "aggr_rf_input_data = data_aggregated.drop(['color_rating'], axis=1)\n",
    "aggr_player_colors = data_aggregated['color_rating']\n",
    "\n",
    "result = cross_val_score(rf, aggr_rf_input_data, aggr_player_colors, \n",
    "                         cv=10, n_jobs=3, pre_dispatch='n_jobs+1', verbose=1)\n",
    "print(\"mean result: \", np.mean(result))\n",
    "result"
   ]
  },
  {
   "cell_type": "markdown",
   "metadata": {},
   "source": [
    "The results are not very impressive..."
   ]
  },
  {
   "cell_type": "code",
   "execution_count": 14,
   "metadata": {
    "collapsed": false,
    "scrolled": false
   },
   "outputs": [
    {
     "name": "stdout",
     "output_type": "stream",
     "text": [
      "Feature ranking:\n",
      "1. feature n° 18 meanIAT (0.052796)\n",
      "2. feature n° 24 meanIAT_GameNbr (0.051859)\n",
      "3. feature n° 23 meanExp_nExp (0.050632)\n",
      "4. feature n° 19 seIAT (0.045641)\n",
      "5. feature n° 2 club (0.045260)\n",
      "6. feature n° 20 meanExp (0.045232)\n",
      "7. feature n° 16 refCount (0.045149)\n",
      "8. feature n° 4 birthday (0.043424)\n",
      "9. feature n° 21 seExp (0.042743)\n",
      "10. feature n° 25 meanExp_GameNbr (0.042569)\n",
      "11. feature n° 22 meanIAT_nIAT (0.041372)\n",
      "12. feature n° 12 goals (0.041267)\n",
      "13. feature n° 13 yellowCards (0.040541)\n",
      "14. feature n° 1 player (0.039863)\n",
      "15. feature n° 9 victories (0.038553)\n",
      "16. feature n° 11 defeats (0.036549)\n",
      "17. feature n° 10 ties (0.036138)\n",
      "18. feature n° 8 games (0.035934)\n",
      "19. feature n° 6 weight (0.035537)\n",
      "20. feature n° 0 playerShort (0.035135)\n",
      "21. feature n° 5 height (0.029622)\n",
      "22. feature n° 17 refCountryCount (0.027312)\n",
      "23. feature n° 7 position (0.027251)\n",
      "24. feature n° 15 redCards (0.016516)\n",
      "25. feature n° 27 meanExp_cards (0.014548)\n",
      "26. feature n° 14 yellowReds (0.013397)\n",
      "27. feature n° 26 meanIAT_cards (0.013036)\n",
      "28. feature n° 3 leagueCountry (0.012125)\n"
     ]
    },
    {
     "data": {
      "image/png": "[encoded data removed]",
      "text/plain": [
       "<matplotlib.figure.Figure at 0x7f9b7c1d41d0>"
      ]
     },
     "metadata": {},
     "output_type": "display_data"
    }
   ],
   "source": [
    "show_important_features_random_forest(aggr_rf_input_data, aggr_player_colors)"
   ]
  },
  {
   "cell_type": "markdown",
   "metadata": {},
   "source": [
    "That makes a lot more sense. The features are much more equal. \n",
    "\n",
    "But before going more into detail, we adress the overfitting issue mentioned in the assignment. \n",
    "\n",
    "Note that the classifier achieves about 40% accuracy. This is not much considering that about 40% of players are in category 2. This classifier is not better than classifying all players into category 2.\n",
    "So we are going to find better parameters for the classifier."
   ]
  },
  {
   "cell_type": "markdown",
   "metadata": {},
   "source": [
    "## Show overfitting issue\n",
    "The classifier overfitts when the Training accuracy is much higher than the testing accuracy (the classifier fits too much to the trainig data and thus generalizes badly).\n",
    "So we look at the different parameters and discuss how they contribute to the overfitting issue. \n",
    "\n",
    "To show the impact of each parameter we try different values and plot the train vs test accuracy.\n",
    "Luckily there is a function for this :D"
   ]
  },
  {
   "cell_type": "code",
   "execution_count": 41,
   "metadata": {
    "collapsed": false
   },
   "outputs": [],
   "source": [
    "# does the validation with cross validation\n",
    "def val_curve_rf(input_data, y, param_name, param_range, cv=5, rf=RandomForestClassifier()):\n",
    "    return validation_curve(rf, input_data, y, param_name, param_range, n_jobs=10,verbose=0, cv=cv)\n",
    "    \n",
    "# defines the parameters and the ranges to try\n",
    "def val_curve_all_params(input_data, y, rf=RandomForestClassifier()):\n",
    "    params = {\n",
    "             'class_weight': ['balanced', 'balanced_subsample', None],\n",
    "             'criterion': ['gini', 'entropy'],\n",
    "             'n_estimators': [1, 10, 100, 500, 1000, 2000],\n",
    "             'max_depth': list(range(1, 100, 5)),\n",
    "             'min_samples_split': [0.001,0.002,0.004,0.005, 0.01, 0.05, 0.1, 0.15, 0.2, 0.25, 0.3, 0.4, 0.5, 0.8, 0.9],\n",
    "             'min_samples_leaf': list(range(1, 200, 5)),\n",
    "             'max_leaf_nodes': [2, 50, 100, 200, 300, 400, 500, 1000]\n",
    "        }\n",
    "    RandomForestClassifier\n",
    "    # does the validation for all parameters from above\n",
    "    for p, r in params.items():\n",
    "        train_scores, valid_scores = val_curve_rf(input_data, y, p, r, rf=rf)\n",
    "        plot_te_tr_curve(train_scores, valid_scores, p, r)\n",
    "        \n",
    "def plot_te_tr_curve(train_scores, valid_scores, param_name, param_range, ylim=None):\n",
    "    \"\"\"\n",
    "    Generate the plot of the test and training(validation) accuracy curve.\n",
    "    \"\"\"\n",
    "    plt.figure()\n",
    "    if ylim is not None:\n",
    "        plt.ylim(*ylim)\n",
    "    plt.grid()\n",
    "\n",
    "    # if the parameter values are strings\n",
    "    if isinstance(param_range[0], str):\n",
    "        plt.subplot(1, 2, 1)\n",
    "        plt.title(param_name+\" train\")\n",
    "        plt.boxplot(train_scores.T, labels=param_range)\n",
    "        plt.subplot(1, 2, 2)\n",
    "        plt.title(param_name+\" test\")\n",
    "        plt.boxplot(valid_scores.T, labels=param_range)\n",
    "        \n",
    "        \n",
    "    # parameter names are not strings (are numeric)\n",
    "    else:\n",
    "        plt.title(param_name)\n",
    "        plt.ylabel(\"accuracy\")\n",
    "        plt.xlabel(\"value\")\n",
    "        train_scores_mean = np.mean(train_scores, axis=1)\n",
    "        train_scores_std = np.std(train_scores, axis=1)\n",
    "        test_scores_mean = np.mean(valid_scores, axis=1)\n",
    "        test_scores_std = np.std(valid_scores, axis=1)\n",
    "        \n",
    "        plt.fill_between(param_range, train_scores_mean - train_scores_std,\n",
    "                         train_scores_mean + train_scores_std, alpha=0.1,\n",
    "                         color=\"r\")\n",
    "        plt.fill_between(param_range, test_scores_mean - test_scores_std,\n",
    "                         test_scores_mean + test_scores_std, alpha=0.1, color=\"g\")\n",
    "        plt.plot(param_range, train_scores_mean, '-', color=\"r\",\n",
    "                 label=\"Training score\")\n",
    "        plt.plot(param_range, test_scores_mean, '-', color=\"g\",\n",
    "             label=\"Testing score\")\n",
    "\n",
    "    plt.legend(loc=\"best\")\n",
    "    return plt"
   ]
  },
  {
   "cell_type": "code",
   "execution_count": 16,
   "metadata": {
    "collapsed": false,
    "scrolled": true
   },
   "outputs": [
    {
     "name": "stderr",
     "output_type": "stream",
     "text": [
      "/home/lukas/anaconda3/lib/python3.5/site-packages/matplotlib/axes/_axes.py:519: UserWarning: No labelled objects found. Use label='...' kwarg on individual plots.\n",
      "  warnings.warn(\"No labelled objects found. \"\n"
     ]
    },
    {
     "data": {
      "image/png": "[encoded data removed]",
      "text/plain": [
       "<matplotlib.figure.Figure at 0x7f9bb403d080>"
      ]
     },
     "metadata": {},
     "output_type": "display_data"
    },
    {
     "data": {
      "image/png": "[encoded data removed]",
      "text/plain": [
       "<matplotlib.figure.Figure at 0x7f9b7c18b550>"
      ]
     },
     "metadata": {},
     "output_type": "display_data"
    },
    {
     "data": {
      "image/png": "[encoded data removed]",
      "text/plain": [
       "<matplotlib.figure.Figure at 0x7f9b7c1394e0>"
      ]
     },
     "metadata": {},
     "output_type": "display_data"
    },
    {
     "data": {
      "image/png": "[encoded data removed]",
      "text/plain": [
       "<matplotlib.figure.Figure at 0x7f9b780cb6d8>"
      ]
     },
     "metadata": {},
     "output_type": "display_data"
    },
    {
     "data": {
      "image/png": "[encoded data removed]",
      "text/plain": [
       "<matplotlib.figure.Figure at 0x7f9b780d9710>"
      ]
     },
     "metadata": {},
     "output_type": "display_data"
    },
    {
     "data": {
      "image/png": "[encoded data removed]",
      "text/plain": [
       "<matplotlib.figure.Figure at 0x7f9b7147c470>"
      ]
     },
     "metadata": {},
     "output_type": "display_data"
    },
    {
     "data": {
      "image/png": "[encoded data removed]",
      "text/plain": [
       "<matplotlib.figure.Figure at 0x7f9b71439f98>"
      ]
     },
     "metadata": {},
     "output_type": "display_data"
    }
   ],
   "source": [
    "val_curve_all_params(aggr_rf_input_data, aggr_player_colors, rf)"
   ]
  },
  {
   "cell_type": "markdown",
   "metadata": {},
   "source": [
    "**n_estimators**\n",
    "How many trees to be used. As expected, we see that more trees improve the train and test accuracy, however the test accuracy is bounded and it does not really make sense to use more than 500 trees. (Adding trees also means more computation time).\n",
    "More trees also mean more overfitting. The train accuracy goes almost to 1 while the test stays around 0.42.\n",
    "\n",
    "**min_samples_leaf**\n",
    "The minimum number of samples required to be at a leaf node. The higher this value, the less overfitting. It effectively limits how good a tree can fit to a given train set.\n",
    "\n",
    "**criterion**\n",
    "The function to measure the quality of a split. You can see that they are quite equal. We take 'entropy' _just cause_.\n",
    "\n",
    "**max_depth**\n",
    "The maximal depth of the tree. The higher the more the tree overfits. It seems that no tree is grown more than 10 deep. So we wont limit it.\n",
    "\n",
    "**max_leaf_nodes**\n",
    "An upper limit on how many leaf the tree can have. The train accuracy grows until about 400 where there is no more gain in more leaf nodes. probably because the trees don't create that big leaf nodes anyway. We won't limit that value.\n",
    "\n",
    "**min_samples_split**\n",
    "The minimum number of samples required to split an internal node. Has a similar effect and behaviour as _min_samples_leaf_.\n",
    "\n",
    "**class_weight**\n",
    "Weights associated with classes. Gives more weight to classes with fewer members. It does not seem to have a big influence. We think 'balanced_subsample' is appropriate."
   ]
  },
  {
   "cell_type": "markdown",
   "metadata": {},
   "source": [
    "### Find a good classifier\n",
    "Based on the plots above, we find good parameters for the RandomForestClassifier and look if feature importance changed.\n",
    "\n",
    "Note that we set a class weight. This is because the data is very skewed, and that counters it a bit."
   ]
  },
  {
   "cell_type": "code",
   "execution_count": 48,
   "metadata": {
    "collapsed": false,
    "scrolled": true
   },
   "outputs": [
    {
     "name": "stdout",
     "output_type": "stream",
     "text": [
      "mean result:  0.430847661801\n"
     ]
    },
    {
     "name": "stderr",
     "output_type": "stream",
     "text": [
      "[Parallel(n_jobs=3)]: Done  10 out of  10 | elapsed:   26.9s finished\n"
     ]
    },
    {
     "data": {
      "text/plain": [
       "array([ 0.45962733,  0.47204969,  0.40993789,  0.40625   ,  0.44654088,\n",
       "        0.41139241,  0.38216561,  0.41666667,  0.48076923,  0.42307692])"
      ]
     },
     "execution_count": 48,
     "metadata": {},
     "output_type": "execute_result"
    }
   ],
   "source": [
    "rf_good = RandomForestClassifier(n_estimators=500, \n",
    "                                max_depth=None, \n",
    "                                criterion='entropy',\n",
    "                                min_samples_leaf=1,\n",
    "                                class_weight='balanced_subsample')\n",
    "\n",
    "aggr_rf_input_data = data_aggregated.drop(['color_rating'], axis=1)\n",
    "aggr_player_colors = data_aggregated['color_rating']\n",
    "\n",
    "result = cross_val_score(rf_good, aggr_rf_input_data, aggr_player_colors, \n",
    "                         cv=10, n_jobs=3, pre_dispatch='n_jobs+1', verbose=1)\n",
    "print(\"mean result: \", np.mean(result))\n",
    "result"
   ]
  },
  {
   "cell_type": "code",
   "execution_count": 40,
   "metadata": {
    "collapsed": false,
    "scrolled": false
   },
   "outputs": [
    {
     "name": "stdout",
     "output_type": "stream",
     "text": [
      "Feature ranking:\n",
      "1. feature n° 1 player (0.050172)\n",
      "2. feature n° 19 seIAT (0.048669)\n",
      "3. feature n° 18 meanIAT (0.047753)\n",
      "4. feature n° 2 club (0.046285)\n",
      "5. feature n° 24 meanIAT_GameNbr (0.045169)\n",
      "6. feature n° 21 seExp (0.044825)\n",
      "7. feature n° 25 meanExp_GameNbr (0.043808)\n",
      "8. feature n° 20 meanExp (0.043632)\n",
      "9. feature n° 16 refCount (0.041967)\n",
      "10. feature n° 23 meanExp_nExp (0.041906)\n",
      "11. feature n° 4 birthday (0.041032)\n",
      "12. feature n° 22 meanIAT_nIAT (0.040724)\n",
      "13. feature n° 0 playerShort (0.039363)\n",
      "14. feature n° 13 yellowCards (0.038410)\n",
      "15. feature n° 9 victories (0.038011)\n",
      "16. feature n° 11 defeats (0.037223)\n",
      "17. feature n° 5 height (0.036411)\n",
      "18. feature n° 12 goals (0.035701)\n",
      "19. feature n° 8 games (0.035516)\n",
      "20. feature n° 6 weight (0.034994)\n",
      "21. feature n° 10 ties (0.033605)\n",
      "22. feature n° 7 position (0.032240)\n",
      "23. feature n° 17 refCountryCount (0.031682)\n",
      "24. feature n° 3 leagueCountry (0.021511)\n",
      "25. feature n° 15 redCards (0.015562)\n",
      "26. feature n° 14 yellowReds (0.014608)\n",
      "27. feature n° 27 meanExp_cards (0.009873)\n",
      "28. feature n° 26 meanIAT_cards (0.009347)\n"
     ]
    },
    {
     "data": {
      "image/png": "[encoded data removed]",
      "text/plain": [
       "<matplotlib.figure.Figure at 0x7f9b7c23dfd0>"
      ]
     },
     "metadata": {},
     "output_type": "display_data"
    }
   ],
   "source": [
    "show_important_features_random_forest(aggr_rf_input_data, aggr_player_colors, rf=rf_good)"
   ]
  },
  {
   "cell_type": "markdown",
   "metadata": {},
   "source": [
    "We can see that the accuracy is only a bit better. But the most important features are even more balanced. The confidence intervalls are huge and almost all features could be on top.\n",
    "\n",
    "The player, club and birthday are still among the important features (note that for several runs the order changes). \n"
   ]
  },
  {
   "cell_type": "markdown",
   "metadata": {
    "collapsed": true
   },
   "source": [
    "## Observe the confusion matrix"
   ]
  },
  {
   "cell_type": "markdown",
   "metadata": {},
   "source": [
    "Now we observe the confusion matrix to see what the classifier accutally does. We split the data in training ans testing set (test set = 25%) and then we train our random forest using the best parameters selected above:"
   ]
  },
  {
   "cell_type": "code",
   "execution_count": 19,
   "metadata": {
    "collapsed": false
   },
   "outputs": [
    {
     "name": "stdout",
     "output_type": "stream",
     "text": [
      "Accuracy:  0.370277078086\n"
     ]
    }
   ],
   "source": [
    "x_train, x_test, y_train, y_test = train_test_split(aggr_rf_input_data, aggr_player_colors, test_size=0.25)\n",
    "rf_good.fit(x_train, y_train)\n",
    "prediction = rf_good.predict(x_test)\n",
    "accuracy = accuracy_score(y_test, prediction)\n",
    "print('Accuracy: ',accuracy)"
   ]
  },
  {
   "cell_type": "code",
   "execution_count": 20,
   "metadata": {
    "collapsed": false
   },
   "outputs": [
    {
     "data": {
      "image/png": "[encoded data removed]",
      "text/plain": [
       "<matplotlib.figure.Figure at 0x7f9b712def28>"
      ]
     },
     "metadata": {},
     "output_type": "display_data"
    }
   ],
   "source": [
    "def plot_confusion_matrix(cm, classes,\n",
    "                          normalize=False,\n",
    "                          title='Confusion matrix',\n",
    "                          cmap=plt.cm.Blues):\n",
    "    \"\"\"\n",
    "    This function prints and plots the confusion matrix.\n",
    "    Normalization can be applied by setting `normalize=True`.\n",
    "    \"\"\"\n",
    "    plt.imshow(cm, interpolation='nearest', cmap=cmap)\n",
    "    plt.title(title)\n",
    "    plt.colorbar()\n",
    "    tick_marks = np.arange(len(classes))\n",
    "    plt.xticks(tick_marks, classes, rotation=45)\n",
    "    plt.yticks(tick_marks, classes)\n",
    "\n",
    "    \n",
    "\n",
    "    thresh = cm.max() / 2.\n",
    "    for i, j in itertools.product(range(cm.shape[0]), range(cm.shape[1])):\n",
    "        plt.text(j, i, cm[i, j],\n",
    "                 horizontalalignment=\"center\",\n",
    "                 color=\"white\" if cm[i, j] > thresh else \"black\")\n",
    "\n",
    "    plt.tight_layout()\n",
    "    plt.ylabel('True label')\n",
    "    plt.xlabel('Predicted label')\n",
    "    \n",
    "cm = confusion_matrix(y_test, prediction)\n",
    "class_names = ['WW', 'W', 'N', 'B', 'BB']\n",
    "plot_confusion_matrix(cm, classes=class_names, title='Confusion matrix')"
   ]
  },
  {
   "cell_type": "markdown",
   "metadata": {},
   "source": [
    "Our model predicts almost only 2 categories instead of 5. It predicts mostly WW or W. This is because we have imbalanced data and the balancing did not really help apparently. We can see in the matrix above by looking at the True label that there is clearly a majority of of white player. Let's have a look at the exact distribution."
   ]
  },
  {
   "cell_type": "code",
   "execution_count": 21,
   "metadata": {
    "collapsed": false
   },
   "outputs": [
    {
     "data": {
      "text/plain": [
       "(array([ 1189.,   145.,   251.]),\n",
       " array([ 1.        ,  2.33333333,  3.66666667,  5.        ]),\n",
       " <a list of 3 Patch objects>)"
      ]
     },
     "execution_count": 21,
     "metadata": {},
     "output_type": "execute_result"
    },
    {
     "data": {
      "image/png": "[encoded data removed]",
      "text/plain": [
       "<matplotlib.figure.Figure at 0x7f9b713eaf60>"
      ]
     },
     "metadata": {},
     "output_type": "display_data"
    }
   ],
   "source": [
    "fig, ax  = plt.subplots(1, 2, figsize=(8, 4))\n",
    "\n",
    "ax[0].hist(aggr_player_colors)\n",
    "ax[1].hist(aggr_player_colors, bins=3)"
   ]
  },
  {
   "cell_type": "markdown",
   "metadata": {},
   "source": [
    "Those 2 histograms show the imbalance data. Indeed the 2 first category represent more than 50% of the data. Let's look at the numbers"
   ]
  },
  {
   "cell_type": "code",
   "execution_count": 22,
   "metadata": {
    "collapsed": false
   },
   "outputs": [
    {
     "name": "stdout",
     "output_type": "stream",
     "text": [
      "Proportion of WW: 34.45%\n",
      "Proportion of W: 40.57%\n",
      "Proportion of N: 9.15%\n",
      "Proportion of B: 8.64%\n",
      "Proportion of BB: 7.19%\n"
     ]
    }
   ],
   "source": [
    "print('Proportion of WW: {:.2f}%'.format(\n",
    "        100*aggr_player_colors[aggr_player_colors == 1].count()/aggr_player_colors.count()))\n",
    "print('Proportion of W: {:.2f}%'.format(\n",
    "        100*aggr_player_colors[aggr_player_colors == 2].count()/aggr_player_colors.count()))\n",
    "print('Proportion of N: {:.2f}%'.format(\n",
    "        100*aggr_player_colors[aggr_player_colors == 3].count()/aggr_player_colors.count()))\n",
    "print('Proportion of B: {:.2f}%'.format(\n",
    "        100*aggr_player_colors[aggr_player_colors == 4].count()/aggr_player_colors.count()))\n",
    "print('Proportion of BB: {:.2f}%'.format(\n",
    "        100*aggr_player_colors[aggr_player_colors == 5].count()/aggr_player_colors.count()))"
   ]
  },
  {
   "cell_type": "markdown",
   "metadata": {},
   "source": [
    "WW and W reprensent 75% of the data."
   ]
  },
  {
   "cell_type": "markdown",
   "metadata": {},
   "source": [
    "Now assume a new classifier that always classify in the W category. This classifier has an accuracy of 40%. It means that our classifiery is not much better than always classifying a player as W...\n",
    "What happens when we do a ternary and binary classification?"
   ]
  },
  {
   "cell_type": "markdown",
   "metadata": {},
   "source": [
    "### Binary Classification"
   ]
  },
  {
   "cell_type": "markdown",
   "metadata": {},
   "source": [
    "For ternary we put _WW_ and _W_ in one class, _N_ in the second and _B_ _BB_ in the last (the classes then are _WWW_, _N_ and _BBB_.\n",
    "\n",
    "For binary we merge the N with the BBB class. -> _WWW_ vs _NBBB_"
   ]
  },
  {
   "cell_type": "code",
   "execution_count": 23,
   "metadata": {
    "collapsed": true
   },
   "outputs": [],
   "source": [
    "player_colors_3 = aggr_player_colors.map(lambda x: 1 if(x == 1 or x == 2) else max(x, 2) )\n",
    "player_colors_2 = player_colors_3.map(lambda x: min(x, 2) )"
   ]
  },
  {
   "cell_type": "code",
   "execution_count": 24,
   "metadata": {
    "collapsed": false
   },
   "outputs": [
    {
     "name": "stderr",
     "output_type": "stream",
     "text": [
      "[Parallel(n_jobs=3)]: Done  10 out of  10 | elapsed:   12.7s finished\n",
      "[Parallel(n_jobs=3)]: Done  10 out of  10 | elapsed:   10.6s finished\n"
     ]
    }
   ],
   "source": [
    "result3 = cross_val_score(rf_good, aggr_rf_input_data, player_colors_3, \n",
    "                         cv=10, n_jobs=3, pre_dispatch='n_jobs+1', verbose=1)\n",
    "\n",
    "result2 = cross_val_score(rf_good, aggr_rf_input_data, player_colors_2, \n",
    "                         cv=10, n_jobs=3, pre_dispatch='n_jobs+1', verbose=1)"
   ]
  },
  {
   "cell_type": "code",
   "execution_count": 25,
   "metadata": {
    "collapsed": false
   },
   "outputs": [
    {
     "name": "stdout",
     "output_type": "stream",
     "text": [
      "Proportion of WWW: 75.02%\n",
      "Proportion of NBBB: 24.98%\n"
     ]
    }
   ],
   "source": [
    "print('Proportion of WWW: {:.2f}%'.format(\n",
    "        100*player_colors_2[player_colors_2 == 1].count()/player_colors_2.count()))\n",
    "print('Proportion of NBBB: {:.2f}%'.format(\n",
    "        100*player_colors_2[player_colors_2 == 2].count()/player_colors_2.count()))\n"
   ]
  },
  {
   "cell_type": "code",
   "execution_count": 26,
   "metadata": {
    "collapsed": false
   },
   "outputs": [
    {
     "name": "stdout",
     "output_type": "stream",
     "text": [
      "mean res3:  0.588989625581\n",
      "mean res2:  0.719319884568\n"
     ]
    }
   ],
   "source": [
    "print(\"mean res3: \", np.mean(result3))\n",
    "print(\"mean res2: \", np.mean(result2))"
   ]
  },
  {
   "cell_type": "markdown",
   "metadata": {},
   "source": [
    "We see that our classifier is only a little bit better than the 'stupid' one."
   ]
  },
  {
   "cell_type": "markdown",
   "metadata": {},
   "source": [
    "Confusion Matrix of the binary classifier:"
   ]
  },
  {
   "cell_type": "code",
   "execution_count": 27,
   "metadata": {
    "collapsed": false,
    "scrolled": true
   },
   "outputs": [
    {
     "data": {
      "image/png": "[encoded data removed]",
      "text/plain": [
       "<matplotlib.figure.Figure at 0x7f9b7c167390>"
      ]
     },
     "metadata": {},
     "output_type": "display_data"
    }
   ],
   "source": [
    "x_train, x_test, y_train, y_test = train_test_split(aggr_rf_input_data, player_colors_2, test_size=0.25)\n",
    "rf_good.fit(x_train, y_train)\n",
    "prediction = rf_good.predict(x_test)\n",
    "accuracy = accuracy_score(y_test, prediction)\n",
    "cm = confusion_matrix(y_test, prediction)\n",
    "class_names = ['WWW', 'BBB']\n",
    "plot_confusion_matrix(cm, classes=class_names, title='Confusion matrix')"
   ]
  },
  {
   "cell_type": "markdown",
   "metadata": {},
   "source": [
    "Even for the 2 class problem it is hard to predict the colors. From that results we might conclude that there is just not enough difference between the 'black' and 'white' players. "
   ]
  },
  {
   "cell_type": "markdown",
   "metadata": {},
   "source": [
    "### Try other classifiers\n",
    "A quick and short exploration of other classifiers to show that the RandomForest is not the 'wrong' classifier for that problem.\n",
    "\n",
    "TLDR; They don't do better than the RandomForest."
   ]
  },
  {
   "cell_type": "code",
   "execution_count": 28,
   "metadata": {
    "collapsed": true
   },
   "outputs": [],
   "source": [
    "from sklearn.neural_network import MLPClassifier\n",
    "from sklearn.naive_bayes import GaussianNB\n",
    "from sklearn import svm\n",
    "from sklearn.ensemble import AdaBoostClassifier\n"
   ]
  },
  {
   "cell_type": "code",
   "execution_count": 29,
   "metadata": {
    "collapsed": true
   },
   "outputs": [],
   "source": [
    "def make_print_confusion_matrix(clf, clf_name):\n",
    "    x_train, x_test, y_train, y_test = train_test_split(aggr_rf_input_data, player_colors_2, test_size=0.25)\n",
    "    clf.fit(x_train, y_train)\n",
    "    prediction = clf.predict(x_test)\n",
    "    accuracy = accuracy_score(y_test, prediction)\n",
    "    print(clf_name + ' Accuracy: ',accuracy)\n",
    "    cm = confusion_matrix(y_test, prediction)\n",
    "    class_names = ['WWW', 'BBB']\n",
    "    plot_confusion_matrix(cm, classes=class_names, title='Confusion matrix of '+clf_name)\n",
    "    plt.show()"
   ]
  },
  {
   "cell_type": "code",
   "execution_count": 30,
   "metadata": {
    "collapsed": false
   },
   "outputs": [
    {
     "name": "stdout",
     "output_type": "stream",
     "text": [
      "SVC Accuracy:  0.740554156171\n"
     ]
    },
    {
     "data": {
      "image/png": "[encoded data removed]",
      "text/plain": [
       "<matplotlib.figure.Figure at 0x7f9b7128b710>"
      ]
     },
     "metadata": {},
     "output_type": "display_data"
    },
    {
     "name": "stdout",
     "output_type": "stream",
     "text": [
      "AdaBoostClassifier Accuracy:  0.76322418136\n"
     ]
    },
    {
     "data": {
      "image/png": "[encoded data removed]",
      "text/plain": [
       "<matplotlib.figure.Figure at 0x7f9b71454080>"
      ]
     },
     "metadata": {},
     "output_type": "display_data"
    },
    {
     "name": "stdout",
     "output_type": "stream",
     "text": [
      "MLPclassifier Accuracy:  0.717884130982\n"
     ]
    },
    {
     "data": {
      "image/png": "[encoded data removed]",
      "text/plain": [
       "<matplotlib.figure.Figure at 0x7f9b712ade80>"
      ]
     },
     "metadata": {},
     "output_type": "display_data"
    },
    {
     "name": "stdout",
     "output_type": "stream",
     "text": [
      "GaussianNB Accuracy:  0.659949622166\n"
     ]
    },
    {
     "data": {
      "image/png": "[encoded data removed]",
      "text/plain": [
       "<matplotlib.figure.Figure at 0x7f9b713f3780>"
      ]
     },
     "metadata": {},
     "output_type": "display_data"
    }
   ],
   "source": [
    "make_print_confusion_matrix(svm.SVC(kernel='rbf', degree=3, class_weight='balanced'), \"SVC\")\n",
    "make_print_confusion_matrix(AdaBoostClassifier(n_estimators=500, base_estimator=rf_good), \"AdaBoostClassifier\")\n",
    "\n",
    "make_print_confusion_matrix(MLPClassifier(activation='tanh', learning_rate='adaptive', \n",
    "                                          solver='lbfgs', alpha=1e-5, hidden_layer_sizes=(100, 100, 50, 50, 2), random_state=1), \n",
    "                            \"MLPclassifier\")\n",
    "\n",
    "make_print_confusion_matrix(GaussianNB(), \"GaussianNB\")\n"
   ]
  },
  {
   "cell_type": "markdown",
   "metadata": {},
   "source": [
    "# Bonus\n",
    "BONUS: plot the learning curves against at least 2 different sets of parameters passed to your Random Forest. To obtain smooth curves, partition your data in at least 20 folds. Can you find a set of parameters that leads to high bias, and one which does not?"
   ]
  },
  {
   "cell_type": "code",
   "execution_count": 31,
   "metadata": {
    "collapsed": true
   },
   "outputs": [],
   "source": [
    "from treeinterpreter import treeinterpreter as ti # installed with: pip install treeinterpreter"
   ]
  },
  {
   "cell_type": "code",
   "execution_count": 32,
   "metadata": {
    "collapsed": false
   },
   "outputs": [
    {
     "data": {
      "text/plain": [
       "{'boxes': [<matplotlib.lines.Line2D at 0x7f9b713622b0>,\n",
       "  <matplotlib.lines.Line2D at 0x7f9b70090898>],\n",
       " 'caps': [<matplotlib.lines.Line2D at 0x7f9b7008ada0>,\n",
       "  <matplotlib.lines.Line2D at 0x7f9b7008ae10>,\n",
       "  <matplotlib.lines.Line2D at 0x7f9b7008b8d0>,\n",
       "  <matplotlib.lines.Line2D at 0x7f9b7008ba20>],\n",
       " 'fliers': [<matplotlib.lines.Line2D at 0x7f9b70090748>,\n",
       "  <matplotlib.lines.Line2D at 0x7f9b70084b00>],\n",
       " 'means': [],\n",
       " 'medians': [<matplotlib.lines.Line2D at 0x7f9b700b07b8>,\n",
       "  <matplotlib.lines.Line2D at 0x7f9b700842b0>],\n",
       " 'whiskers': [<matplotlib.lines.Line2D at 0x7f9b71362cf8>,\n",
       "  <matplotlib.lines.Line2D at 0x7f9b71362e48>,\n",
       "  <matplotlib.lines.Line2D at 0x7f9b7009b7f0>,\n",
       "  <matplotlib.lines.Line2D at 0x7f9b7009bf60>]}"
      ]
     },
     "execution_count": 32,
     "metadata": {},
     "output_type": "execute_result"
    },
    {
     "data": {
      "image/png": "[encoded data removed]",
      "text/plain": [
       "<matplotlib.figure.Figure at 0x7f9b712adb00>"
      ]
     },
     "metadata": {},
     "output_type": "display_data"
    }
   ],
   "source": [
    "# testing\n",
    "x_train, x_test, y_train, y_test = train_test_split(aggr_rf_input_data, player_colors_2, test_size=0.25)\n",
    "rf = RandomForestClassifier(n_estimators=1)\n",
    "rf.fit(x_train, y_train)\n",
    "prediction, bias, contributions = ti.predict(rf, x_test)\n",
    "plt.boxplot(bias)"
   ]
  },
  {
   "cell_type": "code",
   "execution_count": 33,
   "metadata": {
    "collapsed": true
   },
   "outputs": [],
   "source": [
    "def plot_learning_curve(estimator, title, X, y, ylim=None, cv=None,\n",
    "                        n_jobs=4, train_sizes=np.linspace(.1, 1.0, 5)):\n",
    "    \"\"\"\n",
    "    Generate a simple plot of the test and training learning curve.\n",
    "\n",
    "    Parameters\n",
    "    ----------\n",
    "    estimator : object type that implements the \"fit\" and \"predict\" methods\n",
    "        An object of that type which is cloned for each validation.\n",
    "\n",
    "    title : string\n",
    "        Title for the chart.\n",
    "\n",
    "    X : array-like, shape (n_samples, n_features)\n",
    "        Training vector, where n_samples is the number of samples and\n",
    "        n_features is the number of features.\n",
    "\n",
    "    y : array-like, shape (n_samples) or (n_samples, n_features), optional\n",
    "        Target relative to X for classification or regression;\n",
    "        None for unsupervised learning.\n",
    "\n",
    "    ylim : tuple, shape (ymin, ymax), optional\n",
    "        Defines minimum and maximum yvalues plotted.\n",
    "\n",
    "    cv : int, cross-validation generator or an iterable, optional\n",
    "        Determines the cross-validation splitting strategy.\n",
    "        Possible inputs for cv are:\n",
    "          - None, to use the default 3-fold cross-validation,\n",
    "          - integer, to specify the number of folds.\n",
    "          - An object to be used as a cross-validation generator.\n",
    "          - An iterable yielding train/test splits.\n",
    "\n",
    "        For integer/None inputs, if ``y`` is binary or multiclass,\n",
    "        :class:`StratifiedKFold` used. If the estimator is not a classifier\n",
    "        or if ``y`` is neither binary nor multiclass, :class:`KFold` is used.\n",
    "\n",
    "        Refer :ref:`User Guide <cross_validation>` for the various\n",
    "        cross-validators that can be used here.\n",
    "\n",
    "    n_jobs : integer, optional\n",
    "        Number of jobs to run in parallel (default 1).\n",
    "    \"\"\"\n",
    "    plt.figure()\n",
    "    plt.title(title)\n",
    "    if ylim is not None:\n",
    "        plt.ylim(*ylim)\n",
    "    plt.xlabel(\"Training examples\")\n",
    "    plt.ylabel(\"Score\")\n",
    "    train_sizes, train_scores, test_scores = learning_curve(\n",
    "        estimator, X, y, cv=cv, n_jobs=n_jobs, train_sizes=train_sizes, verbose=0)\n",
    "    train_scores_mean = np.mean(train_scores, axis=1)\n",
    "    train_scores_std = np.std(train_scores, axis=1)\n",
    "    test_scores_mean = np.mean(test_scores, axis=1)\n",
    "    test_scores_std = np.std(test_scores, axis=1)\n",
    "    plt.grid()\n",
    "\n",
    "    plt.fill_between(train_sizes, train_scores_mean - train_scores_std,\n",
    "                     train_scores_mean + train_scores_std, alpha=0.1,\n",
    "                     color=\"r\")\n",
    "    plt.fill_between(train_sizes, test_scores_mean - test_scores_std,\n",
    "                     test_scores_mean + test_scores_std, alpha=0.1, color=\"g\")\n",
    "    plt.plot(train_sizes, train_scores_mean, '-', color=\"r\",\n",
    "             label=\"Training score\")\n",
    "    plt.plot(train_sizes, test_scores_mean, '-', color=\"g\",\n",
    "             label=\"Cross-validation score\")\n",
    "\n",
    "    plt.legend(loc=\"best\")\n",
    "    return plt"
   ]
  },
  {
   "cell_type": "code",
   "execution_count": null,
   "metadata": {
    "collapsed": true
   },
   "outputs": [],
   "source": []
  },
  {
   "cell_type": "code",
   "execution_count": 34,
   "metadata": {
    "collapsed": false,
    "scrolled": true
   },
   "outputs": [],
   "source": [
    "rf = RandomForestClassifier(n_estimators=500, random_state=0)\n",
    "#plot_learning_curve(rf, 'Learning Curve', aggr_rf_input_data, aggr_player_colors,cv=5, train_sizes=np.linspace(.1, 1.0, 50))"
   ]
  },
  {
   "cell_type": "code",
   "execution_count": 35,
   "metadata": {
    "collapsed": false
   },
   "outputs": [],
   "source": [
    "rf = RandomForestClassifier(n_estimators=1, random_state=0)\n",
    "#plot_learning_curve(rf, 'Learning Curve', aggr_rf_input_data, aggr_player_colors,cv=20, train_sizes=np.linspace(.1, 1.0, 50))"
   ]
  },
  {
   "cell_type": "code",
   "execution_count": 36,
   "metadata": {
    "collapsed": false
   },
   "outputs": [],
   "source": [
    "rf = RandomForestClassifier(n_estimators=1, max_depth=100, min_samples_leaf=1, random_state=0)\n",
    "#plot_learning_curve(rf, 'Learning Curve', aggr_rf_input_data, aggr_player_colors,cv=20, train_sizes=np.linspace(.1, 1.0, 50))"
   ]
  },
  {
   "cell_type": "markdown",
   "metadata": {},
   "source": [
    "A simple model leads to a high bias. Example of simple model: \n",
    "     - 1 tree in the forest\n",
    "     - a max deep of 1"
   ]
  },
  {
   "cell_type": "code",
   "execution_count": 37,
   "metadata": {
    "collapsed": false
   },
   "outputs": [],
   "source": [
    "rf = RandomForestClassifier(n_estimators=1, max_depth=1, min_samples_leaf=1, max_features=1, random_state=0)\n",
    "#plot_learning_curve(rf, 'Learning Curve', aggr_rf_input_data, aggr_player_colors,cv=5, train_sizes=np.linspace(.1, 1.0, 10))"
   ]
  },
  {
   "cell_type": "code",
   "execution_count": null,
   "metadata": {
    "collapsed": true
   },
   "outputs": [],
   "source": []
  }
 ],
 "metadata": {
  "anaconda-cloud": {},
  "kernelspec": {
   "display_name": "Python [Root]",
   "language": "python",
   "name": "Python [Root]"
  },
  "language_info": {
   "codemirror_mode": {
    "name": "ipython",
    "version": 3
   },
   "file_extension": ".py",
   "mimetype": "text/x-python",
   "name": "python",
   "nbconvert_exporter": "python",
   "pygments_lexer": "ipython3",
   "version": "3.5.2"
  }
 },
 "nbformat": 4,
 "nbformat_minor": 1
}
