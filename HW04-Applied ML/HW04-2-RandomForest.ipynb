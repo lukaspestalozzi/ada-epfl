{
 "cells": [
  {
   "cell_type": "code",
   "execution_count": 2,
   "metadata": {
    "collapsed": false
   },
   "outputs": [],
   "source": [
    "# imports\n",
    "import pandas as pd\n",
    "import numpy as np\n",
    "import seaborn as sns\n",
    "import matplotlib.pyplot as plt\n",
    "from matplotlib.pyplot import show\n",
    "\n",
    "import sklearn.preprocessing as preprocessing\n",
    "\n",
    "%matplotlib inline\n",
    "sns.set_context('notebook')\n",
    "pd.options.mode.chained_assignment = None  # default='warn'\n",
    "pd.set_option('display.max_columns', 500) # to see all columns"
   ]
  },
  {
   "cell_type": "code",
   "execution_count": 4,
   "metadata": {
    "collapsed": false
   },
   "outputs": [
    {
     "name": "stdout",
     "output_type": "stream",
     "text": [
      "Number of dayads (124468, 30)\n"
     ]
    },
    {
     "data": {
      "text/html": [
       "<div>\n",
       "<table border=\"1\" class=\"dataframe\">\n",
       "  <thead>\n",
       "    <tr style=\"text-align: right;\">\n",
       "      <th></th>\n",
       "      <th>Unnamed: 0</th>\n",
       "      <th>playerShort</th>\n",
       "      <th>player</th>\n",
       "      <th>club</th>\n",
       "      <th>leagueCountry</th>\n",
       "      <th>birthday</th>\n",
       "      <th>height</th>\n",
       "      <th>weight</th>\n",
       "      <th>position</th>\n",
       "      <th>games</th>\n",
       "      <th>victories</th>\n",
       "      <th>ties</th>\n",
       "      <th>defeats</th>\n",
       "      <th>goals</th>\n",
       "      <th>yellowCards</th>\n",
       "      <th>yellowReds</th>\n",
       "      <th>redCards</th>\n",
       "      <th>photoID</th>\n",
       "      <th>rater1</th>\n",
       "      <th>rater2</th>\n",
       "      <th>refNum</th>\n",
       "      <th>refCountry</th>\n",
       "      <th>Alpha_3</th>\n",
       "      <th>meanIAT</th>\n",
       "      <th>nIAT</th>\n",
       "      <th>seIAT</th>\n",
       "      <th>meanExp</th>\n",
       "      <th>nExp</th>\n",
       "      <th>seExp</th>\n",
       "      <th>color_rating</th>\n",
       "    </tr>\n",
       "  </thead>\n",
       "  <tbody>\n",
       "    <tr>\n",
       "      <th>0</th>\n",
       "      <td>0</td>\n",
       "      <td>901</td>\n",
       "      <td>1046</td>\n",
       "      <td>70</td>\n",
       "      <td>3</td>\n",
       "      <td>1382</td>\n",
       "      <td>177.0</td>\n",
       "      <td>72.0</td>\n",
       "      <td>0</td>\n",
       "      <td>1</td>\n",
       "      <td>0</td>\n",
       "      <td>0</td>\n",
       "      <td>1</td>\n",
       "      <td>0</td>\n",
       "      <td>0</td>\n",
       "      <td>0</td>\n",
       "      <td>0</td>\n",
       "      <td>1532</td>\n",
       "      <td>0.25</td>\n",
       "      <td>0.50</td>\n",
       "      <td>1</td>\n",
       "      <td>1</td>\n",
       "      <td>59</td>\n",
       "      <td>0.326391</td>\n",
       "      <td>712.0</td>\n",
       "      <td>0.000564</td>\n",
       "      <td>0.396000</td>\n",
       "      <td>750.0</td>\n",
       "      <td>0.002696</td>\n",
       "      <td>1</td>\n",
       "    </tr>\n",
       "    <tr>\n",
       "      <th>1</th>\n",
       "      <td>1</td>\n",
       "      <td>739</td>\n",
       "      <td>919</td>\n",
       "      <td>51</td>\n",
       "      <td>1</td>\n",
       "      <td>320</td>\n",
       "      <td>179.0</td>\n",
       "      <td>82.0</td>\n",
       "      <td>12</td>\n",
       "      <td>1</td>\n",
       "      <td>0</td>\n",
       "      <td>0</td>\n",
       "      <td>1</td>\n",
       "      <td>0</td>\n",
       "      <td>1</td>\n",
       "      <td>0</td>\n",
       "      <td>0</td>\n",
       "      <td>497</td>\n",
       "      <td>0.75</td>\n",
       "      <td>0.75</td>\n",
       "      <td>2</td>\n",
       "      <td>2</td>\n",
       "      <td>153</td>\n",
       "      <td>0.203375</td>\n",
       "      <td>40.0</td>\n",
       "      <td>0.010875</td>\n",
       "      <td>-0.204082</td>\n",
       "      <td>49.0</td>\n",
       "      <td>0.061504</td>\n",
       "      <td>3</td>\n",
       "    </tr>\n",
       "    <tr>\n",
       "      <th>2</th>\n",
       "      <td>5</td>\n",
       "      <td>0</td>\n",
       "      <td>392</td>\n",
       "      <td>34</td>\n",
       "      <td>0</td>\n",
       "      <td>360</td>\n",
       "      <td>182.0</td>\n",
       "      <td>71.0</td>\n",
       "      <td>1</td>\n",
       "      <td>1</td>\n",
       "      <td>0</td>\n",
       "      <td>0</td>\n",
       "      <td>1</td>\n",
       "      <td>0</td>\n",
       "      <td>0</td>\n",
       "      <td>0</td>\n",
       "      <td>0</td>\n",
       "      <td>1081</td>\n",
       "      <td>0.25</td>\n",
       "      <td>0.00</td>\n",
       "      <td>4</td>\n",
       "      <td>4</td>\n",
       "      <td>87</td>\n",
       "      <td>0.325185</td>\n",
       "      <td>127.0</td>\n",
       "      <td>0.003297</td>\n",
       "      <td>0.538462</td>\n",
       "      <td>130.0</td>\n",
       "      <td>0.013752</td>\n",
       "      <td>0</td>\n",
       "    </tr>\n",
       "    <tr>\n",
       "      <th>3</th>\n",
       "      <td>6</td>\n",
       "      <td>45</td>\n",
       "      <td>425</td>\n",
       "      <td>48</td>\n",
       "      <td>0</td>\n",
       "      <td>446</td>\n",
       "      <td>187.0</td>\n",
       "      <td>80.0</td>\n",
       "      <td>7</td>\n",
       "      <td>1</td>\n",
       "      <td>1</td>\n",
       "      <td>0</td>\n",
       "      <td>0</td>\n",
       "      <td>0</td>\n",
       "      <td>0</td>\n",
       "      <td>0</td>\n",
       "      <td>0</td>\n",
       "      <td>1175</td>\n",
       "      <td>0.00</td>\n",
       "      <td>0.25</td>\n",
       "      <td>4</td>\n",
       "      <td>4</td>\n",
       "      <td>87</td>\n",
       "      <td>0.325185</td>\n",
       "      <td>127.0</td>\n",
       "      <td>0.003297</td>\n",
       "      <td>0.538462</td>\n",
       "      <td>130.0</td>\n",
       "      <td>0.013752</td>\n",
       "      <td>0</td>\n",
       "    </tr>\n",
       "    <tr>\n",
       "      <th>4</th>\n",
       "      <td>7</td>\n",
       "      <td>64</td>\n",
       "      <td>440</td>\n",
       "      <td>54</td>\n",
       "      <td>0</td>\n",
       "      <td>158</td>\n",
       "      <td>180.0</td>\n",
       "      <td>68.0</td>\n",
       "      <td>4</td>\n",
       "      <td>1</td>\n",
       "      <td>0</td>\n",
       "      <td>0</td>\n",
       "      <td>1</td>\n",
       "      <td>0</td>\n",
       "      <td>0</td>\n",
       "      <td>0</td>\n",
       "      <td>0</td>\n",
       "      <td>803</td>\n",
       "      <td>1.00</td>\n",
       "      <td>1.00</td>\n",
       "      <td>4</td>\n",
       "      <td>4</td>\n",
       "      <td>87</td>\n",
       "      <td>0.325185</td>\n",
       "      <td>127.0</td>\n",
       "      <td>0.003297</td>\n",
       "      <td>0.538462</td>\n",
       "      <td>130.0</td>\n",
       "      <td>0.013752</td>\n",
       "      <td>4</td>\n",
       "    </tr>\n",
       "  </tbody>\n",
       "</table>\n",
       "</div>"
      ],
      "text/plain": [
       "   Unnamed: 0  playerShort  player  club  leagueCountry  birthday  height  \\\n",
       "0           0          901    1046    70              3      1382   177.0   \n",
       "1           1          739     919    51              1       320   179.0   \n",
       "2           5            0     392    34              0       360   182.0   \n",
       "3           6           45     425    48              0       446   187.0   \n",
       "4           7           64     440    54              0       158   180.0   \n",
       "\n",
       "   weight  position  games  victories  ties  defeats  goals  yellowCards  \\\n",
       "0    72.0         0      1          0     0        1      0            0   \n",
       "1    82.0        12      1          0     0        1      0            1   \n",
       "2    71.0         1      1          0     0        1      0            0   \n",
       "3    80.0         7      1          1     0        0      0            0   \n",
       "4    68.0         4      1          0     0        1      0            0   \n",
       "\n",
       "   yellowReds  redCards  photoID  rater1  rater2  refNum  refCountry  Alpha_3  \\\n",
       "0           0         0     1532    0.25    0.50       1           1       59   \n",
       "1           0         0      497    0.75    0.75       2           2      153   \n",
       "2           0         0     1081    0.25    0.00       4           4       87   \n",
       "3           0         0     1175    0.00    0.25       4           4       87   \n",
       "4           0         0      803    1.00    1.00       4           4       87   \n",
       "\n",
       "    meanIAT   nIAT     seIAT   meanExp   nExp     seExp  color_rating  \n",
       "0  0.326391  712.0  0.000564  0.396000  750.0  0.002696             1  \n",
       "1  0.203375   40.0  0.010875 -0.204082   49.0  0.061504             3  \n",
       "2  0.325185  127.0  0.003297  0.538462  130.0  0.013752             0  \n",
       "3  0.325185  127.0  0.003297  0.538462  130.0  0.013752             0  \n",
       "4  0.325185  127.0  0.003297  0.538462  130.0  0.013752             4  "
      ]
     },
     "execution_count": 4,
     "metadata": {},
     "output_type": "execute_result"
    }
   ],
   "source": [
    "data = pd.read_csv('CrowdstormingDataJuly1st_preprocessed.csv')\n",
    "data_total = data.copy()\n",
    "print('Number of dayads', data.shape)\n",
    "data.head()"
   ]
  },
  {
   "cell_type": "code",
   "execution_count": 5,
   "metadata": {
    "collapsed": false
   },
   "outputs": [
    {
     "name": "stdout",
     "output_type": "stream",
     "text": [
      "Number of diad:  124468\n",
      "Number of players:  1585\n",
      "Number of referees:  2967\n"
     ]
    }
   ],
   "source": [
    "print('Number of diad: ', len(data))\n",
    "print('Number of players: ', len(data.playerShort.unique()))\n",
    "print('Number of referees: ', len(data.refNum.unique()))"
   ]
  },
  {
   "cell_type": "markdown",
   "metadata": {},
   "source": [
    "# 2. Train the model  "
   ]
  },
  {
   "cell_type": "markdown",
   "metadata": {},
   "source": [
    "Now we train and test our model using cross-validation. First of all we must encode all the features that contains string.\n",
    "\n",
    "For this first model, we will use all the features (except rater1,rater2, color_rating) and then we will observe which are the most important features\n",
    " "
   ]
  },
  {
   "cell_type": "code",
   "execution_count": 6,
   "metadata": {
    "collapsed": true
   },
   "outputs": [],
   "source": [
    "from sklearn.ensemble import RandomForestClassifier\n",
    "from sklearn import preprocessing as pp\n",
    "from sklearn.model_selection import KFold , cross_val_score\n",
    "from sklearn.metrics import make_scorer, roc_curve, roc_auc_score"
   ]
  },
  {
   "cell_type": "code",
   "execution_count": 7,
   "metadata": {
    "collapsed": false
   },
   "outputs": [],
   "source": [
    "# encoders\n",
    "le = pp.LabelEncoder() # for playernames etc.\n",
    "ohe = pp.OneHotEncoder() # for categories with 'few' categories"
   ]
  },
  {
   "cell_type": "code",
   "execution_count": 9,
   "metadata": {
    "collapsed": false
   },
   "outputs": [
    {
     "data": {
      "text/plain": [
       "Unnamed: 0         int64\n",
       "playerShort        int64\n",
       "player             int64\n",
       "club               int64\n",
       "leagueCountry      int64\n",
       "birthday           int64\n",
       "height           float64\n",
       "weight           float64\n",
       "position           int64\n",
       "games              int64\n",
       "victories          int64\n",
       "ties               int64\n",
       "defeats            int64\n",
       "goals              int64\n",
       "yellowCards        int64\n",
       "yellowReds         int64\n",
       "redCards           int64\n",
       "photoID            int64\n",
       "refNum             int64\n",
       "refCountry         int64\n",
       "Alpha_3            int64\n",
       "meanIAT          float64\n",
       "nIAT             float64\n",
       "seIAT            float64\n",
       "meanExp          float64\n",
       "nExp             float64\n",
       "seExp            float64\n",
       "dtype: object"
      ]
     },
     "execution_count": 9,
     "metadata": {},
     "output_type": "execute_result"
    }
   ],
   "source": [
    "rf_input_data = data.copy()\n",
    "player_colors = rf_input_data['color_rating']\n",
    "rf_input_data = rf_input_data.drop(['rater1', 'rater2', 'color_rating'], axis=1) \n",
    "\n",
    "rf_input_data.dtypes"
   ]
  },
  {
   "cell_type": "code",
   "execution_count": 10,
   "metadata": {
    "collapsed": false
   },
   "outputs": [
    {
     "name": "stdout",
     "output_type": "stream",
     "text": [
      "[CV]  ................................................................\n",
      "[CV]  ................................................................\n",
      "[CV]  ................................................................\n",
      "[CV] ....................................... , score=0.893887 -   0.1s\n",
      "[CV]  ................................................................\n",
      "[CV] ....................................... , score=0.903526 -   0.1s\n",
      "[CV]  ................................................................\n",
      "[CV] ....................................... , score=0.903197 -   0.1s\n",
      "[CV]  ................................................................\n",
      "[CV] ....................................... , score=0.895709 -   0.1s\n",
      "[CV]  ................................................................\n",
      "[CV] ....................................... , score=0.902876 -   0.1s\n",
      "[CV]  ................................................................\n",
      "[CV] ....................................... , score=0.903664 -   0.1s\n",
      "[CV]  ................................................................\n",
      "[CV] ....................................... , score=0.902218 -   0.1s\n",
      "[CV]  ................................................................\n",
      "[CV] ....................................... , score=0.907681 -   0.1s\n",
      "[CV] ....................................... , score=0.901735 -   0.1s\n",
      "[CV] ....................................... , score=0.815654 -   0.0s\n"
     ]
    },
    {
     "name": "stderr",
     "output_type": "stream",
     "text": [
      "[Parallel(n_jobs=3)]: Done  10 out of  10 | elapsed:   19.4s finished\n"
     ]
    },
    {
     "data": {
      "text/plain": [
       "array([ 0.89388706,  0.90352639,  0.9031973 ,  0.90287596,  0.89570946,\n",
       "        0.90366383,  0.90221758,  0.90768118,  0.9017355 ,  0.81565413])"
      ]
     },
     "execution_count": 10,
     "metadata": {},
     "output_type": "execute_result"
    }
   ],
   "source": [
    "rf = RandomForestClassifier()\n",
    "# roc_scorer = make_scorer(roc_curve)\n",
    "X = rf_input_data\n",
    "y = player_colors\n",
    "result = cross_val_score(rf, X, y, cv=10, n_jobs=3, pre_dispatch='n_jobs+1', verbose=3)\n",
    "\n",
    "\"\"\"\n",
    "kf = KFold(n_splits=10)\n",
    "for train, test in kf.split(rf_input_data):\n",
    "    X_train, X_test, y_train, y_test = rf_input_data[train], rf_input_data[test], player_colors[train], player_colors[test]\n",
    "    rf.fit(X_train, y_train)\n",
    "    y_pred = rf.predict(X_test)\n",
    "\"\"\"\n",
    "\n",
    "result"
   ]
  },
  {
   "cell_type": "markdown",
   "metadata": {},
   "source": [
    "## Observe the important features"
   ]
  },
  {
   "cell_type": "code",
   "execution_count": 439,
   "metadata": {
    "collapsed": false
   },
   "outputs": [
    {
     "name": "stdout",
     "output_type": "stream",
     "text": [
      "Feature ranking:\n",
      "1. feature n° 16 photoID (0.121465)\n",
      "2. feature n° 1 player (0.116455)\n",
      "3. feature n° 4 birthday (0.107641)\n",
      "4. feature n° 0 playerShort (0.105967)\n",
      "5. feature n° 2 club (0.095871)\n",
      "6. feature n° 5 height (0.093122)\n",
      "7. feature n° 6 weight (0.092604)\n",
      "8. feature n° 7 position (0.072177)\n",
      "9. feature n° 17 refNum (0.042796)\n",
      "10. feature n° 3 leagueCountry (0.031501)\n",
      "11. feature n° 8 games (0.014344)\n",
      "12. feature n° 9 victories (0.013300)\n",
      "13. feature n° 11 defeats (0.010950)\n",
      "14. feature n° 10 ties (0.009832)\n",
      "15. feature n° 22 seIAT (0.007753)\n",
      "16. feature n° 24 nExp (0.007667)\n",
      "17. feature n° 13 yellowCards (0.007566)\n",
      "18. feature n° 12 goals (0.007535)\n",
      "19. feature n° 23 meanExp (0.007503)\n",
      "20. feature n° 20 meanIAT (0.007254)\n",
      "21. feature n° 19 Alpha_3 (0.007196)\n",
      "22. feature n° 18 refCountry (0.006786)\n",
      "23. feature n° 21 nIAT (0.006240)\n",
      "24. feature n° 25 seExp (0.005346)\n",
      "25. feature n° 15 redCards (0.000584)\n",
      "26. feature n° 14 yellowReds (0.000546)\n"
     ]
    },
    {
     "data": {
      "image/png": "[encoded data removed]",
      "text/plain": [
       "<matplotlib.figure.Figure at 0x11d1e0860>"
      ]
     },
     "metadata": {},
     "output_type": "display_data"
    }
   ],
   "source": [
    "rf.fit(X, y)\n",
    "\n",
    "importances = rf.feature_importances_\n",
    "std = np.std([tree.feature_importances_ for tree in rf.estimators_],\n",
    "             axis=0)\n",
    "indices = np.argsort(importances)[::-1]\n",
    "\n",
    "cols = rf_input_data.columns\n",
    "# Print the feature ranking\n",
    "print(\"Feature ranking:\")\n",
    "for f in range(X.shape[1]):\n",
    "    print(\"%d. feature n° %d %s (%f)\" % (f + 1, indices[f], cols[indices[f]], importances[indices[f]]))\n",
    "\n",
    "# Plot the feature importances of the forest\n",
    "plt.figure()\n",
    "plt.title(\"Feature importances\")\n",
    "plt.bar(range(X.shape[1]), importances[indices],\n",
    "       color=\"r\", yerr=std[indices], align=\"center\")\n",
    "plt.xticks(range(X.shape[1]), indices)\n",
    "plt.xlim([-1, X.shape[1]])\n",
    "plt.show()  "
   ]
  },
  {
   "cell_type": "markdown",
   "metadata": {},
   "source": [
    "We can see that the most important features are:\n",
    "    - photoID\n",
    "    - player\n",
    "    - the birthday\n",
    "    - playerShort\n",
    "    \n",
    "The result obtained is weird. Indeed, those 4 features seem to be independant of the color skin and they shloud also be unique to one player. PhotoID is the id of the photo and thus unique for one player. Same about 'player' and 'playerShort'. Birthday is not necessarily unique, but should not be that important in the classification of player."
   ]
  },
  {
   "cell_type": "markdown",
   "metadata": {},
   "source": [
    "We have to remember that our data contains dayads between player and referee, so it's mean that a player can appear several time in our data. It could be the reason why the name is deterministic. let's see some fact about the data"
   ]
  },
  {
   "cell_type": "code",
   "execution_count": 445,
   "metadata": {
    "collapsed": false,
    "scrolled": false
   },
   "outputs": [
    {
     "data": {
      "text/plain": [
       "djibril-cisse           202\n",
       "john-arne-riise         197\n",
       "javier-saviola          196\n",
       "giorgios-karagounis     195\n",
       "xavi                    188\n",
       "helder-postiga          183\n",
       "rafael-van-der-vaart    181\n",
       "zlatan-ibrahimovic      181\n",
       "simao                   180\n",
       "ian-harte               177\n",
       "Name: playerShort, dtype: int64"
      ]
     },
     "execution_count": 445,
     "metadata": {},
     "output_type": "execute_result"
    }
   ],
   "source": [
    "data.playerShort.value_counts()[:10]"
   ]
  },
  {
   "cell_type": "code",
   "execution_count": null,
   "metadata": {
    "collapsed": true
   },
   "outputs": [],
   "source": []
  },
  {
   "cell_type": "markdown",
   "metadata": {},
   "source": [
    "Indeed, some player appear 200 times, so it is easy to determine the color skin of djibril cisse if he appears both in the training set and in the test set. But in the reality the probability to have 2 djibril cisse with the same birthday and same color skin is almost null"
   ]
  },
  {
   "cell_type": "markdown",
   "metadata": {},
   "source": [
    "# Drop some important Feature"
   ]
  },
  {
   "cell_type": "code",
   "execution_count": 441,
   "metadata": {
    "collapsed": false
   },
   "outputs": [
    {
     "data": {
      "text/plain": [
       "club               int64\n",
       "leagueCountry      int64\n",
       "height           float64\n",
       "weight           float64\n",
       "position           int64\n",
       "games              int64\n",
       "victories          int64\n",
       "ties               int64\n",
       "defeats            int64\n",
       "goals              int64\n",
       "yellowCards        int64\n",
       "yellowReds         int64\n",
       "redCards           int64\n",
       "refNum             int64\n",
       "refCountry         int64\n",
       "Alpha_3            int64\n",
       "meanIAT          float64\n",
       "nIAT             float64\n",
       "seIAT            float64\n",
       "meanExp          float64\n",
       "nExp             float64\n",
       "seExp            float64\n",
       "dtype: object"
      ]
     },
     "execution_count": 441,
     "metadata": {},
     "output_type": "execute_result"
    }
   ],
   "source": [
    "rf_input_data_drop = rf_input_data.drop(['birthday', 'player','playerShort', 'photoID'], axis=1) \n",
    "\n",
    "rf_input_data_drop.dtypes"
   ]
  },
  {
   "cell_type": "code",
   "execution_count": 442,
   "metadata": {
    "collapsed": false
   },
   "outputs": [
    {
     "name": "stdout",
     "output_type": "stream",
     "text": [
      "[CV]  ................................................................\n",
      "[CV]  ................................................................\n",
      "[CV]  ................................................................\n",
      "[CV] ....................................... , score=0.771548 -   0.1s\n",
      "[CV] ....................................... , score=0.866324 -   0.1s\n",
      "[CV]  ................................................................\n",
      "[CV]  ................................................................\n",
      "[CV] ....................................... , score=0.844312 -   0.1s\n",
      "[CV]  ................................................................\n",
      "[CV] ....................................... , score=0.835382 -   0.1s\n",
      "[CV]  ................................................................\n",
      "[CV] ....................................... , score=0.857969 -   0.1s\n",
      "[CV]  ................................................................\n",
      "[CV] ....................................... , score=0.851450 -   0.1s\n",
      "[CV]  ................................................................\n",
      "[CV] ....................................... , score=0.844380 -   0.1s\n",
      "[CV] ....................................... , score=0.874729 -   0.1s\n",
      "[CV]  ................................................................\n",
      "[CV] ....................................... , score=0.841141 -   0.1s\n",
      "[CV] ....................................... , score=0.731999 -   0.1s\n"
     ]
    },
    {
     "name": "stderr",
     "output_type": "stream",
     "text": [
      "[Parallel(n_jobs=3)]: Done  10 out of  10 | elapsed:   13.5s finished\n"
     ]
    },
    {
     "data": {
      "text/plain": [
       "array([ 0.77154792,  0.86632391,  0.84431234,  0.85796915,  0.83538202,\n",
       "        0.85145015,  0.84438017,  0.87472881,  0.84114102,  0.73199936])"
      ]
     },
     "execution_count": 442,
     "metadata": {},
     "output_type": "execute_result"
    }
   ],
   "source": [
    "rf = RandomForestClassifier()\n",
    "# roc_scorer = make_scorer(roc_curve)\n",
    "X = rf_input_data_drop\n",
    "y = player_colors\n",
    "result = cross_val_score(rf, X, y, cv=10, n_jobs=3, pre_dispatch='n_jobs+1', verbose=3)\n",
    "\n",
    "\"\"\"\n",
    "kf = KFold(n_splits=10)\n",
    "for train, test in kf.split(rf_input_data):\n",
    "    X_train, X_test, y_train, y_test = rf_input_data[train], rf_input_data[test], player_colors[train], player_colors[test]\n",
    "    rf.fit(X_train, y_train)\n",
    "    y_pred = rf.predict(X_test)\n",
    "\"\"\"\n",
    "\n",
    "result"
   ]
  },
  {
   "cell_type": "code",
   "execution_count": 444,
   "metadata": {
    "collapsed": false
   },
   "outputs": [
    {
     "name": "stdout",
     "output_type": "stream",
     "text": [
      "Feature ranking:\n",
      "1. feature n° 3 weight (0.178321)\n",
      "2. feature n° 2 height (0.174316)\n",
      "3. feature n° 0 club (0.174290)\n",
      "4. feature n° 4 position (0.132921)\n",
      "5. feature n° 13 refNum (0.077175)\n",
      "6. feature n° 1 leagueCountry (0.036401)\n",
      "7. feature n° 5 games (0.030830)\n",
      "8. feature n° 6 victories (0.027916)\n",
      "9. feature n° 8 defeats (0.023867)\n",
      "10. feature n° 7 ties (0.021034)\n",
      "11. feature n° 10 yellowCards (0.018037)\n",
      "12. feature n° 9 goals (0.017238)\n",
      "13. feature n° 18 seIAT (0.011981)\n",
      "14. feature n° 14 refCountry (0.010734)\n",
      "15. feature n° 19 meanExp (0.010651)\n",
      "16. feature n° 16 meanIAT (0.010496)\n",
      "17. feature n° 21 seExp (0.010422)\n",
      "18. feature n° 17 nIAT (0.010355)\n",
      "19. feature n° 15 Alpha_3 (0.010340)\n",
      "20. feature n° 20 nExp (0.009356)\n",
      "21. feature n° 12 redCards (0.001790)\n",
      "22. feature n° 11 yellowReds (0.001528)\n"
     ]
    },
    {
     "data": {
      "image/png": "[encoded data removed]",
      "text/plain": [
       "<matplotlib.figure.Figure at 0x13c4c6d30>"
      ]
     },
     "metadata": {},
     "output_type": "display_data"
    }
   ],
   "source": [
    "rf.fit(X, y)\n",
    "\n",
    "importances = rf.feature_importances_\n",
    "std = np.std([tree.feature_importances_ for tree in rf.estimators_],\n",
    "             axis=0)\n",
    "indices = np.argsort(importances)[::-1]\n",
    "\n",
    "cols = rf_input_data_drop.columns\n",
    "# Print the feature ranking\n",
    "print(\"Feature ranking:\")\n",
    "for f in range(X.shape[1]):\n",
    "    print(\"%d. feature n° %d %s (%f)\" % (f + 1, indices[f], cols[indices[f]], importances[indices[f]]))\n",
    "\n",
    "# Plot the feature importances of the forest\n",
    "plt.figure()\n",
    "plt.title(\"Feature importances\")\n",
    "plt.bar(range(X.shape[1]), importances[indices],\n",
    "       color=\"r\", yerr=std[indices], align=\"center\")\n",
    "plt.xticks(range(X.shape[1]), indices)\n",
    "plt.xlim([-1, X.shape[1]])\n",
    "plt.show()  "
   ]
  }
 ],
 "metadata": {
  "anaconda-cloud": {},
  "kernelspec": {
   "display_name": "Python [default]",
   "language": "python",
   "name": "python3"
  },
  "language_info": {
   "codemirror_mode": {
    "name": "ipython",
    "version": 3
   },
   "file_extension": ".py",
   "mimetype": "text/x-python",
   "name": "python",
   "nbconvert_exporter": "python",
   "pygments_lexer": "ipython3",
   "version": "3.5.2"
  }
 },
 "nbformat": 4,
 "nbformat_minor": 1
}
