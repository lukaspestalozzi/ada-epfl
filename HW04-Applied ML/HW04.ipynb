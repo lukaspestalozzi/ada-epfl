{
 "cells": [
  {
   "cell_type": "markdown",
   "metadata": {},
   "source": [
    "# TODO\n",
    "#### Clean NAN\n",
    "- remove all NAN ratings (if any of rating1 or 2 is NAN)\n",
    "- replace NAN values in other columns with a default value\n",
    "    - height & weight with median\n",
    "    - position with a new position (eg. 'Joker')\n",
    "    - photoID (there is no NAN after removing the NAN ratings)\n",
    "    - Alpha_3 with 'World'\n",
    "    - *IAT and *Exp with 0 (we have no values therefore we assume no racial bias)\n",
    "    \n",
    "#### handling different ratings (rater1 vs rater2)\n",
    "- there is no player with only one rating \n",
    "- and the ratings are consistent for each player (for one rater)\n",
    "- what rating to take:\n",
    "    - take the rating of the rater where less dissagreement happend. (rater2->0, rater1->1, rater2->2, rater2->3, rater1->4) so if rater2 rated 0 take it... (in order 4, 0, 1, 2, 3)\n",
    "    - compare taking only rater1 vs rater2\n",
    "    - make a colum 'color_rating' and remove the other two\n",
    "    \n",
    "#### Agregating the player\n",
    "- explain why aggregating (not aggregating overfits on the player name etc.)\n",
    "- aggregate\n",
    "    - club: test if one player played for different clubs. -> one (several) hot encoding. or majority dyads per club\n",
    "    - leagueCountry: same as club\n",
    "    - position: test if different -> majority? \n",
    "    - photoID: ignore if different\n",
    "    - refNum: replace with number of unique refs\n",
    "    - refCountry: same as refNum\n",
    "    - Alpha_3: remove\n",
    "    - meanIAT: make new features\n",
    "        - take mean \n",
    "        - take weighted mean (weight with nIAT)\n",
    "        - take weighted mean (weight with game numers)\n",
    "    - meanExp: same as IAT\n",
    "    - seAIT: \n",
    "    - seExp: "
   ]
  },
  {
   "cell_type": "code",
   "execution_count": 1,
   "metadata": {
    "collapsed": true
   },
   "outputs": [],
   "source": [
    "# imports\n",
    "import pandas as pd\n",
    "import numpy as np\n",
    "import seaborn as sns\n",
    "import matplotlib.pyplot as plt\n",
    "from matplotlib.pyplot import show\n",
    "\n",
    "%matplotlib inline\n",
    "sns.set_context('notebook')\n",
    "pd.options.mode.chained_assignment = None  # default='warn'\n",
    "pd.set_option('display.max_columns', 500) # to see all columns"
   ]
  },
  {
   "cell_type": "code",
   "execution_count": 2,
   "metadata": {
    "collapsed": false,
    "scrolled": true
   },
   "outputs": [
    {
     "data": {
      "text/html": [
       "<div>\n",
       "<table border=\"1\" class=\"dataframe\">\n",
       "  <thead>\n",
       "    <tr style=\"text-align: right;\">\n",
       "      <th></th>\n",
       "      <th>playerShort</th>\n",
       "      <th>player</th>\n",
       "      <th>club</th>\n",
       "      <th>leagueCountry</th>\n",
       "      <th>birthday</th>\n",
       "      <th>height</th>\n",
       "      <th>weight</th>\n",
       "      <th>position</th>\n",
       "      <th>games</th>\n",
       "      <th>victories</th>\n",
       "      <th>ties</th>\n",
       "      <th>defeats</th>\n",
       "      <th>goals</th>\n",
       "      <th>yellowCards</th>\n",
       "      <th>yellowReds</th>\n",
       "      <th>redCards</th>\n",
       "      <th>photoID</th>\n",
       "      <th>rater1</th>\n",
       "      <th>rater2</th>\n",
       "      <th>refNum</th>\n",
       "      <th>refCountry</th>\n",
       "      <th>Alpha_3</th>\n",
       "      <th>meanIAT</th>\n",
       "      <th>nIAT</th>\n",
       "      <th>seIAT</th>\n",
       "      <th>meanExp</th>\n",
       "      <th>nExp</th>\n",
       "      <th>seExp</th>\n",
       "    </tr>\n",
       "  </thead>\n",
       "  <tbody>\n",
       "    <tr>\n",
       "      <th>0</th>\n",
       "      <td>lucas-wilchez</td>\n",
       "      <td>Lucas Wilchez</td>\n",
       "      <td>Real Zaragoza</td>\n",
       "      <td>Spain</td>\n",
       "      <td>31.08.1983</td>\n",
       "      <td>177.0</td>\n",
       "      <td>72.0</td>\n",
       "      <td>Attacking Midfielder</td>\n",
       "      <td>1</td>\n",
       "      <td>0</td>\n",
       "      <td>0</td>\n",
       "      <td>1</td>\n",
       "      <td>0</td>\n",
       "      <td>0</td>\n",
       "      <td>0</td>\n",
       "      <td>0</td>\n",
       "      <td>95212.jpg</td>\n",
       "      <td>0.25</td>\n",
       "      <td>0.50</td>\n",
       "      <td>1</td>\n",
       "      <td>1</td>\n",
       "      <td>GRC</td>\n",
       "      <td>0.326391</td>\n",
       "      <td>712.0</td>\n",
       "      <td>0.000564</td>\n",
       "      <td>0.396000</td>\n",
       "      <td>750.0</td>\n",
       "      <td>0.002696</td>\n",
       "    </tr>\n",
       "    <tr>\n",
       "      <th>1</th>\n",
       "      <td>john-utaka</td>\n",
       "      <td>John Utaka</td>\n",
       "      <td>Montpellier HSC</td>\n",
       "      <td>France</td>\n",
       "      <td>08.01.1982</td>\n",
       "      <td>179.0</td>\n",
       "      <td>82.0</td>\n",
       "      <td>Right Winger</td>\n",
       "      <td>1</td>\n",
       "      <td>0</td>\n",
       "      <td>0</td>\n",
       "      <td>1</td>\n",
       "      <td>0</td>\n",
       "      <td>1</td>\n",
       "      <td>0</td>\n",
       "      <td>0</td>\n",
       "      <td>1663.jpg</td>\n",
       "      <td>0.75</td>\n",
       "      <td>0.75</td>\n",
       "      <td>2</td>\n",
       "      <td>2</td>\n",
       "      <td>ZMB</td>\n",
       "      <td>0.203375</td>\n",
       "      <td>40.0</td>\n",
       "      <td>0.010875</td>\n",
       "      <td>-0.204082</td>\n",
       "      <td>49.0</td>\n",
       "      <td>0.061504</td>\n",
       "    </tr>\n",
       "    <tr>\n",
       "      <th>2</th>\n",
       "      <td>abdon-prats</td>\n",
       "      <td>Abdón Prats</td>\n",
       "      <td>RCD Mallorca</td>\n",
       "      <td>Spain</td>\n",
       "      <td>17.12.1992</td>\n",
       "      <td>181.0</td>\n",
       "      <td>79.0</td>\n",
       "      <td>NaN</td>\n",
       "      <td>1</td>\n",
       "      <td>0</td>\n",
       "      <td>1</td>\n",
       "      <td>0</td>\n",
       "      <td>0</td>\n",
       "      <td>1</td>\n",
       "      <td>0</td>\n",
       "      <td>0</td>\n",
       "      <td>NaN</td>\n",
       "      <td>NaN</td>\n",
       "      <td>NaN</td>\n",
       "      <td>3</td>\n",
       "      <td>3</td>\n",
       "      <td>ESP</td>\n",
       "      <td>0.369894</td>\n",
       "      <td>1785.0</td>\n",
       "      <td>0.000229</td>\n",
       "      <td>0.588297</td>\n",
       "      <td>1897.0</td>\n",
       "      <td>0.001002</td>\n",
       "    </tr>\n",
       "    <tr>\n",
       "      <th>3</th>\n",
       "      <td>pablo-mari</td>\n",
       "      <td>Pablo Marí</td>\n",
       "      <td>RCD Mallorca</td>\n",
       "      <td>Spain</td>\n",
       "      <td>31.08.1993</td>\n",
       "      <td>191.0</td>\n",
       "      <td>87.0</td>\n",
       "      <td>Center Back</td>\n",
       "      <td>1</td>\n",
       "      <td>1</td>\n",
       "      <td>0</td>\n",
       "      <td>0</td>\n",
       "      <td>0</td>\n",
       "      <td>0</td>\n",
       "      <td>0</td>\n",
       "      <td>0</td>\n",
       "      <td>NaN</td>\n",
       "      <td>NaN</td>\n",
       "      <td>NaN</td>\n",
       "      <td>3</td>\n",
       "      <td>3</td>\n",
       "      <td>ESP</td>\n",
       "      <td>0.369894</td>\n",
       "      <td>1785.0</td>\n",
       "      <td>0.000229</td>\n",
       "      <td>0.588297</td>\n",
       "      <td>1897.0</td>\n",
       "      <td>0.001002</td>\n",
       "    </tr>\n",
       "    <tr>\n",
       "      <th>4</th>\n",
       "      <td>ruben-pena</td>\n",
       "      <td>Rubén Peña</td>\n",
       "      <td>Real Valladolid</td>\n",
       "      <td>Spain</td>\n",
       "      <td>18.07.1991</td>\n",
       "      <td>172.0</td>\n",
       "      <td>70.0</td>\n",
       "      <td>Right Midfielder</td>\n",
       "      <td>1</td>\n",
       "      <td>1</td>\n",
       "      <td>0</td>\n",
       "      <td>0</td>\n",
       "      <td>0</td>\n",
       "      <td>0</td>\n",
       "      <td>0</td>\n",
       "      <td>0</td>\n",
       "      <td>NaN</td>\n",
       "      <td>NaN</td>\n",
       "      <td>NaN</td>\n",
       "      <td>3</td>\n",
       "      <td>3</td>\n",
       "      <td>ESP</td>\n",
       "      <td>0.369894</td>\n",
       "      <td>1785.0</td>\n",
       "      <td>0.000229</td>\n",
       "      <td>0.588297</td>\n",
       "      <td>1897.0</td>\n",
       "      <td>0.001002</td>\n",
       "    </tr>\n",
       "  </tbody>\n",
       "</table>\n",
       "</div>"
      ],
      "text/plain": [
       "     playerShort         player             club leagueCountry    birthday  \\\n",
       "0  lucas-wilchez  Lucas Wilchez    Real Zaragoza         Spain  31.08.1983   \n",
       "1     john-utaka     John Utaka  Montpellier HSC        France  08.01.1982   \n",
       "2    abdon-prats    Abdón Prats     RCD Mallorca         Spain  17.12.1992   \n",
       "3     pablo-mari     Pablo Marí     RCD Mallorca         Spain  31.08.1993   \n",
       "4     ruben-pena     Rubén Peña  Real Valladolid         Spain  18.07.1991   \n",
       "\n",
       "   height  weight              position  games  victories  ties  defeats  \\\n",
       "0   177.0    72.0  Attacking Midfielder      1          0     0        1   \n",
       "1   179.0    82.0          Right Winger      1          0     0        1   \n",
       "2   181.0    79.0                   NaN      1          0     1        0   \n",
       "3   191.0    87.0           Center Back      1          1     0        0   \n",
       "4   172.0    70.0      Right Midfielder      1          1     0        0   \n",
       "\n",
       "   goals  yellowCards  yellowReds  redCards    photoID  rater1  rater2  \\\n",
       "0      0            0           0         0  95212.jpg    0.25    0.50   \n",
       "1      0            1           0         0   1663.jpg    0.75    0.75   \n",
       "2      0            1           0         0        NaN     NaN     NaN   \n",
       "3      0            0           0         0        NaN     NaN     NaN   \n",
       "4      0            0           0         0        NaN     NaN     NaN   \n",
       "\n",
       "   refNum  refCountry Alpha_3   meanIAT    nIAT     seIAT   meanExp    nExp  \\\n",
       "0       1           1     GRC  0.326391   712.0  0.000564  0.396000   750.0   \n",
       "1       2           2     ZMB  0.203375    40.0  0.010875 -0.204082    49.0   \n",
       "2       3           3     ESP  0.369894  1785.0  0.000229  0.588297  1897.0   \n",
       "3       3           3     ESP  0.369894  1785.0  0.000229  0.588297  1897.0   \n",
       "4       3           3     ESP  0.369894  1785.0  0.000229  0.588297  1897.0   \n",
       "\n",
       "      seExp  \n",
       "0  0.002696  \n",
       "1  0.061504  \n",
       "2  0.001002  \n",
       "3  0.001002  \n",
       "4  0.001002  "
      ]
     },
     "execution_count": 2,
     "metadata": {},
     "output_type": "execute_result"
    }
   ],
   "source": [
    "data = pd.read_csv('CrowdstormingDataJuly1st.csv')\n",
    "data.head()"
   ]
  },
  {
   "cell_type": "markdown",
   "metadata": {},
   "source": [
    "Skincolor is rated by two persons (rater1 and rater2) on a 5 point scala (0 = verly light, 5 = very dark).\n",
    "We have to know this values for the HW, therefore we remove all players that have no value in eiter rater1 or rater2."
   ]
  },
  {
   "cell_type": "markdown",
   "metadata": {},
   "source": [
    "Note that there is no player with only one rating and one player's ratings are consistent"
   ]
  },
  {
   "cell_type": "code",
   "execution_count": 3,
   "metadata": {
    "collapsed": false
   },
   "outputs": [
    {
     "name": "stdout",
     "output_type": "stream",
     "text": [
      "should be 0: 0\n",
      "should be 0: 0\n"
     ]
    },
    {
     "name": "stderr",
     "output_type": "stream",
     "text": [
      "/home/lukas/anaconda3/lib/python3.5/site-packages/ipykernel/__main__.py:11: UserWarning: Boolean Series key will be reindexed to match DataFrame index.\n"
     ]
    }
   ],
   "source": [
    "# count how many players have different ratings from the same rater (should be 0)\n",
    "consistent = 0\n",
    "for pn in data['playerShort'].unique():\n",
    "    player_data = data[data['playerShort'] == pn]\n",
    "    if (len(player_data['rater1'].unique()) != 1 or len(player_data['rater2'].unique()) != 1):\n",
    "        print(pn)\n",
    "        consistent += 1\n",
    "print(\"should be 0:\", consistent)\n",
    "\n",
    "# count how many players have only 1 rating (should be 0)\n",
    "print(\"should be 0:\", len(data[~pd.isnull(data['rater1'])][pd.isnull(data['rater2'])]) + len(data[pd.isnull(data['rater1'])][~pd.isnull(data['rater2'])]))"
   ]
  },
  {
   "cell_type": "code",
   "execution_count": 4,
   "metadata": {
    "collapsed": false
   },
   "outputs": [],
   "source": [
    "# remove rows where skin color is nan\n",
    "data = data[~pd.isnull(data['rater1'])]\n",
    "data = data[~pd.isnull(data['rater2'])]"
   ]
  },
  {
   "cell_type": "markdown",
   "metadata": {},
   "source": [
    "The two raters don't agree on all players what should we do? They dissagree for 23% of the players."
   ]
  },
  {
   "cell_type": "code",
   "execution_count": 5,
   "metadata": {
    "collapsed": false
   },
   "outputs": [
    {
     "name": "stdout",
     "output_type": "stream",
     "text": [
      "percentage of players with different ratings:  23.195930059941745 %\n"
     ]
    }
   ],
   "source": [
    "print(\"percentage of players with different ratings: \", len(data[data['rater1'] != data['rater2']])*100 / len(data), \"%\")"
   ]
  },
  {
   "cell_type": "markdown",
   "metadata": {},
   "source": [
    "We have several options:\n",
    "- just take one of the raters values (ignore the other) or compare the differences of the two\n",
    "- take one at random for each player -> differs from execution to execution\n",
    "- remove the ambiguous players -> drawback: removing almost 1/4 of the data\n",
    "- expand to a 9 point system and take the average of the two ratings -> less data for the 'intermediate' points."
   ]
  },
  {
   "cell_type": "markdown",
   "metadata": {},
   "source": [
    "Some plots to show the situation.\n",
    "Plot 3 and 4 show where the two raters disagreed most. Eg. 16'000 times the rater1 rated a player 0 but rater2 did not.\n",
    "All in all we can see that rater1 perceived the white players lighter than rater2. For the dark players they agree better.\n",
    "Most disagreement happens between category 0 and 0.25 and the disagreement is almost always only one category appart.\n",
    "It does therefore not matter too much which rater to take, but it would be interesting if taking rater1 or 2 makes a difference for the ML part."
   ]
  },
  {
   "cell_type": "code",
   "execution_count": 6,
   "metadata": {
    "collapsed": false
   },
   "outputs": [
    {
     "data": {
      "text/plain": [
       "<matplotlib.text.Text at 0x7febcd9ddc88>"
      ]
     },
     "execution_count": 6,
     "metadata": {},
     "output_type": "execute_result"
    },
    {
     "data": {
      "image/png": "[encoded data removed]",
      "text/plain": [
       "<matplotlib.figure.Figure at 0x7febcdd20860>"
      ]
     },
     "metadata": {},
     "output_type": "display_data"
    }
   ],
   "source": [
    "fig, ax = plt.subplots(1, 4, figsize=(16, 4))\n",
    "ax[0].hist([data['rater1'], data['rater2']], bins=5)\n",
    "ax[0].set_title(\"Raters compared \\n(blue: rater1, green: rater2)\")\n",
    "\n",
    "ax[1].hist(data['rater1'] - data['rater2'], bins=9, range=(-1, 1))\n",
    "ax[1].set_title(\"Difference (Rater1 - Rater2)\")\n",
    "\n",
    "dissagree_data = data[data['rater1'] != data['rater2']]\n",
    "ax[2].hist(dissagree_data['rater1'], bins=5)\n",
    "ax[2].set_title(\"Dissagreed values Rater1\")\n",
    "\n",
    "ax[3].hist(dissagree_data['rater2'], bins=5, color='seagreen')\n",
    "ax[3].set_title(\"Dissagreed values Rater2\")\n"
   ]
  },
  {
   "cell_type": "code",
   "execution_count": 7,
   "metadata": {
    "collapsed": false,
    "scrolled": true
   },
   "outputs": [],
   "source": [
    "# Create the rating column. We just take the rater1.\n",
    "Rater = 'rater1'\n",
    "data['color_rating'] = data.apply(lambda row: row[Rater], axis=1)\n",
    "# drop the two ratings\n",
    "data.drop('rater1', axis=1, inplace=True)\n",
    "data.drop('rater2', axis=1, inplace=True)"
   ]
  },
  {
   "cell_type": "markdown",
   "metadata": {},
   "source": [
    "Now we have to make the color_rating categorical"
   ]
  },
  {
   "cell_type": "code",
   "execution_count": 8,
   "metadata": {
    "collapsed": false,
    "scrolled": true
   },
   "outputs": [],
   "source": [
    "# make color_rating categorical\n",
    "categorical_dict = {0: 'WW', 0.25: 'W', 0.5: 'N', 0.75: 'B', 1: 'BB' }\n",
    "data['color_rating'] = data.apply(lambda row: categorical_dict[row['color_rating']]\n",
    ", axis=1).astype('category')"
   ]
  },
  {
   "cell_type": "code",
   "execution_count": 9,
   "metadata": {
    "collapsed": false
   },
   "outputs": [
    {
     "data": {
      "text/html": [
       "<div>\n",
       "<table border=\"1\" class=\"dataframe\">\n",
       "  <thead>\n",
       "    <tr style=\"text-align: right;\">\n",
       "      <th></th>\n",
       "      <th>playerShort</th>\n",
       "      <th>player</th>\n",
       "      <th>club</th>\n",
       "      <th>leagueCountry</th>\n",
       "      <th>birthday</th>\n",
       "      <th>height</th>\n",
       "      <th>weight</th>\n",
       "      <th>position</th>\n",
       "      <th>games</th>\n",
       "      <th>victories</th>\n",
       "      <th>ties</th>\n",
       "      <th>defeats</th>\n",
       "      <th>goals</th>\n",
       "      <th>yellowCards</th>\n",
       "      <th>yellowReds</th>\n",
       "      <th>redCards</th>\n",
       "      <th>photoID</th>\n",
       "      <th>refNum</th>\n",
       "      <th>refCountry</th>\n",
       "      <th>Alpha_3</th>\n",
       "      <th>meanIAT</th>\n",
       "      <th>nIAT</th>\n",
       "      <th>seIAT</th>\n",
       "      <th>meanExp</th>\n",
       "      <th>nExp</th>\n",
       "      <th>seExp</th>\n",
       "      <th>color_rating</th>\n",
       "    </tr>\n",
       "  </thead>\n",
       "  <tbody>\n",
       "    <tr>\n",
       "      <th>0</th>\n",
       "      <td>lucas-wilchez</td>\n",
       "      <td>Lucas Wilchez</td>\n",
       "      <td>Real Zaragoza</td>\n",
       "      <td>Spain</td>\n",
       "      <td>31.08.1983</td>\n",
       "      <td>177.0</td>\n",
       "      <td>72.0</td>\n",
       "      <td>Attacking Midfielder</td>\n",
       "      <td>1</td>\n",
       "      <td>0</td>\n",
       "      <td>0</td>\n",
       "      <td>1</td>\n",
       "      <td>0</td>\n",
       "      <td>0</td>\n",
       "      <td>0</td>\n",
       "      <td>0</td>\n",
       "      <td>95212.jpg</td>\n",
       "      <td>1</td>\n",
       "      <td>1</td>\n",
       "      <td>GRC</td>\n",
       "      <td>0.326391</td>\n",
       "      <td>712.0</td>\n",
       "      <td>0.000564</td>\n",
       "      <td>0.396000</td>\n",
       "      <td>750.0</td>\n",
       "      <td>0.002696</td>\n",
       "      <td>W</td>\n",
       "    </tr>\n",
       "    <tr>\n",
       "      <th>1</th>\n",
       "      <td>john-utaka</td>\n",
       "      <td>John Utaka</td>\n",
       "      <td>Montpellier HSC</td>\n",
       "      <td>France</td>\n",
       "      <td>08.01.1982</td>\n",
       "      <td>179.0</td>\n",
       "      <td>82.0</td>\n",
       "      <td>Right Winger</td>\n",
       "      <td>1</td>\n",
       "      <td>0</td>\n",
       "      <td>0</td>\n",
       "      <td>1</td>\n",
       "      <td>0</td>\n",
       "      <td>1</td>\n",
       "      <td>0</td>\n",
       "      <td>0</td>\n",
       "      <td>1663.jpg</td>\n",
       "      <td>2</td>\n",
       "      <td>2</td>\n",
       "      <td>ZMB</td>\n",
       "      <td>0.203375</td>\n",
       "      <td>40.0</td>\n",
       "      <td>0.010875</td>\n",
       "      <td>-0.204082</td>\n",
       "      <td>49.0</td>\n",
       "      <td>0.061504</td>\n",
       "      <td>B</td>\n",
       "    </tr>\n",
       "    <tr>\n",
       "      <th>5</th>\n",
       "      <td>aaron-hughes</td>\n",
       "      <td>Aaron Hughes</td>\n",
       "      <td>Fulham FC</td>\n",
       "      <td>England</td>\n",
       "      <td>08.11.1979</td>\n",
       "      <td>182.0</td>\n",
       "      <td>71.0</td>\n",
       "      <td>Center Back</td>\n",
       "      <td>1</td>\n",
       "      <td>0</td>\n",
       "      <td>0</td>\n",
       "      <td>1</td>\n",
       "      <td>0</td>\n",
       "      <td>0</td>\n",
       "      <td>0</td>\n",
       "      <td>0</td>\n",
       "      <td>3868.jpg</td>\n",
       "      <td>4</td>\n",
       "      <td>4</td>\n",
       "      <td>LUX</td>\n",
       "      <td>0.325185</td>\n",
       "      <td>127.0</td>\n",
       "      <td>0.003297</td>\n",
       "      <td>0.538462</td>\n",
       "      <td>130.0</td>\n",
       "      <td>0.013752</td>\n",
       "      <td>W</td>\n",
       "    </tr>\n",
       "    <tr>\n",
       "      <th>6</th>\n",
       "      <td>aleksandar-kolarov</td>\n",
       "      <td>Aleksandar Kolarov</td>\n",
       "      <td>Manchester City</td>\n",
       "      <td>England</td>\n",
       "      <td>10.11.1985</td>\n",
       "      <td>187.0</td>\n",
       "      <td>80.0</td>\n",
       "      <td>Left Fullback</td>\n",
       "      <td>1</td>\n",
       "      <td>1</td>\n",
       "      <td>0</td>\n",
       "      <td>0</td>\n",
       "      <td>0</td>\n",
       "      <td>0</td>\n",
       "      <td>0</td>\n",
       "      <td>0</td>\n",
       "      <td>47704.jpg</td>\n",
       "      <td>4</td>\n",
       "      <td>4</td>\n",
       "      <td>LUX</td>\n",
       "      <td>0.325185</td>\n",
       "      <td>127.0</td>\n",
       "      <td>0.003297</td>\n",
       "      <td>0.538462</td>\n",
       "      <td>130.0</td>\n",
       "      <td>0.013752</td>\n",
       "      <td>WW</td>\n",
       "    </tr>\n",
       "    <tr>\n",
       "      <th>7</th>\n",
       "      <td>alexander-tettey</td>\n",
       "      <td>Alexander Tettey</td>\n",
       "      <td>Norwich City</td>\n",
       "      <td>England</td>\n",
       "      <td>04.04.1986</td>\n",
       "      <td>180.0</td>\n",
       "      <td>68.0</td>\n",
       "      <td>Defensive Midfielder</td>\n",
       "      <td>1</td>\n",
       "      <td>0</td>\n",
       "      <td>0</td>\n",
       "      <td>1</td>\n",
       "      <td>0</td>\n",
       "      <td>0</td>\n",
       "      <td>0</td>\n",
       "      <td>0</td>\n",
       "      <td>22356.jpg</td>\n",
       "      <td>4</td>\n",
       "      <td>4</td>\n",
       "      <td>LUX</td>\n",
       "      <td>0.325185</td>\n",
       "      <td>127.0</td>\n",
       "      <td>0.003297</td>\n",
       "      <td>0.538462</td>\n",
       "      <td>130.0</td>\n",
       "      <td>0.013752</td>\n",
       "      <td>BB</td>\n",
       "    </tr>\n",
       "  </tbody>\n",
       "</table>\n",
       "</div>"
      ],
      "text/plain": [
       "          playerShort              player             club leagueCountry  \\\n",
       "0       lucas-wilchez       Lucas Wilchez    Real Zaragoza         Spain   \n",
       "1          john-utaka          John Utaka  Montpellier HSC        France   \n",
       "5        aaron-hughes        Aaron Hughes        Fulham FC       England   \n",
       "6  aleksandar-kolarov  Aleksandar Kolarov  Manchester City       England   \n",
       "7    alexander-tettey    Alexander Tettey     Norwich City       England   \n",
       "\n",
       "     birthday  height  weight              position  games  victories  ties  \\\n",
       "0  31.08.1983   177.0    72.0  Attacking Midfielder      1          0     0   \n",
       "1  08.01.1982   179.0    82.0          Right Winger      1          0     0   \n",
       "5  08.11.1979   182.0    71.0           Center Back      1          0     0   \n",
       "6  10.11.1985   187.0    80.0         Left Fullback      1          1     0   \n",
       "7  04.04.1986   180.0    68.0  Defensive Midfielder      1          0     0   \n",
       "\n",
       "   defeats  goals  yellowCards  yellowReds  redCards    photoID  refNum  \\\n",
       "0        1      0            0           0         0  95212.jpg       1   \n",
       "1        1      0            1           0         0   1663.jpg       2   \n",
       "5        1      0            0           0         0   3868.jpg       4   \n",
       "6        0      0            0           0         0  47704.jpg       4   \n",
       "7        1      0            0           0         0  22356.jpg       4   \n",
       "\n",
       "   refCountry Alpha_3   meanIAT   nIAT     seIAT   meanExp   nExp     seExp  \\\n",
       "0           1     GRC  0.326391  712.0  0.000564  0.396000  750.0  0.002696   \n",
       "1           2     ZMB  0.203375   40.0  0.010875 -0.204082   49.0  0.061504   \n",
       "5           4     LUX  0.325185  127.0  0.003297  0.538462  130.0  0.013752   \n",
       "6           4     LUX  0.325185  127.0  0.003297  0.538462  130.0  0.013752   \n",
       "7           4     LUX  0.325185  127.0  0.003297  0.538462  130.0  0.013752   \n",
       "\n",
       "  color_rating  \n",
       "0            W  \n",
       "1            B  \n",
       "5            W  \n",
       "6           WW  \n",
       "7           BB  "
      ]
     },
     "execution_count": 9,
     "metadata": {},
     "output_type": "execute_result"
    }
   ],
   "source": [
    "data.head()"
   ]
  },
  {
   "cell_type": "markdown",
   "metadata": {},
   "source": [
    "# Random Forest"
   ]
  },
  {
   "cell_type": "code",
   "execution_count": 10,
   "metadata": {
    "collapsed": false,
    "scrolled": true
   },
   "outputs": [],
   "source": [
    "from sklearn.ensemble import RandomForestClassifier\n",
    "from sklearn import preprocessing as pp\n",
    "from sklearn.model_selection import KFold , cross_val_score\n",
    "from sklearn.metrics import make_scorer, roc_curve, roc_auc_score"
   ]
  },
  {
   "cell_type": "code",
   "execution_count": 11,
   "metadata": {
    "collapsed": true
   },
   "outputs": [],
   "source": [
    "# encoders\n",
    "le = pp.LabelEncoder() # for playernames etc.\n",
    "ohe = pp.OneHotEncoder() # for categories with 'few' categories"
   ]
  },
  {
   "cell_type": "markdown",
   "metadata": {},
   "source": [
    "Create the data for the RF\n",
    "\n",
    "Turns out that there are some 'NaN' values. So we replace them with a default."
   ]
  },
  {
   "cell_type": "code",
   "execution_count": 12,
   "metadata": {
    "collapsed": false
   },
   "outputs": [
    {
     "data": {
      "text/plain": [
       "playerShort         0\n",
       "player              0\n",
       "club                0\n",
       "leagueCountry       0\n",
       "birthday            0\n",
       "height             46\n",
       "weight            753\n",
       "position         8461\n",
       "games               0\n",
       "victories           0\n",
       "ties                0\n",
       "defeats             0\n",
       "goals               0\n",
       "yellowCards         0\n",
       "yellowReds          0\n",
       "redCards            0\n",
       "photoID             0\n",
       "refNum              0\n",
       "refCountry          0\n",
       "Alpha_3             1\n",
       "meanIAT           153\n",
       "nIAT              153\n",
       "seIAT             153\n",
       "meanExp           153\n",
       "nExp              153\n",
       "seExp             153\n",
       "color_rating        0\n",
       "dtype: int64"
      ]
     },
     "execution_count": 12,
     "metadata": {},
     "output_type": "execute_result"
    }
   ],
   "source": [
    "np.sum(pd.isnull(data))"
   ]
  },
  {
   "cell_type": "code",
   "execution_count": 13,
   "metadata": {
    "collapsed": false
   },
   "outputs": [],
   "source": [
    "data['position'] = data['position'].fillna(value=\"Joker\") # all players with no position play the same position\n",
    "data['Alpha_3'] = data['Alpha_3'].fillna(value=\"WO\") # No country means they play for WOrld ;)\n",
    "\n",
    "# replace no height and weight with the mean value\n",
    "mean_height = np.mean(data['height'].dropna())\n",
    "mean_weight = np.mean(data['weight'].dropna())\n",
    "data['height'] = data['height'].fillna(value=mean_height)\n",
    "data['weight'] = data['weight'].fillna(value=mean_weight)\n",
    "\n",
    "# the IAT stuff, replace all with 0 (meaning no bias). \n",
    "data['meanIAT'] = data['meanIAT'].fillna(value=0)\n",
    "data['nIAT'] = data['nIAT'].fillna(value=0)\n",
    "data['seIAT'] = data['seIAT'].fillna(value=0)\n",
    "data['meanExp'] = data['meanExp'].fillna(value=0)\n",
    "data['nExp'] = data['nExp'].fillna(value=0)\n",
    "data['seExp'] = data['seExp'].fillna(value=0)"
   ]
  },
  {
   "cell_type": "code",
   "execution_count": 14,
   "metadata": {
    "collapsed": false
   },
   "outputs": [
    {
     "data": {
      "text/plain": [
       "0"
      ]
     },
     "execution_count": 14,
     "metadata": {},
     "output_type": "execute_result"
    }
   ],
   "source": [
    "np.sum(np.sum(pd.isnull(data)))"
   ]
  },
  {
   "cell_type": "code",
   "execution_count": 15,
   "metadata": {
    "collapsed": false,
    "scrolled": true
   },
   "outputs": [
    {
     "data": {
      "text/plain": [
       "player_encoded             int64\n",
       "club_encoded               int64\n",
       "leagueCountry_encoded      int64\n",
       "birthday_encoded           int64\n",
       "height                   float64\n",
       "weight                   float64\n",
       "position_encoded           int64\n",
       "games                      int64\n",
       "victories                  int64\n",
       "ties                       int64\n",
       "defeats                    int64\n",
       "goals                      int64\n",
       "yellowCards                int64\n",
       "yellowReds                 int64\n",
       "redCards                   int64\n",
       "refNum                     int64\n",
       "refCountry                 int64\n",
       "Alpha_3_encoded            int64\n",
       "meanIAT                  float64\n",
       "nIAT                     float64\n",
       "seIAT                    float64\n",
       "meanExp                  float64\n",
       "seExp                    float64\n",
       "dtype: object"
      ]
     },
     "execution_count": 15,
     "metadata": {},
     "output_type": "execute_result"
    }
   ],
   "source": [
    "data['player_encoded'] = le.fit_transform(data['player'])\n",
    "data['club_encoded'] = le.fit_transform(data['club'])\n",
    "data['leagueCountry_encoded'] = le.fit_transform(data['leagueCountry'])\n",
    "data['birthday_encoded'] = le.fit_transform(data['birthday'])\n",
    "data['position_encoded'] = le.fit_transform(data['position'])\n",
    "data['Alpha_3_encoded'] = le.fit_transform(data['Alpha_3'])\n",
    "data['color_rating_encoded'] = le.fit_transform(data['color_rating'])\n",
    "\n",
    "rf_input_data = data[['player_encoded', 'club_encoded', 'leagueCountry_encoded', \\\n",
    "                      'birthday_encoded', 'height', 'weight', 'position_encoded', \\\n",
    "                      'games', 'victories', 'ties', 'defeats', 'goals', 'yellowCards', \\\n",
    "                      'yellowReds', 'redCards', 'refNum', 'refCountry', 'Alpha_3_encoded', \\\n",
    "                      'meanIAT', 'nIAT', 'seIAT', 'meanExp', 'seExp']]\n",
    "player_colors = data['color_rating_encoded']\n",
    "\n",
    "rf_input_data.dtypes"
   ]
  },
  {
   "cell_type": "markdown",
   "metadata": {},
   "source": [
    "### Train and test the Random Forest with KFold cross validation"
   ]
  },
  {
   "cell_type": "code",
   "execution_count": 16,
   "metadata": {
    "collapsed": false,
    "scrolled": true
   },
   "outputs": [
    {
     "name": "stdout",
     "output_type": "stream",
     "text": [
      "[CV]  ................................................................\n",
      "[CV]  ................................................................\n",
      "[CV]  ................................................................\n",
      "[CV] ....................................... , score=0.983713 -   0.0s\n",
      "[CV]  ................................................................\n",
      "[CV] ....................................... , score=0.993421 -   0.1s\n",
      "[CV]  ................................................................\n",
      "[CV] ....................................... , score=0.992779 -   0.0s\n",
      "[CV]  ................................................................\n",
      "[CV] ....................................... , score=0.990933 -   0.0s\n",
      "[CV]  ................................................................\n",
      "[CV] ....................................... , score=0.997111 -   0.1s\n",
      "[CV]  ................................................................\n",
      "[CV] ....................................... , score=0.991574 -   0.0s\n",
      "[CV]  ................................................................\n",
      "[CV] ....................................... , score=0.995185 -   0.0s\n",
      "[CV]  ................................................................\n",
      "[CV] ....................................... , score=0.996710 -   0.0s\n",
      "[CV] ....................................... , score=0.992697 -   0.0s\n",
      "[CV] ....................................... , score=0.966051 -   0.0s\n"
     ]
    },
    {
     "name": "stderr",
     "output_type": "stream",
     "text": [
      "[Parallel(n_jobs=3)]: Done  10 out of  10 | elapsed:   10.2s finished\n"
     ]
    },
    {
     "data": {
      "text/plain": [
       "array([ 0.98371309,  0.99277862,  0.99342052,  0.99093316,  0.99711122,\n",
       "        0.99157439,  0.99518536,  0.99671   ,  0.99269663,  0.96605136])"
      ]
     },
     "execution_count": 16,
     "metadata": {},
     "output_type": "execute_result"
    }
   ],
   "source": [
    "rf = RandomForestClassifier()\n",
    "# roc_scorer = make_scorer(roc_curve)\n",
    "X = rf_input_data\n",
    "y = player_colors\n",
    "result = cross_val_score(rf, X, y, cv=10, n_jobs=3, pre_dispatch='n_jobs+1', verbose=3)\n",
    "\n",
    "\"\"\"\n",
    "kf = KFold(n_splits=10)\n",
    "for train, test in kf.split(rf_input_data):\n",
    "    X_train, X_test, y_train, y_test = rf_input_data[train], rf_input_data[test], player_colors[train], player_colors[test]\n",
    "    rf.fit(X_train, y_train)\n",
    "    y_pred = rf.predict(X_test)\n",
    "\"\"\"\n",
    "\n",
    "result"
   ]
  },
  {
   "cell_type": "code",
   "execution_count": 17,
   "metadata": {
    "collapsed": false,
    "scrolled": true
   },
   "outputs": [
    {
     "name": "stdout",
     "output_type": "stream",
     "text": [
      "player_encoded  ->  0.175202264287\n",
      "club_encoded  ->  0.146708429677\n",
      "leagueCountry_encoded  ->  0.0403729804131\n",
      "birthday_encoded  ->  0.164038619047\n",
      "height  ->  0.133541784112\n",
      "weight  ->  0.131751198068\n",
      "position_encoded  ->  0.102987813246\n",
      "games  ->  0.0088128590778\n",
      "victories  ->  0.00734229157339\n",
      "ties  ->  0.00447271013862\n",
      "defeats  ->  0.00569158111539\n",
      "goals  ->  0.00660599028286\n",
      "yellowCards  ->  0.00400985444942\n",
      "yellowReds  ->  0.000352150538138\n",
      "redCards  ->  0.000369534006389\n",
      "refNum  ->  0.0112139108117\n",
      "refCountry  ->  0.00859648104073\n",
      "Alpha_3_encoded  ->  0.00796698026516\n",
      "meanIAT  ->  0.00717935402947\n",
      "nIAT  ->  0.00712384398999\n",
      "seIAT  ->  0.00730864328404\n",
      "meanExp  ->  0.00977774857206\n",
      "seExp  ->  0.00857297797418\n"
     ]
    }
   ],
   "source": [
    "rf.fit(rf_input_data, player_colors)\n",
    "imp_features = rf.feature_importances_\n",
    "cols = rf_input_data.columns\n",
    "for i in range(0, len(imp_features)):\n",
    "    print(cols[i], \" -> \", imp_features[i])"
   ]
  },
  {
   "cell_type": "code",
   "execution_count": null,
   "metadata": {
    "collapsed": false
   },
   "outputs": [],
   "source": []
  },
  {
   "cell_type": "code",
   "execution_count": null,
   "metadata": {
    "collapsed": false
   },
   "outputs": [],
   "source": []
  },
  {
   "cell_type": "code",
   "execution_count": null,
   "metadata": {
    "collapsed": false,
    "scrolled": true
   },
   "outputs": [],
   "source": []
  },
  {
   "cell_type": "code",
   "execution_count": null,
   "metadata": {
    "collapsed": true
   },
   "outputs": [],
   "source": []
  }
 ],
 "metadata": {
  "anaconda-cloud": {},
  "kernelspec": {
   "display_name": "Python [Root]",
   "language": "python",
   "name": "Python [Root]"
  },
  "language_info": {
   "codemirror_mode": {
    "name": "ipython",
    "version": 3
   },
   "file_extension": ".py",
   "mimetype": "text/x-python",
   "name": "python",
   "nbconvert_exporter": "python",
   "pygments_lexer": "ipython3",
   "version": "3.5.2"
  }
 },
 "nbformat": 4,
 "nbformat_minor": 0
}
