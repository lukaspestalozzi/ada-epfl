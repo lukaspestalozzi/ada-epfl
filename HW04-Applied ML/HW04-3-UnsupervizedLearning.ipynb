{
 "cells": [
  {
   "cell_type": "code",
   "execution_count": 1,
   "metadata": {
    "collapsed": false
   },
   "outputs": [],
   "source": [
    "# imports\n",
    "import pandas as pd\n",
    "import numpy as np\n",
    "import seaborn as sns\n",
    "import matplotlib.pyplot as plt\n",
    "from matplotlib.pyplot import show\n",
    "\n",
    "from sklearn import preprocessing as pp\n",
    "from sklearn.model_selection import KFold , cross_val_score\n",
    "from sklearn.metrics import make_scorer, roc_curve, roc_auc_score\n",
    "\n",
    "%matplotlib inline\n",
    "sns.set_context('notebook')\n",
    "pd.options.mode.chained_assignment = None  # default='warn'\n",
    "pd.set_option('display.max_columns', 500) # to see all columns"
   ]
  },
  {
   "cell_type": "markdown",
   "metadata": {},
   "source": [
    "# Aggregation of the data"
   ]
  },
  {
   "cell_type": "markdown",
   "metadata": {},
   "source": [
    "We aggregate the data the same way we did it for the 1st exercices. So as before you can find the aggregation in the notebook HW04-1-Preprocessing.\n",
    "\n",
    "Here we just load the CVS containing the aggregation already encoded"
   ]
  },
  {
   "cell_type": "code",
   "execution_count": 2,
   "metadata": {
    "collapsed": false,
    "scrolled": false
   },
   "outputs": [
    {
     "data": {
      "text/html": [
       "<div>\n",
       "<table border=\"1\" class=\"dataframe\">\n",
       "  <thead>\n",
       "    <tr style=\"text-align: right;\">\n",
       "      <th></th>\n",
       "      <th>playerShort</th>\n",
       "      <th>player</th>\n",
       "      <th>club</th>\n",
       "      <th>leagueCountry</th>\n",
       "      <th>birthday</th>\n",
       "      <th>height</th>\n",
       "      <th>weight</th>\n",
       "      <th>position</th>\n",
       "      <th>games</th>\n",
       "      <th>victories</th>\n",
       "      <th>ties</th>\n",
       "      <th>defeats</th>\n",
       "      <th>goals</th>\n",
       "      <th>yellowCards</th>\n",
       "      <th>yellowReds</th>\n",
       "      <th>redCards</th>\n",
       "      <th>refCount</th>\n",
       "      <th>refCountryCount</th>\n",
       "      <th>meanIAT</th>\n",
       "      <th>seIAT</th>\n",
       "      <th>meanExp</th>\n",
       "      <th>seExp</th>\n",
       "      <th>color_rating</th>\n",
       "      <th>meanIAT_nIAT</th>\n",
       "      <th>meanExp_nExp</th>\n",
       "      <th>meanIAT_GameNbr</th>\n",
       "      <th>meanExp_GameNbr</th>\n",
       "      <th>meanIAT_cards</th>\n",
       "      <th>meanExp_cards</th>\n",
       "    </tr>\n",
       "  </thead>\n",
       "  <tbody>\n",
       "    <tr>\n",
       "      <th>0</th>\n",
       "      <td>0</td>\n",
       "      <td>392</td>\n",
       "      <td>34</td>\n",
       "      <td>0</td>\n",
       "      <td>360</td>\n",
       "      <td>182.0</td>\n",
       "      <td>71.0</td>\n",
       "      <td>1</td>\n",
       "      <td>654</td>\n",
       "      <td>247</td>\n",
       "      <td>179</td>\n",
       "      <td>228</td>\n",
       "      <td>9</td>\n",
       "      <td>19</td>\n",
       "      <td>0</td>\n",
       "      <td>0</td>\n",
       "      <td>166</td>\n",
       "      <td>37</td>\n",
       "      <td>0.346459</td>\n",
       "      <td>0.001505</td>\n",
       "      <td>0.494575</td>\n",
       "      <td>0.009691</td>\n",
       "      <td>1</td>\n",
       "      <td>0.328409</td>\n",
       "      <td>0.367721</td>\n",
       "      <td>0.333195</td>\n",
       "      <td>0.400637</td>\n",
       "      <td>0.0</td>\n",
       "      <td>0.0</td>\n",
       "    </tr>\n",
       "    <tr>\n",
       "      <th>1</th>\n",
       "      <td>1</td>\n",
       "      <td>393</td>\n",
       "      <td>91</td>\n",
       "      <td>2</td>\n",
       "      <td>176</td>\n",
       "      <td>183.0</td>\n",
       "      <td>73.0</td>\n",
       "      <td>0</td>\n",
       "      <td>336</td>\n",
       "      <td>141</td>\n",
       "      <td>73</td>\n",
       "      <td>122</td>\n",
       "      <td>62</td>\n",
       "      <td>42</td>\n",
       "      <td>0</td>\n",
       "      <td>1</td>\n",
       "      <td>99</td>\n",
       "      <td>25</td>\n",
       "      <td>0.348818</td>\n",
       "      <td>0.000834</td>\n",
       "      <td>0.449220</td>\n",
       "      <td>0.003823</td>\n",
       "      <td>2</td>\n",
       "      <td>0.329945</td>\n",
       "      <td>0.441615</td>\n",
       "      <td>0.341438</td>\n",
       "      <td>0.380811</td>\n",
       "      <td>0.0</td>\n",
       "      <td>0.0</td>\n",
       "    </tr>\n",
       "    <tr>\n",
       "      <th>2</th>\n",
       "      <td>2</td>\n",
       "      <td>394</td>\n",
       "      <td>83</td>\n",
       "      <td>0</td>\n",
       "      <td>719</td>\n",
       "      <td>165.0</td>\n",
       "      <td>63.0</td>\n",
       "      <td>11</td>\n",
       "      <td>412</td>\n",
       "      <td>200</td>\n",
       "      <td>97</td>\n",
       "      <td>115</td>\n",
       "      <td>31</td>\n",
       "      <td>11</td>\n",
       "      <td>0</td>\n",
       "      <td>0</td>\n",
       "      <td>101</td>\n",
       "      <td>28</td>\n",
       "      <td>0.345893</td>\n",
       "      <td>0.001113</td>\n",
       "      <td>0.491482</td>\n",
       "      <td>0.006350</td>\n",
       "      <td>2</td>\n",
       "      <td>0.328230</td>\n",
       "      <td>0.365628</td>\n",
       "      <td>0.332389</td>\n",
       "      <td>0.399459</td>\n",
       "      <td>0.0</td>\n",
       "      <td>0.0</td>\n",
       "    </tr>\n",
       "    <tr>\n",
       "      <th>3</th>\n",
       "      <td>3</td>\n",
       "      <td>395</td>\n",
       "      <td>6</td>\n",
       "      <td>0</td>\n",
       "      <td>1199</td>\n",
       "      <td>178.0</td>\n",
       "      <td>76.0</td>\n",
       "      <td>3</td>\n",
       "      <td>260</td>\n",
       "      <td>150</td>\n",
       "      <td>42</td>\n",
       "      <td>68</td>\n",
       "      <td>39</td>\n",
       "      <td>31</td>\n",
       "      <td>0</td>\n",
       "      <td>1</td>\n",
       "      <td>104</td>\n",
       "      <td>37</td>\n",
       "      <td>0.346821</td>\n",
       "      <td>0.003786</td>\n",
       "      <td>0.514693</td>\n",
       "      <td>0.015240</td>\n",
       "      <td>1</td>\n",
       "      <td>0.327775</td>\n",
       "      <td>0.412859</td>\n",
       "      <td>0.336638</td>\n",
       "      <td>0.433294</td>\n",
       "      <td>0.0</td>\n",
       "      <td>0.0</td>\n",
       "    </tr>\n",
       "    <tr>\n",
       "      <th>4</th>\n",
       "      <td>4</td>\n",
       "      <td>396</td>\n",
       "      <td>51</td>\n",
       "      <td>1</td>\n",
       "      <td>758</td>\n",
       "      <td>180.0</td>\n",
       "      <td>73.0</td>\n",
       "      <td>1</td>\n",
       "      <td>124</td>\n",
       "      <td>41</td>\n",
       "      <td>40</td>\n",
       "      <td>43</td>\n",
       "      <td>1</td>\n",
       "      <td>8</td>\n",
       "      <td>4</td>\n",
       "      <td>2</td>\n",
       "      <td>37</td>\n",
       "      <td>11</td>\n",
       "      <td>0.331600</td>\n",
       "      <td>0.000474</td>\n",
       "      <td>0.335587</td>\n",
       "      <td>0.001745</td>\n",
       "      <td>2</td>\n",
       "      <td>0.338847</td>\n",
       "      <td>0.379497</td>\n",
       "      <td>0.331882</td>\n",
       "      <td>0.328895</td>\n",
       "      <td>0.0</td>\n",
       "      <td>0.0</td>\n",
       "    </tr>\n",
       "  </tbody>\n",
       "</table>\n",
       "</div>"
      ],
      "text/plain": [
       "   playerShort  player  club  leagueCountry  birthday  height  weight  \\\n",
       "0            0     392    34              0       360   182.0    71.0   \n",
       "1            1     393    91              2       176   183.0    73.0   \n",
       "2            2     394    83              0       719   165.0    63.0   \n",
       "3            3     395     6              0      1199   178.0    76.0   \n",
       "4            4     396    51              1       758   180.0    73.0   \n",
       "\n",
       "   position  games  victories  ties  defeats  goals  yellowCards  yellowReds  \\\n",
       "0         1    654        247   179      228      9           19           0   \n",
       "1         0    336        141    73      122     62           42           0   \n",
       "2        11    412        200    97      115     31           11           0   \n",
       "3         3    260        150    42       68     39           31           0   \n",
       "4         1    124         41    40       43      1            8           4   \n",
       "\n",
       "   redCards  refCount  refCountryCount   meanIAT     seIAT   meanExp  \\\n",
       "0         0       166               37  0.346459  0.001505  0.494575   \n",
       "1         1        99               25  0.348818  0.000834  0.449220   \n",
       "2         0       101               28  0.345893  0.001113  0.491482   \n",
       "3         1       104               37  0.346821  0.003786  0.514693   \n",
       "4         2        37               11  0.331600  0.000474  0.335587   \n",
       "\n",
       "      seExp  color_rating  meanIAT_nIAT  meanExp_nExp  meanIAT_GameNbr  \\\n",
       "0  0.009691             1      0.328409      0.367721         0.333195   \n",
       "1  0.003823             2      0.329945      0.441615         0.341438   \n",
       "2  0.006350             2      0.328230      0.365628         0.332389   \n",
       "3  0.015240             1      0.327775      0.412859         0.336638   \n",
       "4  0.001745             2      0.338847      0.379497         0.331882   \n",
       "\n",
       "   meanExp_GameNbr  meanIAT_cards  meanExp_cards  \n",
       "0         0.400637            0.0            0.0  \n",
       "1         0.380811            0.0            0.0  \n",
       "2         0.399459            0.0            0.0  \n",
       "3         0.433294            0.0            0.0  \n",
       "4         0.328895            0.0            0.0  "
      ]
     },
     "execution_count": 2,
     "metadata": {},
     "output_type": "execute_result"
    }
   ],
   "source": [
    "data_agr = pd.read_csv('CrowdstormingDataJuly1st_aggregated_encoded.csv')\n",
    "data_agr.head()"
   ]
  },
  {
   "cell_type": "markdown",
   "metadata": {},
   "source": [
    "We drop the features that are unique to the players and we normalize them. That way all the features will be in [-1;1]. We also remove the color_ratings from the training data."
   ]
  },
  {
   "cell_type": "code",
   "execution_count": 3,
   "metadata": {
    "collapsed": false
   },
   "outputs": [
    {
     "data": {
      "text/html": [
       "<div>\n",
       "<table border=\"1\" class=\"dataframe\">\n",
       "  <thead>\n",
       "    <tr style=\"text-align: right;\">\n",
       "      <th></th>\n",
       "      <th>club</th>\n",
       "      <th>leagueCountry</th>\n",
       "      <th>birthday</th>\n",
       "      <th>height</th>\n",
       "      <th>weight</th>\n",
       "      <th>position</th>\n",
       "      <th>games</th>\n",
       "      <th>victories</th>\n",
       "      <th>ties</th>\n",
       "      <th>defeats</th>\n",
       "      <th>goals</th>\n",
       "      <th>yellowCards</th>\n",
       "      <th>yellowReds</th>\n",
       "      <th>redCards</th>\n",
       "      <th>refCount</th>\n",
       "      <th>refCountryCount</th>\n",
       "      <th>meanIAT</th>\n",
       "      <th>seIAT</th>\n",
       "      <th>meanExp</th>\n",
       "      <th>seExp</th>\n",
       "      <th>meanIAT_nIAT</th>\n",
       "      <th>meanExp_nExp</th>\n",
       "      <th>meanIAT_GameNbr</th>\n",
       "      <th>meanExp_GameNbr</th>\n",
       "      <th>meanIAT_cards</th>\n",
       "      <th>meanExp_cards</th>\n",
       "    </tr>\n",
       "  </thead>\n",
       "  <tbody>\n",
       "    <tr>\n",
       "      <th>0</th>\n",
       "      <td>0.038720</td>\n",
       "      <td>0.000000</td>\n",
       "      <td>0.409981</td>\n",
       "      <td>0.207268</td>\n",
       "      <td>0.080857</td>\n",
       "      <td>0.001139</td>\n",
       "      <td>0.744799</td>\n",
       "      <td>0.281293</td>\n",
       "      <td>0.203852</td>\n",
       "      <td>0.259655</td>\n",
       "      <td>0.010250</td>\n",
       "      <td>0.021638</td>\n",
       "      <td>0.000000</td>\n",
       "      <td>0.000000</td>\n",
       "      <td>0.189047</td>\n",
       "      <td>0.042137</td>\n",
       "      <td>0.000395</td>\n",
       "      <td>1.714359e-06</td>\n",
       "      <td>0.000563</td>\n",
       "      <td>0.000011</td>\n",
       "      <td>0.000374</td>\n",
       "      <td>0.000419</td>\n",
       "      <td>0.000379</td>\n",
       "      <td>0.000456</td>\n",
       "      <td>0.0</td>\n",
       "      <td>0.0</td>\n",
       "    </tr>\n",
       "    <tr>\n",
       "      <th>1</th>\n",
       "      <td>0.183063</td>\n",
       "      <td>0.004023</td>\n",
       "      <td>0.354056</td>\n",
       "      <td>0.368138</td>\n",
       "      <td>0.146853</td>\n",
       "      <td>0.000000</td>\n",
       "      <td>0.675925</td>\n",
       "      <td>0.283647</td>\n",
       "      <td>0.146853</td>\n",
       "      <td>0.245425</td>\n",
       "      <td>0.124724</td>\n",
       "      <td>0.084491</td>\n",
       "      <td>0.000000</td>\n",
       "      <td>0.002012</td>\n",
       "      <td>0.199157</td>\n",
       "      <td>0.050292</td>\n",
       "      <td>0.000702</td>\n",
       "      <td>1.678514e-06</td>\n",
       "      <td>0.000904</td>\n",
       "      <td>0.000008</td>\n",
       "      <td>0.000664</td>\n",
       "      <td>0.000888</td>\n",
       "      <td>0.000687</td>\n",
       "      <td>0.000766</td>\n",
       "      <td>0.0</td>\n",
       "      <td>0.0</td>\n",
       "    </tr>\n",
       "    <tr>\n",
       "      <th>2</th>\n",
       "      <td>0.092819</td>\n",
       "      <td>0.000000</td>\n",
       "      <td>0.804062</td>\n",
       "      <td>0.184520</td>\n",
       "      <td>0.070453</td>\n",
       "      <td>0.012301</td>\n",
       "      <td>0.460742</td>\n",
       "      <td>0.223661</td>\n",
       "      <td>0.108476</td>\n",
       "      <td>0.128605</td>\n",
       "      <td>0.034667</td>\n",
       "      <td>0.012301</td>\n",
       "      <td>0.000000</td>\n",
       "      <td>0.000000</td>\n",
       "      <td>0.112949</td>\n",
       "      <td>0.031313</td>\n",
       "      <td>0.000387</td>\n",
       "      <td>1.244979e-06</td>\n",
       "      <td>0.000550</td>\n",
       "      <td>0.000007</td>\n",
       "      <td>0.000367</td>\n",
       "      <td>0.000409</td>\n",
       "      <td>0.000372</td>\n",
       "      <td>0.000447</td>\n",
       "      <td>0.0</td>\n",
       "      <td>0.0</td>\n",
       "    </tr>\n",
       "    <tr>\n",
       "      <th>3</th>\n",
       "      <td>0.004764</td>\n",
       "      <td>0.000000</td>\n",
       "      <td>0.951988</td>\n",
       "      <td>0.141329</td>\n",
       "      <td>0.060343</td>\n",
       "      <td>0.002382</td>\n",
       "      <td>0.206436</td>\n",
       "      <td>0.119098</td>\n",
       "      <td>0.033347</td>\n",
       "      <td>0.053991</td>\n",
       "      <td>0.030965</td>\n",
       "      <td>0.024614</td>\n",
       "      <td>0.000000</td>\n",
       "      <td>0.000794</td>\n",
       "      <td>0.082574</td>\n",
       "      <td>0.029377</td>\n",
       "      <td>0.000275</td>\n",
       "      <td>3.006309e-06</td>\n",
       "      <td>0.000409</td>\n",
       "      <td>0.000012</td>\n",
       "      <td>0.000260</td>\n",
       "      <td>0.000328</td>\n",
       "      <td>0.000267</td>\n",
       "      <td>0.000344</td>\n",
       "      <td>0.0</td>\n",
       "      <td>0.0</td>\n",
       "    </tr>\n",
       "    <tr>\n",
       "      <th>4</th>\n",
       "      <td>0.063901</td>\n",
       "      <td>0.001253</td>\n",
       "      <td>0.949745</td>\n",
       "      <td>0.225533</td>\n",
       "      <td>0.091466</td>\n",
       "      <td>0.001253</td>\n",
       "      <td>0.155367</td>\n",
       "      <td>0.051371</td>\n",
       "      <td>0.050118</td>\n",
       "      <td>0.053877</td>\n",
       "      <td>0.001253</td>\n",
       "      <td>0.010024</td>\n",
       "      <td>0.005012</td>\n",
       "      <td>0.002506</td>\n",
       "      <td>0.046360</td>\n",
       "      <td>0.013783</td>\n",
       "      <td>0.000415</td>\n",
       "      <td>5.936437e-07</td>\n",
       "      <td>0.000420</td>\n",
       "      <td>0.000002</td>\n",
       "      <td>0.000425</td>\n",
       "      <td>0.000475</td>\n",
       "      <td>0.000416</td>\n",
       "      <td>0.000412</td>\n",
       "      <td>0.0</td>\n",
       "      <td>0.0</td>\n",
       "    </tr>\n",
       "  </tbody>\n",
       "</table>\n",
       "</div>"
      ],
      "text/plain": [
       "       club  leagueCountry  birthday    height    weight  position     games  \\\n",
       "0  0.038720       0.000000  0.409981  0.207268  0.080857  0.001139  0.744799   \n",
       "1  0.183063       0.004023  0.354056  0.368138  0.146853  0.000000  0.675925   \n",
       "2  0.092819       0.000000  0.804062  0.184520  0.070453  0.012301  0.460742   \n",
       "3  0.004764       0.000000  0.951988  0.141329  0.060343  0.002382  0.206436   \n",
       "4  0.063901       0.001253  0.949745  0.225533  0.091466  0.001253  0.155367   \n",
       "\n",
       "   victories      ties   defeats     goals  yellowCards  yellowReds  redCards  \\\n",
       "0   0.281293  0.203852  0.259655  0.010250     0.021638    0.000000  0.000000   \n",
       "1   0.283647  0.146853  0.245425  0.124724     0.084491    0.000000  0.002012   \n",
       "2   0.223661  0.108476  0.128605  0.034667     0.012301    0.000000  0.000000   \n",
       "3   0.119098  0.033347  0.053991  0.030965     0.024614    0.000000  0.000794   \n",
       "4   0.051371  0.050118  0.053877  0.001253     0.010024    0.005012  0.002506   \n",
       "\n",
       "   refCount  refCountryCount   meanIAT         seIAT   meanExp     seExp  \\\n",
       "0  0.189047         0.042137  0.000395  1.714359e-06  0.000563  0.000011   \n",
       "1  0.199157         0.050292  0.000702  1.678514e-06  0.000904  0.000008   \n",
       "2  0.112949         0.031313  0.000387  1.244979e-06  0.000550  0.000007   \n",
       "3  0.082574         0.029377  0.000275  3.006309e-06  0.000409  0.000012   \n",
       "4  0.046360         0.013783  0.000415  5.936437e-07  0.000420  0.000002   \n",
       "\n",
       "   meanIAT_nIAT  meanExp_nExp  meanIAT_GameNbr  meanExp_GameNbr  \\\n",
       "0      0.000374      0.000419         0.000379         0.000456   \n",
       "1      0.000664      0.000888         0.000687         0.000766   \n",
       "2      0.000367      0.000409         0.000372         0.000447   \n",
       "3      0.000260      0.000328         0.000267         0.000344   \n",
       "4      0.000425      0.000475         0.000416         0.000412   \n",
       "\n",
       "   meanIAT_cards  meanExp_cards  \n",
       "0            0.0            0.0  \n",
       "1            0.0            0.0  \n",
       "2            0.0            0.0  \n",
       "3            0.0            0.0  \n",
       "4            0.0            0.0  "
      ]
     },
     "execution_count": 3,
     "metadata": {},
     "output_type": "execute_result"
    }
   ],
   "source": [
    "data_agr = data_agr.drop(['playerShort', 'player'], axis=1)\n",
    "data_train = data_agr.drop(['color_rating'], axis=1)\n",
    "colors = data_agr['color_rating']\n",
    "col = data_train.columns\n",
    "data_train = pd.DataFrame(pp.normalize(data_train))\n",
    "data_train.columns = col\n",
    "data_train.head()\n"
   ]
  },
  {
   "cell_type": "markdown",
   "metadata": {},
   "source": [
    "## KMeans"
   ]
  },
  {
   "cell_type": "code",
   "execution_count": 4,
   "metadata": {
    "collapsed": true
   },
   "outputs": [],
   "source": [
    "from sklearn import metrics\n",
    "from sklearn.cluster import KMeans\n",
    "np.random.seed(1)"
   ]
  },
  {
   "cell_type": "markdown",
   "metadata": {
    "collapsed": true
   },
   "source": [
    "### assumption:\n",
    "Since there are 5 variations of skin colors, there is no obvious choice of where to put the category 3. So we made the following choice. \n",
    "- categories 1 and 2: light\n",
    "- category 3: neutral. This category can't be wrongly categorized\n",
    "- categories 4 and 5: dark"
   ]
  },
  {
   "cell_type": "code",
   "execution_count": 5,
   "metadata": {
    "collapsed": false
   },
   "outputs": [],
   "source": [
    "def wrong_pred(ratings, labels):\n",
    "    \"\"\"returns the percentage of wrong prediction\"\"\"\n",
    "    ratings = ratings.apply(lambda x: mapping(x))  \n",
    "    dif = np.abs(ratings - labels)\n",
    "    # the difference between the ratings and labels has be 1 to count a as wrong prediction\n",
    "    return (min(len(dif[dif==1]), len(dif[dif==0]))/len(labels))\n",
    "\n",
    "def mapping(x):\n",
    "    if (x < 3):\n",
    "        return 0\n",
    "    if (x == 3):\n",
    "        return 0.5\n",
    "    return 1\n",
    "        "
   ]
  },
  {
   "cell_type": "markdown",
   "metadata": {},
   "source": [
    "To find the best set of features for which the silhouette score is maximal, we would have an exponential amount of sets to test. This is clearly not feasible. We have therefore decided to use a greedy strategy to find an approximation of the optimal.\n",
    "\n",
    "We chose to iteratively drop features by looking which is the feature, that if removed, results in the best silhouette score. We do this until no features are left to drop and keep track of the maximal silhouette score reached."
   ]
  },
  {
   "cell_type": "code",
   "execution_count": 6,
   "metadata": {
    "collapsed": false,
    "scrolled": true
   },
   "outputs": [
    {
     "name": "stdout",
     "output_type": "stream",
     "text": [
      "worst feature is \"games\" without it silhouette is 0.591\n",
      "dark_light prediction made 0.303% wrong prediction\n",
      "\n",
      "worst feature is \"height\" without it silhouette is 0.616\n",
      "dark_light prediction made 0.305% wrong prediction\n",
      "\n",
      "worst feature is \"victories\" without it silhouette is 0.640\n",
      "dark_light prediction made 0.293% wrong prediction\n",
      "\n",
      "worst feature is \"club\" without it silhouette is 0.654\n",
      "dark_light prediction made 0.295% wrong prediction\n",
      "\n",
      "worst feature is \"goals\" without it silhouette is 0.668\n",
      "dark_light prediction made 0.293% wrong prediction\n",
      "\n",
      "worst feature is \"defeats\" without it silhouette is 0.682\n",
      "dark_light prediction made 0.290% wrong prediction\n",
      "\n",
      "worst feature is \"weight\" without it silhouette is 0.698\n",
      "dark_light prediction made 0.288% wrong prediction\n",
      "\n",
      "worst feature is \"refCount\" without it silhouette is 0.714\n",
      "dark_light prediction made 0.287% wrong prediction\n",
      "\n",
      "worst feature is \"ties\" without it silhouette is 0.729\n",
      "dark_light prediction made 0.281% wrong prediction\n",
      "\n",
      "worst feature is \"yellowCards\" without it silhouette is 0.744\n",
      "dark_light prediction made 0.278% wrong prediction\n",
      "\n",
      "worst feature is \"refCountryCount\" without it silhouette is 0.749\n",
      "dark_light prediction made 0.278% wrong prediction\n",
      "\n",
      "worst feature is \"position\" without it silhouette is 0.750\n",
      "dark_light prediction made 0.278% wrong prediction\n",
      "\n",
      "worst feature is \"leagueCountry\" without it silhouette is 0.750\n",
      "dark_light prediction made 0.278% wrong prediction\n",
      "\n",
      "worst feature is \"yellowReds\" without it silhouette is 0.751\n",
      "dark_light prediction made 0.278% wrong prediction\n",
      "\n",
      "worst feature is \"redCards\" without it silhouette is 0.751\n",
      "dark_light prediction made 0.278% wrong prediction\n",
      "\n",
      "worst feature is \"meanExp_cards\" without it silhouette is 0.751\n",
      "dark_light prediction made 0.278% wrong prediction\n",
      "\n",
      "worst feature is \"meanIAT_cards\" without it silhouette is 0.751\n",
      "dark_light prediction made 0.278% wrong prediction\n",
      "\n",
      "worst feature is \"meanExp_GameNbr\" without it silhouette is 0.751\n",
      "dark_light prediction made 0.278% wrong prediction\n",
      "\n",
      "worst feature is \"meanExp\" without it silhouette is 0.751\n",
      "dark_light prediction made 0.278% wrong prediction\n",
      "\n",
      "worst feature is \"meanExp_nExp\" without it silhouette is 0.751\n",
      "dark_light prediction made 0.278% wrong prediction\n",
      "\n",
      "worst feature is \"meanIAT_GameNbr\" without it silhouette is 0.751\n",
      "dark_light prediction made 0.278% wrong prediction\n",
      "\n",
      "worst feature is \"meanIAT\" without it silhouette is 0.751\n",
      "dark_light prediction made 0.278% wrong prediction\n",
      "\n",
      "worst feature is \"meanIAT_nIAT\" without it silhouette is 0.751\n",
      "dark_light prediction made 0.278% wrong prediction\n",
      "\n",
      "worst feature is \"birthday\" without it silhouette is 0.859\n",
      "dark_light prediction made 0.160% wrong prediction\n",
      "\n",
      "worst feature is \"seIAT\" without it silhouette is 0.980\n",
      "dark_light prediction made 0.158% wrong prediction\n",
      "\n",
      "the features with the best silhouette score is/are Index(['seExp'], dtype='object')\n"
     ]
    }
   ],
   "source": [
    "def fit_data(data):\n",
    "    kmeans = KMeans(init='k-means++', n_clusters=2, n_init=1)\n",
    "    kmeans.fit(data)\n",
    "    silhouette = metrics.silhouette_score(data, kmeans.labels_, metric='euclidean')\n",
    "    skin = wrong_pred(colors, kmeans.labels_)\n",
    "    return silhouette, skin\n",
    "\n",
    "silhouettes_scores = []\n",
    "skin_scores = []\n",
    "d = data_train\n",
    "globalbest = -1\n",
    "globalbest_feature = data_train.columns\n",
    "while (len(d.columns) > 1):\n",
    "    current_best = -1\n",
    "    for feature in d:\n",
    "        data_temp = d.drop([feature], axis=1)\n",
    "        silhouette, skin = fit_data(data_temp)\n",
    "        if (silhouette > current_best):\n",
    "            current_best = silhouette\n",
    "            current_skin = skin\n",
    "            worst_feature = feature\n",
    "        if(silhouette > globalbest):\n",
    "            globalbest = silhouette\n",
    "            globalbest_feature = data_temp.columns\n",
    "    silhouettes_scores.append(current_best)\n",
    "    skin_scores.append(current_skin)\n",
    "    print('worst feature is \\\"' + worst_feature + '\\\" without it silhouette is ' + \"%.3f\" % current_best)\n",
    "    print('dark_light prediction made ' + \"%.3f\" % current_skin + '% wrong prediction' )\n",
    "    print('')\n",
    "    d = d.drop([worst_feature], axis=1)\n",
    "print('the features with the best silhouette score is/are ' + str(globalbest_feature))\n",
    "    "
   ]
  },
  {
   "cell_type": "code",
   "execution_count": 7,
   "metadata": {
    "collapsed": false
   },
   "outputs": [
    {
     "data": {
      "text/plain": [
       "<matplotlib.legend.Legend at 0x7f010c30f668>"
      ]
     },
     "execution_count": 7,
     "metadata": {},
     "output_type": "execute_result"
    },
    {
     "data": {
      "image/png": "[encoded data removed]",
      "text/plain": [
       "<matplotlib.figure.Figure at 0x7f010ec4e160>"
      ]
     },
     "metadata": {},
     "output_type": "display_data"
    }
   ],
   "source": [
    "length = range(len(data_train.columns) -1 , 0, -1)\n",
    "plt.plot(length, silhouettes_scores, label='silhouette')\n",
    "plt.plot(length, 1 - np.array(skin_scores)  , label = 'skin score')\n",
    "plt.xlabel('Number of features')\n",
    "plt.gca().invert_xaxis()\n",
    "plt.legend()"
   ]
  },
  {
   "cell_type": "markdown",
   "metadata": {},
   "source": [
    "# Observation of the results"
   ]
  },
  {
   "cell_type": "markdown",
   "metadata": {},
   "source": [
    "We have seen that the best combinations of features that get the best silhouette score is: **[seExp]** alone Remember that **seExp** is the mean of the standard error of each entries in the groupdby. Its corresponding silhouette score is around **0.98** that is a very high score (the best one is 1). It means that if we plot according to this features we should have 2 really strong communities. \n",
    "\n",
    "We have also seen that the error of classification decrease when the silhouette score increase and when we only keep seExp we get an accuracy of 85% which seems very good. It could mean that the clustering of kmean is made based on the color skin. But we have to investigate a bit more the result to take such conclusions"
   ]
  },
  {
   "cell_type": "markdown",
   "metadata": {},
   "source": [
    "First we must observe the cluster found is based only on seExp. So first we clusterise using only **seExp**"
   ]
  },
  {
   "cell_type": "code",
   "execution_count": 8,
   "metadata": {
    "collapsed": false
   },
   "outputs": [],
   "source": [
    "kmeans = KMeans(init='k-means++', n_clusters=2, n_init=1)\n",
    "kmeans.fit(data_agr.seExp.to_frame())\n",
    "labels = kmeans.labels_"
   ]
  },
  {
   "cell_type": "markdown",
   "metadata": {},
   "source": [
    "Then we plot the point according to seExp with the center of the 2 clusters:\n",
    "    - in white the points of the cluster 0 with the center in red\n",
    "    - in black the points of the cluster 1 with the center in green"
   ]
  },
  {
   "cell_type": "code",
   "execution_count": 9,
   "metadata": {
    "collapsed": false
   },
   "outputs": [
    {
     "data": {
      "text/plain": [
       "<matplotlib.text.Text at 0x7f010ec5aa20>"
      ]
     },
     "execution_count": 9,
     "metadata": {},
     "output_type": "execute_result"
    },
    {
     "data": {
      "image/png": "[encoded data removed]",
      "text/plain": [
       "<matplotlib.figure.Figure at 0x7f010c35ad68>"
      ]
     },
     "metadata": {},
     "output_type": "display_data"
    }
   ],
   "source": [
    "plt.scatter(data_agr.seExp, data_agr.seExp,c = labels)\n",
    "plt.scatter(kmeans.cluster_centers_, kmeans.cluster_centers_, c = ['r', 'g'], s=100)\n",
    "plt.title('Clustering based on seExp')\n",
    "plt.ylabel('seExp')\n",
    "plt.xlabel('seExp')"
   ]
  },
  {
   "cell_type": "markdown",
   "metadata": {},
   "source": [
    "So first of all we can see that we have \"separate clusters\". But it's not clear at all that this 2 cluster return a silhouette score over 0.90. Let's rememenber what is the silhouette score (according to the documentation of sklearn): \n",
    "\n",
    "    -The Silhouette Coefficient is calculated using the mean intra-cluster distance (a) and the mean nearest-cluster distance (b) for each sample. The Silhouette Coefficient for a sample is (b - a) / max(a, b). To clarify, b is the distance between a sample and the nearest cluster that the sample is not a part of. Note that Silhouette Coefficent is only defined if number of labels is 2 <= n_labels <= n_samples - 1.\n",
    " \n",
    "We can see that SC (silhouette score) is maximum when $\\frac{b-a}{max(a,b)} = 1$. It can only happen when $a = 0$ and $b>0$. If $a=0$, it's mean that the mean intra-cluster distance is 0. It doesn't look that way when we just see the graph above.\n",
    "\n",
    "With this graph it's not possible to see the concentration of point in each cluster. So let's plot an histogram to see the distribution of each cluster\n",
    "    "
   ]
  },
  {
   "cell_type": "code",
   "execution_count": 10,
   "metadata": {
    "collapsed": false
   },
   "outputs": [
    {
     "name": "stdout",
     "output_type": "stream",
     "text": [
      "Number of elements in cluster 0: 1573  (99.24%)\n",
      "Number of elements in cluster 0: 12  (0.76%)\n"
     ]
    },
    {
     "data": {
      "image/png": "[encoded data removed]",
      "text/plain": [
       "<matplotlib.figure.Figure at 0x7f010c2a07f0>"
      ]
     },
     "metadata": {},
     "output_type": "display_data"
    }
   ],
   "source": [
    "plt.figure(figsize=(2,2))\n",
    "plt.hist(labels)\n",
    "print('Number of elements in cluster 0: {}  ({:.2f}%)'.format(len(labels[labels == 0]) ,len(labels[labels == 0]) / len(labels) * 100))\n",
    "print('Number of elements in cluster 0: {}  ({:.2f}%)'.format(len(labels[labels == 1]) ,len(labels[labels == 1]) / len(labels) * 100))\n"
   ]
  },
  {
   "cell_type": "markdown",
   "metadata": {},
   "source": [
    "Ok so almost all the point are in the cluster 0"
   ]
  },
  {
   "cell_type": "markdown",
   "metadata": {},
   "source": [
    "Now have a look at the distribution of the point in the cluster 0"
   ]
  },
  {
   "cell_type": "code",
   "execution_count": 11,
   "metadata": {
    "collapsed": false
   },
   "outputs": [
    {
     "data": {
      "text/plain": [
       "(array([ 976.,  245.,  180.,   76.,   18.,   24.,   22.,   18.,   11.,    3.]),\n",
       " array([  3.18847017e-05,   2.38021766e-03,   4.72855062e-03,\n",
       "          7.07688358e-03,   9.42521653e-03,   1.17735495e-02,\n",
       "          1.41218824e-02,   1.64702154e-02,   1.88185484e-02,\n",
       "          2.11668813e-02,   2.35152143e-02]),\n",
       " <a list of 10 Patch objects>)"
      ]
     },
     "execution_count": 11,
     "metadata": {},
     "output_type": "execute_result"
    },
    {
     "data": {
      "image/png": "[encoded data removed]",
      "text/plain": [
       "<matplotlib.figure.Figure at 0x7f010c240cc0>"
      ]
     },
     "metadata": {},
     "output_type": "display_data"
    }
   ],
   "source": [
    "plt.figure(figsize=(4,4))\n",
    "plt.hist(data_agr[labels == 0].seExp)"
   ]
  },
  {
   "cell_type": "markdown",
   "metadata": {},
   "source": [
    "We have a lot of point concentrate close to 0. Let's see what is the value of the center of the cluster 0:\n",
    "   "
   ]
  },
  {
   "cell_type": "code",
   "execution_count": 12,
   "metadata": {
    "collapsed": false
   },
   "outputs": [
    {
     "data": {
      "text/plain": [
       "array([ 0.00310136])"
      ]
     },
     "execution_count": 12,
     "metadata": {},
     "output_type": "execute_result"
    }
   ],
   "source": [
    "kmeans.cluster_centers_[0]"
   ]
  },
  {
   "cell_type": "markdown",
   "metadata": {},
   "source": [
    "Almost all the points are close to the center so the cluster 0 is almost represented by one point then this is why we have such a high silhouette score"
   ]
  },
  {
   "cell_type": "markdown",
   "metadata": {},
   "source": [
    "## Accuracy"
   ]
  },
  {
   "cell_type": "markdown",
   "metadata": {},
   "source": [
    "Now have a look at the accuracy that seems pretty good"
   ]
  },
  {
   "cell_type": "code",
   "execution_count": 13,
   "metadata": {
    "collapsed": false
   },
   "outputs": [
    {
     "name": "stdout",
     "output_type": "stream",
     "text": [
      "Arruracy: 84.42 %\n"
     ]
    }
   ],
   "source": [
    "colors = data_agr.color_rating\n",
    "print('Arruracy: {:.2f} %'.format( 100- wrong_pred(colors, labels) * 100))"
   ]
  },
  {
   "cell_type": "markdown",
   "metadata": {},
   "source": [
    "Remember that we assume that a player with color rating N (value 3 in our case) cannot be misclusterised since we can't determined if it is more white or more black'. So let's see the distribution of white, neutral and black people"
   ]
  },
  {
   "cell_type": "code",
   "execution_count": 14,
   "metadata": {
    "collapsed": false
   },
   "outputs": [
    {
     "name": "stdout",
     "output_type": "stream",
     "text": [
      "Proportion of White: 75.02%\n",
      "Proportion of Neutral: 9.15%\n",
      "Proportion of Black: 15.84%\n"
     ]
    },
    {
     "data": {
      "image/png": "[encoded data removed]",
      "text/plain": [
       "<matplotlib.figure.Figure at 0x7f010c18d518>"
      ]
     },
     "metadata": {},
     "output_type": "display_data"
    }
   ],
   "source": [
    "colors3 = colors.apply(lambda x: mapping(x))\n",
    "plt.hist(colors3)\n",
    "print('Proportion of White: {:.2f}%'.format(len(colors3[colors3==0]) / len(colors3) * 100))\n",
    "print('Proportion of Neutral: {:.2f}%'.format(len(colors3[colors3==0.5]) / len(colors3) * 100))\n",
    "print('Proportion of Black: {:.2f}%'.format(len(colors3[colors3==1]) / len(colors3) * 100))"
   ]
  },
  {
   "cell_type": "markdown",
   "metadata": {},
   "source": [
    "So now imagine a clustering methods that create 2 clusters, 1 cluster _White_ with all player and one empty cluster _Black_. The accuracy of will be : 85% (74.95 + 9.40). So the same accuracy that kmeans return us"
   ]
  },
  {
   "cell_type": "markdown",
   "metadata": {},
   "source": [
    "# Conclusion"
   ]
  },
  {
   "cell_type": "markdown",
   "metadata": {},
   "source": [
    "Even if the silhouette score is high (close to 0.98) and the accuracy of this clustering is 85% we can not say that kmeans clusterised the player according to the color skin since a constant method (as explain above) will achieve the same accuracy. Actually it is almost what Kmeans did since it put 99% of the data in the first cluster."
   ]
  },
  {
   "cell_type": "code",
   "execution_count": null,
   "metadata": {
    "collapsed": true
   },
   "outputs": [],
   "source": []
  }
 ],
 "metadata": {
  "anaconda-cloud": {},
  "kernelspec": {
   "display_name": "Python [Root]",
   "language": "python",
   "name": "Python [Root]"
  },
  "language_info": {
   "codemirror_mode": {
    "name": "ipython",
    "version": 3
   },
   "file_extension": ".py",
   "mimetype": "text/x-python",
   "name": "python",
   "nbconvert_exporter": "python",
   "pygments_lexer": "ipython3",
   "version": "3.5.2"
  }
 },
 "nbformat": 4,
 "nbformat_minor": 1
}
