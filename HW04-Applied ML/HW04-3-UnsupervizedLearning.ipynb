{
 "cells": [
  {
   "cell_type": "code",
   "execution_count": 234,
   "metadata": {
    "collapsed": false
   },
   "outputs": [],
   "source": [
    "# imports\n",
    "import pandas as pd\n",
    "import numpy as np\n",
    "import seaborn as sns\n",
    "import matplotlib.pyplot as plt\n",
    "from matplotlib.pyplot import show\n",
    "\n",
    "from sklearn import preprocessing as pp\n",
    "from sklearn.model_selection import KFold , cross_val_score\n",
    "from sklearn.metrics import make_scorer, roc_curve, roc_auc_score\n",
    "\n",
    "%matplotlib inline\n",
    "sns.set_context('notebook')\n",
    "pd.options.mode.chained_assignment = None  # default='warn'\n",
    "pd.set_option('display.max_columns', 500) # to see all columns"
   ]
  },
  {
   "cell_type": "markdown",
   "metadata": {},
   "source": [
    "# Aggregation of the data"
   ]
  },
  {
   "cell_type": "markdown",
   "metadata": {},
   "source": [
    "We aggregate the data the same way we did it for the 1st exercices. So as before you can find the aggregation in the notebook HW04-1-Preprocessing.\n",
    "\n",
    "Here we just load the CVS containing the aggregation already encoded"
   ]
  },
  {
   "cell_type": "code",
   "execution_count": 163,
   "metadata": {
    "collapsed": false,
    "scrolled": false
   },
   "outputs": [
    {
     "data": {
      "text/html": [
       "<div>\n",
       "<table border=\"1\" class=\"dataframe\">\n",
       "  <thead>\n",
       "    <tr style=\"text-align: right;\">\n",
       "      <th></th>\n",
       "      <th>playerShort</th>\n",
       "      <th>player</th>\n",
       "      <th>club</th>\n",
       "      <th>leagueCountry</th>\n",
       "      <th>birthday</th>\n",
       "      <th>height</th>\n",
       "      <th>weight</th>\n",
       "      <th>position</th>\n",
       "      <th>games</th>\n",
       "      <th>victories</th>\n",
       "      <th>ties</th>\n",
       "      <th>defeats</th>\n",
       "      <th>goals</th>\n",
       "      <th>yellowCards</th>\n",
       "      <th>yellowReds</th>\n",
       "      <th>redCards</th>\n",
       "      <th>refCount</th>\n",
       "      <th>refCountryCount</th>\n",
       "      <th>meanIAT</th>\n",
       "      <th>seIAT</th>\n",
       "      <th>meanExp</th>\n",
       "      <th>seExp</th>\n",
       "      <th>color_rating</th>\n",
       "      <th>meanIAT_nIAT</th>\n",
       "      <th>meanExp_nExp</th>\n",
       "      <th>meanIAT_GameNbr</th>\n",
       "      <th>meanExp_GameNbr</th>\n",
       "      <th>meanIAT_cards</th>\n",
       "      <th>meanExp_cards</th>\n",
       "    </tr>\n",
       "  </thead>\n",
       "  <tbody>\n",
       "    <tr>\n",
       "      <th>0</th>\n",
       "      <td>0</td>\n",
       "      <td>392</td>\n",
       "      <td>34</td>\n",
       "      <td>0</td>\n",
       "      <td>360</td>\n",
       "      <td>182.0</td>\n",
       "      <td>71.0</td>\n",
       "      <td>1</td>\n",
       "      <td>654</td>\n",
       "      <td>247</td>\n",
       "      <td>179</td>\n",
       "      <td>228</td>\n",
       "      <td>9</td>\n",
       "      <td>19</td>\n",
       "      <td>0</td>\n",
       "      <td>0</td>\n",
       "      <td>166</td>\n",
       "      <td>37</td>\n",
       "      <td>0.346459</td>\n",
       "      <td>0.001505</td>\n",
       "      <td>0.494575</td>\n",
       "      <td>0.009691</td>\n",
       "      <td>1</td>\n",
       "      <td>0.328409</td>\n",
       "      <td>0.367721</td>\n",
       "      <td>0.333195</td>\n",
       "      <td>0.400637</td>\n",
       "      <td>0.0</td>\n",
       "      <td>0.0</td>\n",
       "    </tr>\n",
       "    <tr>\n",
       "      <th>1</th>\n",
       "      <td>1</td>\n",
       "      <td>393</td>\n",
       "      <td>91</td>\n",
       "      <td>2</td>\n",
       "      <td>176</td>\n",
       "      <td>183.0</td>\n",
       "      <td>73.0</td>\n",
       "      <td>0</td>\n",
       "      <td>336</td>\n",
       "      <td>141</td>\n",
       "      <td>73</td>\n",
       "      <td>122</td>\n",
       "      <td>62</td>\n",
       "      <td>42</td>\n",
       "      <td>0</td>\n",
       "      <td>1</td>\n",
       "      <td>99</td>\n",
       "      <td>25</td>\n",
       "      <td>0.348818</td>\n",
       "      <td>0.000834</td>\n",
       "      <td>0.449220</td>\n",
       "      <td>0.003823</td>\n",
       "      <td>2</td>\n",
       "      <td>0.329945</td>\n",
       "      <td>0.441615</td>\n",
       "      <td>0.341438</td>\n",
       "      <td>0.380811</td>\n",
       "      <td>0.0</td>\n",
       "      <td>0.0</td>\n",
       "    </tr>\n",
       "    <tr>\n",
       "      <th>2</th>\n",
       "      <td>2</td>\n",
       "      <td>394</td>\n",
       "      <td>83</td>\n",
       "      <td>0</td>\n",
       "      <td>719</td>\n",
       "      <td>165.0</td>\n",
       "      <td>63.0</td>\n",
       "      <td>11</td>\n",
       "      <td>412</td>\n",
       "      <td>200</td>\n",
       "      <td>97</td>\n",
       "      <td>115</td>\n",
       "      <td>31</td>\n",
       "      <td>11</td>\n",
       "      <td>0</td>\n",
       "      <td>0</td>\n",
       "      <td>101</td>\n",
       "      <td>28</td>\n",
       "      <td>0.345893</td>\n",
       "      <td>0.001113</td>\n",
       "      <td>0.491482</td>\n",
       "      <td>0.006350</td>\n",
       "      <td>2</td>\n",
       "      <td>0.328230</td>\n",
       "      <td>0.365628</td>\n",
       "      <td>0.332389</td>\n",
       "      <td>0.399459</td>\n",
       "      <td>0.0</td>\n",
       "      <td>0.0</td>\n",
       "    </tr>\n",
       "    <tr>\n",
       "      <th>3</th>\n",
       "      <td>3</td>\n",
       "      <td>395</td>\n",
       "      <td>6</td>\n",
       "      <td>0</td>\n",
       "      <td>1199</td>\n",
       "      <td>178.0</td>\n",
       "      <td>76.0</td>\n",
       "      <td>3</td>\n",
       "      <td>260</td>\n",
       "      <td>150</td>\n",
       "      <td>42</td>\n",
       "      <td>68</td>\n",
       "      <td>39</td>\n",
       "      <td>31</td>\n",
       "      <td>0</td>\n",
       "      <td>1</td>\n",
       "      <td>104</td>\n",
       "      <td>37</td>\n",
       "      <td>0.346821</td>\n",
       "      <td>0.003786</td>\n",
       "      <td>0.514693</td>\n",
       "      <td>0.015240</td>\n",
       "      <td>1</td>\n",
       "      <td>0.327775</td>\n",
       "      <td>0.412859</td>\n",
       "      <td>0.336638</td>\n",
       "      <td>0.433294</td>\n",
       "      <td>0.0</td>\n",
       "      <td>0.0</td>\n",
       "    </tr>\n",
       "    <tr>\n",
       "      <th>4</th>\n",
       "      <td>4</td>\n",
       "      <td>396</td>\n",
       "      <td>51</td>\n",
       "      <td>1</td>\n",
       "      <td>758</td>\n",
       "      <td>180.0</td>\n",
       "      <td>73.0</td>\n",
       "      <td>1</td>\n",
       "      <td>124</td>\n",
       "      <td>41</td>\n",
       "      <td>40</td>\n",
       "      <td>43</td>\n",
       "      <td>1</td>\n",
       "      <td>8</td>\n",
       "      <td>4</td>\n",
       "      <td>2</td>\n",
       "      <td>37</td>\n",
       "      <td>11</td>\n",
       "      <td>0.331600</td>\n",
       "      <td>0.000474</td>\n",
       "      <td>0.335587</td>\n",
       "      <td>0.001745</td>\n",
       "      <td>2</td>\n",
       "      <td>0.338847</td>\n",
       "      <td>0.379497</td>\n",
       "      <td>0.331882</td>\n",
       "      <td>0.328895</td>\n",
       "      <td>0.0</td>\n",
       "      <td>0.0</td>\n",
       "    </tr>\n",
       "  </tbody>\n",
       "</table>\n",
       "</div>"
      ],
      "text/plain": [
       "   playerShort  player  club  leagueCountry  birthday  height  weight  \\\n",
       "0            0     392    34              0       360   182.0    71.0   \n",
       "1            1     393    91              2       176   183.0    73.0   \n",
       "2            2     394    83              0       719   165.0    63.0   \n",
       "3            3     395     6              0      1199   178.0    76.0   \n",
       "4            4     396    51              1       758   180.0    73.0   \n",
       "\n",
       "   position  games  victories  ties  defeats  goals  yellowCards  yellowReds  \\\n",
       "0         1    654        247   179      228      9           19           0   \n",
       "1         0    336        141    73      122     62           42           0   \n",
       "2        11    412        200    97      115     31           11           0   \n",
       "3         3    260        150    42       68     39           31           0   \n",
       "4         1    124         41    40       43      1            8           4   \n",
       "\n",
       "   redCards  refCount  refCountryCount   meanIAT     seIAT   meanExp  \\\n",
       "0         0       166               37  0.346459  0.001505  0.494575   \n",
       "1         1        99               25  0.348818  0.000834  0.449220   \n",
       "2         0       101               28  0.345893  0.001113  0.491482   \n",
       "3         1       104               37  0.346821  0.003786  0.514693   \n",
       "4         2        37               11  0.331600  0.000474  0.335587   \n",
       "\n",
       "      seExp  color_rating  meanIAT_nIAT  meanExp_nExp  meanIAT_GameNbr  \\\n",
       "0  0.009691             1      0.328409      0.367721         0.333195   \n",
       "1  0.003823             2      0.329945      0.441615         0.341438   \n",
       "2  0.006350             2      0.328230      0.365628         0.332389   \n",
       "3  0.015240             1      0.327775      0.412859         0.336638   \n",
       "4  0.001745             2      0.338847      0.379497         0.331882   \n",
       "\n",
       "   meanExp_GameNbr  meanIAT_cards  meanExp_cards  \n",
       "0         0.400637            0.0            0.0  \n",
       "1         0.380811            0.0            0.0  \n",
       "2         0.399459            0.0            0.0  \n",
       "3         0.433294            0.0            0.0  \n",
       "4         0.328895            0.0            0.0  "
      ]
     },
     "execution_count": 163,
     "metadata": {},
     "output_type": "execute_result"
    }
   ],
   "source": [
    "data_agr = pd.read_csv('CrowdstormingDataJuly1st_aggregated_encoded.csv')\n",
    "data_agr.head()"
   ]
  },
  {
   "cell_type": "code",
   "execution_count": 164,
   "metadata": {
    "collapsed": false
   },
   "outputs": [
    {
     "data": {
      "text/plain": [
       "(1585, 29)"
      ]
     },
     "execution_count": 164,
     "metadata": {},
     "output_type": "execute_result"
    }
   ],
   "source": [
    "data_agr.shape"
   ]
  },
  {
   "cell_type": "markdown",
   "metadata": {},
   "source": [
    "We drop the features that are unique to the players and we normalize them. That way all the feautres will be in [-1;1]  "
   ]
  },
  {
   "cell_type": "code",
   "execution_count": 165,
   "metadata": {
    "collapsed": false
   },
   "outputs": [
    {
     "data": {
      "text/html": [
       "<div>\n",
       "<table border=\"1\" class=\"dataframe\">\n",
       "  <thead>\n",
       "    <tr style=\"text-align: right;\">\n",
       "      <th></th>\n",
       "      <th>club</th>\n",
       "      <th>leagueCountry</th>\n",
       "      <th>height</th>\n",
       "      <th>weight</th>\n",
       "      <th>position</th>\n",
       "      <th>games</th>\n",
       "      <th>victories</th>\n",
       "      <th>ties</th>\n",
       "      <th>defeats</th>\n",
       "      <th>goals</th>\n",
       "      <th>yellowCards</th>\n",
       "      <th>yellowReds</th>\n",
       "      <th>redCards</th>\n",
       "      <th>refCount</th>\n",
       "      <th>refCountryCount</th>\n",
       "      <th>meanIAT</th>\n",
       "      <th>seIAT</th>\n",
       "      <th>meanExp</th>\n",
       "      <th>seExp</th>\n",
       "      <th>meanIAT_nIAT</th>\n",
       "      <th>meanExp_nExp</th>\n",
       "      <th>meanIAT_GameNbr</th>\n",
       "      <th>meanExp_GameNbr</th>\n",
       "      <th>meanIAT_cards</th>\n",
       "      <th>meanExp_cards</th>\n",
       "    </tr>\n",
       "  </thead>\n",
       "  <tbody>\n",
       "    <tr>\n",
       "      <th>0</th>\n",
       "      <td>0.042452</td>\n",
       "      <td>0.000000</td>\n",
       "      <td>0.227245</td>\n",
       "      <td>0.088650</td>\n",
       "      <td>0.001249</td>\n",
       "      <td>0.816582</td>\n",
       "      <td>0.308403</td>\n",
       "      <td>0.223499</td>\n",
       "      <td>0.284680</td>\n",
       "      <td>0.011237</td>\n",
       "      <td>0.023723</td>\n",
       "      <td>0.000000</td>\n",
       "      <td>0.000000</td>\n",
       "      <td>0.207267</td>\n",
       "      <td>0.046198</td>\n",
       "      <td>0.000433</td>\n",
       "      <td>0.000002</td>\n",
       "      <td>0.000618</td>\n",
       "      <td>0.000012</td>\n",
       "      <td>0.000410</td>\n",
       "      <td>0.000459</td>\n",
       "      <td>0.000416</td>\n",
       "      <td>0.000500</td>\n",
       "      <td>0.0</td>\n",
       "      <td>0.0</td>\n",
       "    </tr>\n",
       "    <tr>\n",
       "      <th>1</th>\n",
       "      <td>0.195742</td>\n",
       "      <td>0.004302</td>\n",
       "      <td>0.393636</td>\n",
       "      <td>0.157024</td>\n",
       "      <td>0.000000</td>\n",
       "      <td>0.722741</td>\n",
       "      <td>0.303293</td>\n",
       "      <td>0.157024</td>\n",
       "      <td>0.262424</td>\n",
       "      <td>0.133363</td>\n",
       "      <td>0.090343</td>\n",
       "      <td>0.000000</td>\n",
       "      <td>0.002151</td>\n",
       "      <td>0.212951</td>\n",
       "      <td>0.053775</td>\n",
       "      <td>0.000750</td>\n",
       "      <td>0.000002</td>\n",
       "      <td>0.000966</td>\n",
       "      <td>0.000008</td>\n",
       "      <td>0.000710</td>\n",
       "      <td>0.000950</td>\n",
       "      <td>0.000734</td>\n",
       "      <td>0.000819</td>\n",
       "      <td>0.0</td>\n",
       "      <td>0.0</td>\n",
       "    </tr>\n",
       "    <tr>\n",
       "      <th>2</th>\n",
       "      <td>0.156118</td>\n",
       "      <td>0.000000</td>\n",
       "      <td>0.310356</td>\n",
       "      <td>0.118499</td>\n",
       "      <td>0.020690</td>\n",
       "      <td>0.774948</td>\n",
       "      <td>0.376189</td>\n",
       "      <td>0.182451</td>\n",
       "      <td>0.216308</td>\n",
       "      <td>0.058309</td>\n",
       "      <td>0.020690</td>\n",
       "      <td>0.000000</td>\n",
       "      <td>0.000000</td>\n",
       "      <td>0.189975</td>\n",
       "      <td>0.052666</td>\n",
       "      <td>0.000651</td>\n",
       "      <td>0.000002</td>\n",
       "      <td>0.000924</td>\n",
       "      <td>0.000012</td>\n",
       "      <td>0.000617</td>\n",
       "      <td>0.000688</td>\n",
       "      <td>0.000625</td>\n",
       "      <td>0.000751</td>\n",
       "      <td>0.0</td>\n",
       "      <td>0.0</td>\n",
       "    </tr>\n",
       "    <tr>\n",
       "      <th>3</th>\n",
       "      <td>0.015561</td>\n",
       "      <td>0.000000</td>\n",
       "      <td>0.461658</td>\n",
       "      <td>0.197112</td>\n",
       "      <td>0.007781</td>\n",
       "      <td>0.674331</td>\n",
       "      <td>0.389037</td>\n",
       "      <td>0.108930</td>\n",
       "      <td>0.176364</td>\n",
       "      <td>0.101150</td>\n",
       "      <td>0.080401</td>\n",
       "      <td>0.000000</td>\n",
       "      <td>0.002594</td>\n",
       "      <td>0.269733</td>\n",
       "      <td>0.095963</td>\n",
       "      <td>0.000900</td>\n",
       "      <td>0.000010</td>\n",
       "      <td>0.001335</td>\n",
       "      <td>0.000040</td>\n",
       "      <td>0.000850</td>\n",
       "      <td>0.001071</td>\n",
       "      <td>0.000873</td>\n",
       "      <td>0.001124</td>\n",
       "      <td>0.0</td>\n",
       "      <td>0.0</td>\n",
       "    </tr>\n",
       "    <tr>\n",
       "      <th>4</th>\n",
       "      <td>0.204141</td>\n",
       "      <td>0.004003</td>\n",
       "      <td>0.720498</td>\n",
       "      <td>0.292202</td>\n",
       "      <td>0.004003</td>\n",
       "      <td>0.496343</td>\n",
       "      <td>0.164113</td>\n",
       "      <td>0.160111</td>\n",
       "      <td>0.172119</td>\n",
       "      <td>0.004003</td>\n",
       "      <td>0.032022</td>\n",
       "      <td>0.016011</td>\n",
       "      <td>0.008006</td>\n",
       "      <td>0.148102</td>\n",
       "      <td>0.044030</td>\n",
       "      <td>0.001327</td>\n",
       "      <td>0.000002</td>\n",
       "      <td>0.001343</td>\n",
       "      <td>0.000007</td>\n",
       "      <td>0.001356</td>\n",
       "      <td>0.001519</td>\n",
       "      <td>0.001328</td>\n",
       "      <td>0.001316</td>\n",
       "      <td>0.0</td>\n",
       "      <td>0.0</td>\n",
       "    </tr>\n",
       "  </tbody>\n",
       "</table>\n",
       "</div>"
      ],
      "text/plain": [
       "       club  leagueCountry    height    weight  position     games  victories  \\\n",
       "0  0.042452       0.000000  0.227245  0.088650  0.001249  0.816582   0.308403   \n",
       "1  0.195742       0.004302  0.393636  0.157024  0.000000  0.722741   0.303293   \n",
       "2  0.156118       0.000000  0.310356  0.118499  0.020690  0.774948   0.376189   \n",
       "3  0.015561       0.000000  0.461658  0.197112  0.007781  0.674331   0.389037   \n",
       "4  0.204141       0.004003  0.720498  0.292202  0.004003  0.496343   0.164113   \n",
       "\n",
       "       ties   defeats     goals  yellowCards  yellowReds  redCards  refCount  \\\n",
       "0  0.223499  0.284680  0.011237     0.023723    0.000000  0.000000  0.207267   \n",
       "1  0.157024  0.262424  0.133363     0.090343    0.000000  0.002151  0.212951   \n",
       "2  0.182451  0.216308  0.058309     0.020690    0.000000  0.000000  0.189975   \n",
       "3  0.108930  0.176364  0.101150     0.080401    0.000000  0.002594  0.269733   \n",
       "4  0.160111  0.172119  0.004003     0.032022    0.016011  0.008006  0.148102   \n",
       "\n",
       "   refCountryCount   meanIAT     seIAT   meanExp     seExp  meanIAT_nIAT  \\\n",
       "0         0.046198  0.000433  0.000002  0.000618  0.000012      0.000410   \n",
       "1         0.053775  0.000750  0.000002  0.000966  0.000008      0.000710   \n",
       "2         0.052666  0.000651  0.000002  0.000924  0.000012      0.000617   \n",
       "3         0.095963  0.000900  0.000010  0.001335  0.000040      0.000850   \n",
       "4         0.044030  0.001327  0.000002  0.001343  0.000007      0.001356   \n",
       "\n",
       "   meanExp_nExp  meanIAT_GameNbr  meanExp_GameNbr  meanIAT_cards  \\\n",
       "0      0.000459         0.000416         0.000500            0.0   \n",
       "1      0.000950         0.000734         0.000819            0.0   \n",
       "2      0.000688         0.000625         0.000751            0.0   \n",
       "3      0.001071         0.000873         0.001124            0.0   \n",
       "4      0.001519         0.001328         0.001316            0.0   \n",
       "\n",
       "   meanExp_cards  \n",
       "0            0.0  \n",
       "1            0.0  \n",
       "2            0.0  \n",
       "3            0.0  \n",
       "4            0.0  "
      ]
     },
     "execution_count": 165,
     "metadata": {},
     "output_type": "execute_result"
    }
   ],
   "source": [
    "data_agr = data_agr.drop(['playerShort', 'player', 'birthday'], axis=1)\n",
    "data_train = data_agr.drop(['color_rating'], axis=1)\n",
    "colors = data_agr['color_rating']\n",
    "col = data_train.columns\n",
    "data_train = pd.DataFrame(pp.normalize(data_train))\n",
    "data_train.columns = col\n",
    "data_train.head()\n"
   ]
  },
  {
   "cell_type": "markdown",
   "metadata": {},
   "source": [
    "## KMeans"
   ]
  },
  {
   "cell_type": "code",
   "execution_count": 166,
   "metadata": {
    "collapsed": true
   },
   "outputs": [],
   "source": [
    "from sklearn import metrics\n",
    "from sklearn.cluster import KMeans"
   ]
  },
  {
   "cell_type": "code",
   "execution_count": 167,
   "metadata": {
    "collapsed": true
   },
   "outputs": [],
   "source": [
    "np.random.seed(1)\n",
    "nbr_class = 2"
   ]
  },
  {
   "cell_type": "markdown",
   "metadata": {
    "collapsed": true
   },
   "source": [
    "Since there are 5 variation of skin colors, we categorize the color_ratings as follows\n",
    "- 1,2: light\n",
    "- 3: neutral (fits both descriptions)\n",
    "- 4,5: dark"
   ]
  },
  {
   "cell_type": "code",
   "execution_count": 168,
   "metadata": {
    "collapsed": false
   },
   "outputs": [],
   "source": [
    "def wrong_pred(ratings, labels):\n",
    "#     ratings = data.color_rating\n",
    "    ratings = ratings.apply(lambda x: mapping(x))  \n",
    "    dif = np.abs(ratings - labels)\n",
    "    return (min(len(dif[dif==1]), len(dif[dif==0]))/len(labels))\n",
    "\n",
    "def mapping(x):\n",
    "    if (x < 3):\n",
    "        return 0\n",
    "    if (x == 3):\n",
    "        return 0.5\n",
    "    return 1\n",
    "def fit_data(data):\n",
    "    kmeans = KMeans(init='k-means++', n_clusters=nbr_class, n_init=1)\n",
    "    kmeans.fit(data)\n",
    "    silhouette = metrics.silhouette_score(data, kmeans.labels_, metric='euclidean')\n",
    "    skin = wrong_pred(colors, kmeans.labels_)\n",
    "    return silhouette, skin\n",
    "        "
   ]
  },
  {
   "cell_type": "code",
   "execution_count": 169,
   "metadata": {
    "collapsed": false,
    "scrolled": true
   },
   "outputs": [
    {
     "name": "stdout",
     "output_type": "stream",
     "text": [
      "worst feature is club without it silhouette is 0.464438200471\n",
      "dark_light prediction made 0.3419558359621451 wrong prediction\n",
      "Remaining columns:  Index(['leagueCountry', 'height', 'weight', 'position', 'games', 'victories',\n",
      "       'ties', 'defeats', 'goals', 'yellowCards', 'yellowReds', 'redCards',\n",
      "       'refCount', 'refCountryCount', 'meanIAT', 'seIAT', 'meanExp', 'seExp',\n",
      "       'meanIAT_nIAT', 'meanExp_nExp', 'meanIAT_GameNbr', 'meanExp_GameNbr',\n",
      "       'meanIAT_cards', 'meanExp_cards'],\n",
      "      dtype='object')\n",
      "\n",
      "worst feature is goals without it silhouette is 0.487979829928\n",
      "dark_light prediction made 0.34321766561514194 wrong prediction\n",
      "Remaining columns:  Index(['leagueCountry', 'height', 'weight', 'position', 'games', 'victories',\n",
      "       'ties', 'defeats', 'yellowCards', 'yellowReds', 'redCards', 'refCount',\n",
      "       'refCountryCount', 'meanIAT', 'seIAT', 'meanExp', 'seExp',\n",
      "       'meanIAT_nIAT', 'meanExp_nExp', 'meanIAT_GameNbr', 'meanExp_GameNbr',\n",
      "       'meanIAT_cards', 'meanExp_cards'],\n",
      "      dtype='object')\n",
      "\n",
      "worst feature is refCount without it silhouette is 0.502903450088\n",
      "dark_light prediction made 0.35205047318611987 wrong prediction\n",
      "Remaining columns:  Index(['leagueCountry', 'height', 'weight', 'position', 'games', 'victories',\n",
      "       'ties', 'defeats', 'yellowCards', 'yellowReds', 'redCards',\n",
      "       'refCountryCount', 'meanIAT', 'seIAT', 'meanExp', 'seExp',\n",
      "       'meanIAT_nIAT', 'meanExp_nExp', 'meanIAT_GameNbr', 'meanExp_GameNbr',\n",
      "       'meanIAT_cards', 'meanExp_cards'],\n",
      "      dtype='object')\n",
      "\n",
      "worst feature is victories without it silhouette is 0.519738504324\n",
      "dark_light prediction made 0.34574132492113563 wrong prediction\n",
      "Remaining columns:  Index(['leagueCountry', 'height', 'weight', 'position', 'games', 'ties',\n",
      "       'defeats', 'yellowCards', 'yellowReds', 'redCards', 'refCountryCount',\n",
      "       'meanIAT', 'seIAT', 'meanExp', 'seExp', 'meanIAT_nIAT', 'meanExp_nExp',\n",
      "       'meanIAT_GameNbr', 'meanExp_GameNbr', 'meanIAT_cards', 'meanExp_cards'],\n",
      "      dtype='object')\n",
      "\n",
      "worst feature is height without it silhouette is 0.540735526943\n",
      "dark_light prediction made 0.289589905362776 wrong prediction\n",
      "Remaining columns:  Index(['leagueCountry', 'weight', 'position', 'games', 'ties', 'defeats',\n",
      "       'yellowCards', 'yellowReds', 'redCards', 'refCountryCount', 'meanIAT',\n",
      "       'seIAT', 'meanExp', 'seExp', 'meanIAT_nIAT', 'meanExp_nExp',\n",
      "       'meanIAT_GameNbr', 'meanExp_GameNbr', 'meanIAT_cards', 'meanExp_cards'],\n",
      "      dtype='object')\n",
      "\n",
      "worst feature is yellowCards without it silhouette is 0.558427687426\n",
      "dark_light prediction made 0.3041009463722397 wrong prediction\n",
      "Remaining columns:  Index(['leagueCountry', 'weight', 'position', 'games', 'ties', 'defeats',\n",
      "       'yellowReds', 'redCards', 'refCountryCount', 'meanIAT', 'seIAT',\n",
      "       'meanExp', 'seExp', 'meanIAT_nIAT', 'meanExp_nExp', 'meanIAT_GameNbr',\n",
      "       'meanExp_GameNbr', 'meanIAT_cards', 'meanExp_cards'],\n",
      "      dtype='object')\n",
      "\n",
      "worst feature is defeats without it silhouette is 0.584674035386\n",
      "dark_light prediction made 0.3034700315457413 wrong prediction\n",
      "Remaining columns:  Index(['leagueCountry', 'weight', 'position', 'games', 'ties', 'yellowReds',\n",
      "       'redCards', 'refCountryCount', 'meanIAT', 'seIAT', 'meanExp', 'seExp',\n",
      "       'meanIAT_nIAT', 'meanExp_nExp', 'meanIAT_GameNbr', 'meanExp_GameNbr',\n",
      "       'meanIAT_cards', 'meanExp_cards'],\n",
      "      dtype='object')\n",
      "\n",
      "worst feature is weight without it silhouette is 0.609614340767\n",
      "dark_light prediction made 0.289589905362776 wrong prediction\n",
      "Remaining columns:  Index(['leagueCountry', 'position', 'games', 'ties', 'yellowReds', 'redCards',\n",
      "       'refCountryCount', 'meanIAT', 'seIAT', 'meanExp', 'seExp',\n",
      "       'meanIAT_nIAT', 'meanExp_nExp', 'meanIAT_GameNbr', 'meanExp_GameNbr',\n",
      "       'meanIAT_cards', 'meanExp_cards'],\n",
      "      dtype='object')\n",
      "\n",
      "worst feature is refCountryCount without it silhouette is 0.626552800478\n",
      "dark_light prediction made 0.2921135646687697 wrong prediction\n",
      "Remaining columns:  Index(['leagueCountry', 'position', 'games', 'ties', 'yellowReds', 'redCards',\n",
      "       'meanIAT', 'seIAT', 'meanExp', 'seExp', 'meanIAT_nIAT', 'meanExp_nExp',\n",
      "       'meanIAT_GameNbr', 'meanExp_GameNbr', 'meanIAT_cards', 'meanExp_cards'],\n",
      "      dtype='object')\n",
      "\n",
      "worst feature is ties without it silhouette is 0.644989164786\n",
      "dark_light prediction made 0.28264984227129336 wrong prediction\n",
      "Remaining columns:  Index(['leagueCountry', 'position', 'games', 'yellowReds', 'redCards',\n",
      "       'meanIAT', 'seIAT', 'meanExp', 'seExp', 'meanIAT_nIAT', 'meanExp_nExp',\n",
      "       'meanIAT_GameNbr', 'meanExp_GameNbr', 'meanIAT_cards', 'meanExp_cards'],\n",
      "      dtype='object')\n",
      "\n",
      "worst feature is position without it silhouette is 0.650508530553\n",
      "dark_light prediction made 0.28264984227129336 wrong prediction\n",
      "Remaining columns:  Index(['leagueCountry', 'games', 'yellowReds', 'redCards', 'meanIAT', 'seIAT',\n",
      "       'meanExp', 'seExp', 'meanIAT_nIAT', 'meanExp_nExp', 'meanIAT_GameNbr',\n",
      "       'meanExp_GameNbr', 'meanIAT_cards', 'meanExp_cards'],\n",
      "      dtype='object')\n",
      "\n",
      "worst feature is leagueCountry without it silhouette is 0.651245930215\n",
      "dark_light prediction made 0.28264984227129336 wrong prediction\n",
      "Remaining columns:  Index(['games', 'yellowReds', 'redCards', 'meanIAT', 'seIAT', 'meanExp',\n",
      "       'seExp', 'meanIAT_nIAT', 'meanExp_nExp', 'meanIAT_GameNbr',\n",
      "       'meanExp_GameNbr', 'meanIAT_cards', 'meanExp_cards'],\n",
      "      dtype='object')\n",
      "\n",
      "worst feature is yellowReds without it silhouette is 0.652011495717\n",
      "dark_light prediction made 0.28264984227129336 wrong prediction\n",
      "Remaining columns:  Index(['games', 'redCards', 'meanIAT', 'seIAT', 'meanExp', 'seExp',\n",
      "       'meanIAT_nIAT', 'meanExp_nExp', 'meanIAT_GameNbr', 'meanExp_GameNbr',\n",
      "       'meanIAT_cards', 'meanExp_cards'],\n",
      "      dtype='object')\n",
      "\n",
      "worst feature is redCards without it silhouette is 0.652744348042\n",
      "dark_light prediction made 0.28264984227129336 wrong prediction\n",
      "Remaining columns:  Index(['games', 'meanIAT', 'seIAT', 'meanExp', 'seExp', 'meanIAT_nIAT',\n",
      "       'meanExp_nExp', 'meanIAT_GameNbr', 'meanExp_GameNbr', 'meanIAT_cards',\n",
      "       'meanExp_cards'],\n",
      "      dtype='object')\n",
      "\n",
      "worst feature is meanExp_cards without it silhouette is 0.652867697537\n",
      "dark_light prediction made 0.28264984227129336 wrong prediction\n",
      "Remaining columns:  Index(['games', 'meanIAT', 'seIAT', 'meanExp', 'seExp', 'meanIAT_nIAT',\n",
      "       'meanExp_nExp', 'meanIAT_GameNbr', 'meanExp_GameNbr', 'meanIAT_cards'],\n",
      "      dtype='object')\n",
      "\n",
      "worst feature is meanIAT_cards without it silhouette is 0.653079319035\n",
      "dark_light prediction made 0.28201892744479495 wrong prediction\n",
      "Remaining columns:  Index(['games', 'meanIAT', 'seIAT', 'meanExp', 'seExp', 'meanIAT_nIAT',\n",
      "       'meanExp_nExp', 'meanIAT_GameNbr', 'meanExp_GameNbr'],\n",
      "      dtype='object')\n",
      "\n",
      "worst feature is meanExp_GameNbr without it silhouette is 0.653093600543\n",
      "dark_light prediction made 0.28201892744479495 wrong prediction\n",
      "Remaining columns:  Index(['games', 'meanIAT', 'seIAT', 'meanExp', 'seExp', 'meanIAT_nIAT',\n",
      "       'meanExp_nExp', 'meanIAT_GameNbr'],\n",
      "      dtype='object')\n",
      "\n",
      "worst feature is meanIAT_GameNbr without it silhouette is 0.653095209226\n",
      "dark_light prediction made 0.28201892744479495 wrong prediction\n",
      "Remaining columns:  Index(['games', 'meanIAT', 'seIAT', 'meanExp', 'seExp', 'meanIAT_nIAT',\n",
      "       'meanExp_nExp'],\n",
      "      dtype='object')\n",
      "\n",
      "worst feature is meanIAT_nIAT without it silhouette is 0.6530967906\n",
      "dark_light prediction made 0.28201892744479495 wrong prediction\n",
      "Remaining columns:  Index(['games', 'meanIAT', 'seIAT', 'meanExp', 'seExp', 'meanExp_nExp'], dtype='object')\n",
      "\n",
      "worst feature is meanExp without it silhouette is 0.653110150834\n",
      "dark_light prediction made 0.28201892744479495 wrong prediction\n",
      "Remaining columns:  Index(['games', 'meanIAT', 'seIAT', 'seExp', 'meanExp_nExp'], dtype='object')\n",
      "\n",
      "worst feature is meanExp_nExp without it silhouette is 0.653120325209\n",
      "dark_light prediction made 0.28201892744479495 wrong prediction\n",
      "Remaining columns:  Index(['games', 'meanIAT', 'seIAT', 'seExp'], dtype='object')\n",
      "\n",
      "worst feature is seExp without it silhouette is 0.653120358209\n",
      "dark_light prediction made 0.28201892744479495 wrong prediction\n",
      "Remaining columns:  Index(['games', 'meanIAT', 'seIAT'], dtype='object')\n",
      "\n",
      "worst feature is meanIAT without it silhouette is 0.652974259797\n",
      "dark_light prediction made 0.28264984227129336 wrong prediction\n",
      "Remaining columns:  Index(['games', 'seIAT'], dtype='object')\n",
      "\n",
      "worst feature is games without it silhouette is 0.871712530924\n",
      "dark_light prediction made 0.15205047318611986 wrong prediction\n",
      "Remaining columns:  Index(['seIAT'], dtype='object')\n",
      "\n",
      "Index(['seIAT'], dtype='object')\n",
      "[0.46443820047124929, 0.48797982992770428, 0.50290345008785997, 0.51973850432385538, 0.54073552694330607, 0.55842768742572502, 0.58467403538601748, 0.60961434076747356, 0.62655280047839168, 0.64498916478604162, 0.65050853055293023, 0.65124593021462407, 0.65201149571673711, 0.65274434804150616, 0.65286769753743135, 0.65307931903543159, 0.65309360054323062, 0.65309520922635478, 0.65309679059997761, 0.65311015083445756, 0.65312032520939889, 0.65312035820873504, 0.6529742597971977, 0.87171253092383649]\n",
      "0.15205047318611986\n"
     ]
    }
   ],
   "source": [
    "# iteratively drop feature that has the lowest silhouette score\n",
    "\n",
    "silhouettes_scores = []\n",
    "skin_scores = []\n",
    "number_features = data_train.columns\n",
    "d = data_train\n",
    "globalbest = -1\n",
    "while (len(d.columns) > 1):\n",
    "    current_best = -1\n",
    "    for feature in d:\n",
    "        data_temp = d.drop([feature], axis=1)\n",
    "        silhouette, skin = fit_data(data_temp)\n",
    "        if (silhouette > current_best):\n",
    "            current_best = silhouette\n",
    "            current_skin = skin\n",
    "            worst_feature = feature\n",
    "        if(silhouette > globalbest):\n",
    "            globalbest = silhouette\n",
    "#             print('new best ' + str(score))\n",
    "    silhouettes_scores.append(current_best)\n",
    "    skin_scores.append(current_skin)\n",
    "    print('worst feature is ' + worst_feature + ' without it silhouette is ' + str(current_best))\n",
    "    print('dark_light prediction made ' + str(current_skin) + ' wrong prediction' )\n",
    "    print('Remaining columns: ', d.drop([worst_feature], axis=1).columns)\n",
    "    print('')\n",
    "    d = d.drop([worst_feature], axis=1)\n",
    "print(d.columns)\n",
    "print(silhouettes_scores)\n",
    "print(current_skin)\n",
    "    "
   ]
  },
  {
   "cell_type": "code",
   "execution_count": 16,
   "metadata": {
    "collapsed": false
   },
   "outputs": [
    {
     "data": {
      "text/plain": [
       "<matplotlib.legend.Legend at 0x1043d6f60>"
      ]
     },
     "execution_count": 16,
     "metadata": {},
     "output_type": "execute_result"
    },
    {
     "data": {
      "image/png": "[encoded data removed]",
      "text/plain": [
       "<matplotlib.figure.Figure at 0x116d3c7f0>"
      ]
     },
     "metadata": {},
     "output_type": "display_data"
    }
   ],
   "source": [
    "plt.plot( silhouettes_scores, label='silhouette')\n",
    "plt.plot( skin_scores, label = 'skin score')\n",
    "plt.xlabel('Number of features')\n",
    "plt.legend()"
   ]
  },
  {
   "cell_type": "markdown",
   "metadata": {},
   "source": [
    "# Observation of the results"
   ]
  },
  {
   "cell_type": "markdown",
   "metadata": {},
   "source": [
    "We have seen that the best combinations of features that get the best silhouette score is: **[setIAT]** alone Remember that **setIAT** is the mean of the standard error of each entries in the groupdby. Its corresponding silhouette score is around **0.90** that is a very high score (the best one is 1). It means that if we plot according to this features we should have 2 really strong communities. \n",
    "\n",
    "We have also seen that the error of classification decrease when the silhouette score increase and when we only keep setIAT we get an accuracy of 85% which can seem very good. It could mean that the clustering of kmean is made based on the color skin. But we have to investigate a bit more the result to take such conclusions"
   ]
  },
  {
   "cell_type": "markdown",
   "metadata": {},
   "source": [
    "First we must observe the cluster based on setIAT. So first we clusterise using only **seIAT**"
   ]
  },
  {
   "cell_type": "code",
   "execution_count": 178,
   "metadata": {
    "collapsed": false
   },
   "outputs": [],
   "source": [
    "kmeans = KMeans(init='k-means++', n_clusters=2, n_init=1)\n",
    "kmeans.fit(data_agr.seIAT.to_frame())\n",
    "labels = kmeans.labels_"
   ]
  },
  {
   "cell_type": "markdown",
   "metadata": {},
   "source": [
    "Then we plot the point according to seIAT with the center of the 2 clusters:\n",
    "    - in white the points of the cluster 0 with the center in red\n",
    "    - in black the points of the cluster 1 with the center in green"
   ]
  },
  {
   "cell_type": "code",
   "execution_count": 241,
   "metadata": {
    "collapsed": false
   },
   "outputs": [
    {
     "data": {
      "text/plain": [
       "<matplotlib.text.Text at 0x124651940>"
      ]
     },
     "execution_count": 241,
     "metadata": {},
     "output_type": "execute_result"
    },
    {
     "data": {
      "image/png": "[encoded data removed]",
      "text/plain": [
       "<matplotlib.figure.Figure at 0x12465afd0>"
      ]
     },
     "metadata": {},
     "output_type": "display_data"
    }
   ],
   "source": [
    "plt.scatter(data_agr.seIAT, data_agr.seIAT,c = labels)\n",
    "plt.scatter(kmeans.cluster_centers_, kmeans.cluster_centers_, c = ['r', 'g'], s=100)\n",
    "plt.title('Clustering based on seIAT')\n",
    "plt.ylabel('seIAT')\n",
    "plt.xlabel('seIAT')"
   ]
  },
  {
   "cell_type": "markdown",
   "metadata": {},
   "source": [
    "So first of all we can see that have \"separate cluster\". But it's not clear at all that we this 2 cluster return a silhouette score of 0.96. Let's rememenber what is the silhouette score (according to the documentation of sklearn): \n",
    "\n",
    "    -The Silhouette Coefficient is calculated using the mean intra-cluster distance (a) and the mean nearest-cluster distance (b) for each sample. The Silhouette Coefficient for a sample is (b - a) / max(a, b). To clarify, b is the distance between a sample and the nearest cluster that the sample is not a part of. Note that Silhouette Coefficent is only defined if number of labels is 2 <= n_labels <= n_samples - 1.\n",
    " \n",
    "We can see that SC (silhouette score) is maximum when $\\frac{b-a}{max(a,b)} = 1$. It can only happen when $a = 0$ and $b>0$. If $a=0$, it's mean that the mean intra-cluster distance is 0. It doesn't look that way when we just see the graph above.\n",
    "\n",
    "With this graph it's not possible to see the concentration of point in each cluster. So let's plot an histogram to see the distribution of each cluster\n",
    "    "
   ]
  },
  {
   "cell_type": "code",
   "execution_count": 147,
   "metadata": {
    "collapsed": false
   },
   "outputs": [
    {
     "name": "stdout",
     "output_type": "stream",
     "text": [
      "Number of elements in cluster 0: 1501  (94.70%)\n",
      "Number of elements in cluster 0: 84  (5.30%)\n"
     ]
    },
    {
     "data": {
      "image/png": "[encoded data removed]",
      "text/plain": [
       "<matplotlib.figure.Figure at 0x125706c50>"
      ]
     },
     "metadata": {},
     "output_type": "display_data"
    }
   ],
   "source": [
    "plt.figure(figsize=(2,2))\n",
    "plt.hist(labels)\n",
    "print('Number of elements in cluster 0: {}  ({:.2f}%)'.format(len(labels[labels == 0]) ,len(labels[labels == 0]) / len(labels) * 100))\n",
    "print('Number of elements in cluster 0: {}  ({:.2f}%)'.format(len(labels[labels == 1]) ,len(labels[labels == 1]) / len(labels) * 100))\n"
   ]
  },
  {
   "cell_type": "markdown",
   "metadata": {},
   "source": [
    "Ok so almost all the point are in the cluster 0"
   ]
  },
  {
   "cell_type": "markdown",
   "metadata": {},
   "source": [
    "Now have a look at the distribution of the point in the cluster 0"
   ]
  },
  {
   "cell_type": "code",
   "execution_count": 150,
   "metadata": {
    "collapsed": false
   },
   "outputs": [
    {
     "data": {
      "text/plain": [
       "(array([ 642.,  339.,   84.,  111.,  159.,   80.,   54.,   15.,    8.,    9.]),\n",
       " array([  7.02836736e-06,   2.40494066e-04,   4.73959764e-04,\n",
       "          7.07425462e-04,   9.40891160e-04,   1.17435686e-03,\n",
       "          1.40782256e-03,   1.64128826e-03,   1.87475395e-03,\n",
       "          2.10821965e-03,   2.34168535e-03]),\n",
       " <a list of 10 Patch objects>)"
      ]
     },
     "execution_count": 150,
     "metadata": {},
     "output_type": "execute_result"
    },
    {
     "data": {
      "image/png": "[encoded data removed]",
      "text/plain": [
       "<matplotlib.figure.Figure at 0x12535be80>"
      ]
     },
     "metadata": {},
     "output_type": "display_data"
    }
   ],
   "source": [
    "plt.figure(figsize=(4,4))\n",
    "plt.hist(data_agr[labels == 0].seIAT)"
   ]
  },
  {
   "cell_type": "markdown",
   "metadata": {},
   "source": [
    "We have a lot of point concentrate close to 0. Let's see what is the value of the center of the cluster 0:\n",
    "   "
   ]
  },
  {
   "cell_type": "code",
   "execution_count": 154,
   "metadata": {
    "collapsed": false
   },
   "outputs": [
    {
     "data": {
      "text/plain": [
       "array([ 0.0005004])"
      ]
     },
     "execution_count": 154,
     "metadata": {},
     "output_type": "execute_result"
    }
   ],
   "source": [
    "kmeans.cluster_centers_[0]"
   ]
  },
  {
   "cell_type": "markdown",
   "metadata": {},
   "source": [
    "Almost all the points are close to the center so the cluster 0 is almost represented by one point then this is why we have such a high silhouette score"
   ]
  },
  {
   "cell_type": "markdown",
   "metadata": {},
   "source": [
    "## Accuracy"
   ]
  },
  {
   "cell_type": "markdown",
   "metadata": {},
   "source": [
    "Now have a look at the accuracy that seems pretty good"
   ]
  },
  {
   "cell_type": "code",
   "execution_count": 240,
   "metadata": {
    "collapsed": false
   },
   "outputs": [
    {
     "name": "stdout",
     "output_type": "stream",
     "text": [
      "Arruracy: 85.30 %\n"
     ]
    }
   ],
   "source": [
    "colors = data_agr.color_rating\n",
    "print('Arruracy: {:.2f} %'.format( 100- wrong_pred(colors, labels) * 100))"
   ]
  },
  {
   "cell_type": "markdown",
   "metadata": {},
   "source": [
    "Remember that we assume that a player with color rating N (value 3 in our case) cannot be misclusterised since we can't determined if it is more white or more black'. So let's see the distribution of white, neutral and black people"
   ]
  },
  {
   "cell_type": "code",
   "execution_count": 248,
   "metadata": {
    "collapsed": false
   },
   "outputs": [
    {
     "name": "stdout",
     "output_type": "stream",
     "text": [
      "Proportion of White: 74.95%\n",
      "Proportion of Neutral: 9.40%\n",
      "Proportion of Black: 15.65%\n"
     ]
    },
    {
     "data": {
      "image/png": "[encoded data removed]",
      "text/plain": [
       "<matplotlib.figure.Figure at 0x123fa7f60>"
      ]
     },
     "metadata": {},
     "output_type": "display_data"
    }
   ],
   "source": [
    "colors3 = colors.apply(lambda x: mapping(x))\n",
    "plt.hist(colors3)\n",
    "print('Proportion of White: {:.2f}%'.format(len(colors3[colors3==0]) / len(colors3) * 100))\n",
    "print('Proportion of Neutral: {:.2f}%'.format(len(colors3[colors3==0.5]) / len(colors3) * 100))\n",
    "print('Proportion of Black: {:.2f}%'.format(len(colors3[colors3==1]) / len(colors3) * 100))"
   ]
  },
  {
   "cell_type": "markdown",
   "metadata": {},
   "source": [
    "So now imagine a clustering methods that create 2 clusters, 1 cluster White with all player and one empty cluster Black. The accuracy of will be : 85% (74.95 + 9.40). So the same accuracy that kmeans return us"
   ]
  },
  {
   "cell_type": "markdown",
   "metadata": {},
   "source": [
    "# Conclusion"
   ]
  },
  {
   "cell_type": "markdown",
   "metadata": {},
   "source": [
    "Even if the silhouette score is high (close to 0.9) and the accuracy of this clustering is 85% we can not say that kmeans clusterised the player according to the color skin since a constant method (as explain above) will achieve the same accuracy. Actually it is almost what did Kmeans since as seen be"
   ]
  },
  {
   "cell_type": "code",
   "execution_count": null,
   "metadata": {
    "collapsed": true
   },
   "outputs": [],
   "source": []
  }
 ],
 "metadata": {
  "anaconda-cloud": {},
  "kernelspec": {
   "display_name": "Python [default]",
   "language": "python",
   "name": "python3"
  },
  "language_info": {
   "codemirror_mode": {
    "name": "ipython",
    "version": 3
   },
   "file_extension": ".py",
   "mimetype": "text/x-python",
   "name": "python",
   "nbconvert_exporter": "python",
   "pygments_lexer": "ipython3",
   "version": "3.5.2"
  }
 },
 "nbformat": 4,
 "nbformat_minor": 1
}
